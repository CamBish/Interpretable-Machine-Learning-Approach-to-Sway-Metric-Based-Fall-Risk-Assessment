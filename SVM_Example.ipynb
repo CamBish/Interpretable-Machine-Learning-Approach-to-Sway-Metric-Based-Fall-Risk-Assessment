{
 "cells": [
  {
   "cell_type": "markdown",
   "metadata": {},
   "source": [
    "# Load Kinecal Data ELEC872 Project\n",
    "### Leonard Moen | November 16th 2022"
   ]
  },
  {
   "cell_type": "code",
   "execution_count": 38,
   "metadata": {},
   "outputs": [
    {
     "data": {
      "text/plain": [
       "<module 'models' from 'c:\\\\Users\\\\camb7\\\\Code Repositories\\\\KINECAL Balance Assessment\\\\KINECAL-Balance-Assessment\\\\models.py'>"
      ]
     },
     "execution_count": 38,
     "metadata": {},
     "output_type": "execute_result"
    }
   ],
   "source": [
    "import pandas as pd\n",
    "import numpy as np\n",
    "import os\n",
    "import importlib\n",
    "import matplotlib.pyplot as plt\n",
    "import seaborn as sns\n",
    "\n",
    "import xgboost\n",
    "from sklearn.model_selection import train_test_split, GridSearchCV\n",
    "from sklearn.preprocessing import label_binarize, LabelEncoder #Standardization and conversion of categorical labels to binary representation\n",
    "from sklearn.metrics import confusion_matrix, ConfusionMatrixDisplay, accuracy_score, classification_report, plot_roc_curve\n",
    "\n",
    "import LoadKinecalFunctions\n",
    "from LoadKinecalFunctions import *\n",
    "importlib.reload(LoadKinecalFunctions)\n",
    "from const import User, Exercise\n",
    "import models\n",
    "from models import *\n",
    "importlib.reload(models)\n",
    "\n"
   ]
  },
  {
   "cell_type": "code",
   "execution_count": 39,
   "metadata": {},
   "outputs": [],
   "source": [
    "user = User.CD\n",
    "excerciseList = [Exercise.QSECFS, Exercise.QSEOFS, Exercise.STS, Exercise.TS]\n",
    "\n",
    "QSClosedDf = readKinecalFiles(excerciseList[0],user) \n",
    "QSOpenDf = readKinecalFiles(excerciseList[1],user) \n",
    "SemiTandemDf = readKinecalFiles(excerciseList[2],user) \n",
    "TandemDf = readKinecalFiles(excerciseList[3],user) \n",
    "\n"
   ]
  },
  {
   "cell_type": "markdown",
   "metadata": {},
   "source": [
    "### Seperate X and Y Dataframes"
   ]
  },
  {
   "cell_type": "code",
   "execution_count": 40,
   "metadata": {},
   "outputs": [
    {
     "name": "stdout",
     "output_type": "stream",
     "text": [
      "   part_id group sex  height  weight   BMI recorded_in_the_lab  \\\n",
      "0       10    HA   m    1.85    77.0  22.5                   1   \n",
      "1      100    NF   f    1.55    82.5  34.3                   1   \n",
      "2       11    HA   f    1.57    51.5  20.9                   1   \n",
      "3       12    HA   m    1.64    68.5  25.5                   1   \n",
      "4       13    HA   m    1.78    85.0  26.8                   1   \n",
      "..     ...   ...  ..     ...     ...   ...                 ...   \n",
      "85      84   FHm   f    1.56    60.0  24.7                   0   \n",
      "86      87   FHs   f    1.60    77.1  30.1                   0   \n",
      "87       9    HA   m    1.69    75.0  26.3                   1   \n",
      "88      92    NF   m    1.83    97.0  29.0                   0   \n",
      "89      96   FHs   m    1.78    81.2  25.6                   0   \n",
      "\n",
      "   clinically_at_risk  \n",
      "0                   0  \n",
      "1                   0  \n",
      "2                   0  \n",
      "3                   0  \n",
      "4                   0  \n",
      "..                ...  \n",
      "85                  0  \n",
      "86                  1  \n",
      "87                  0  \n",
      "88                  0  \n",
      "89                  0  \n",
      "\n",
      "[90 rows x 8 columns]\n"
     ]
    }
   ],
   "source": [
    "yDf = QSClosedDf.iloc[:,0:9]\n",
    "yDf = yDf.drop(columns='movement')\n",
    "\n",
    "QSClosedXDf =QSClosedDf.iloc[: ,9:-1]\n",
    "QSOpenXDf =QSOpenDf.iloc[: ,9:-1]\n",
    "SemiTandemXDf =SemiTandemDf.iloc[: ,9:-1]\n",
    "TandemXDf =TandemDf.iloc[: ,9:-1]\n",
    "\n",
    "print(yDf)"
   ]
  },
  {
   "cell_type": "markdown",
   "metadata": {},
   "source": [
    "### Replace Missing Data With Mean of That Class"
   ]
  },
  {
   "cell_type": "code",
   "execution_count": 41,
   "metadata": {},
   "outputs": [
    {
     "name": "stdout",
     "output_type": "stream",
     "text": [
      "[ 2 14 15]\n",
      "[ 2 17 29 34 71]\n",
      "[ 2 14 17 31 33 60 66]\n",
      "[13 14 17 29 31 33 36 37 55 60 66 74 77]\n"
     ]
    }
   ],
   "source": [
    "QSClosedXDf = replaceMissingValues(QSClosedXDf,yDf)\n",
    "QSOpenXDf = replaceMissingValues(QSOpenXDf,yDf)\n",
    "SemiTandemXDf = replaceMissingValues(SemiTandemXDf,yDf)\n",
    "TandemXDf = replaceMissingValues(TandemXDf,yDf)\n"
   ]
  },
  {
   "cell_type": "markdown",
   "metadata": {},
   "source": [
    "### Perform Sample Normalization"
   ]
  },
  {
   "cell_type": "code",
   "execution_count": 42,
   "metadata": {},
   "outputs": [],
   "source": [
    "#print(np.asarray(QS_Closed_x_df.iloc[0,:].values))\n",
    "QSClosedXNormDf = datasetNormalization(QSClosedXDf)\n",
    "QSOpenXNormDf = datasetNormalization(QSOpenXDf)\n",
    "SemiTandemXNormDf = datasetNormalization(SemiTandemXDf)\n",
    "TandemXNormDf = datasetNormalization(TandemXDf)"
   ]
  },
  {
   "cell_type": "markdown",
   "metadata": {},
   "source": [
    "### Combine Excercises Into One Dataset"
   ]
  },
  {
   "cell_type": "code",
   "execution_count": 43,
   "metadata": {},
   "outputs": [
    {
     "name": "stdout",
     "output_type": "stream",
     "text": [
      "(90, 16) (90, 16) (90, 16) (90, 16)\n",
      "(90, 64)\n"
     ]
    }
   ],
   "source": [
    "print(QSClosedXNormDf.shape,QSOpenXNormDf.shape,SemiTandemXNormDf.shape,TandemXNormDf.shape)\n",
    "combinedXNormDf = pd.concat([QSClosedXNormDf,QSOpenXNormDf,SemiTandemXNormDf,TandemXDf],axis=1)\n",
    "print(combinedXNormDf.shape)"
   ]
  },
  {
   "cell_type": "markdown",
   "metadata": {},
   "source": [
    "### Seperate Into Training and Testing Sets"
   ]
  },
  {
   "cell_type": "code",
   "execution_count": 44,
   "metadata": {},
   "outputs": [
    {
     "name": "stdout",
     "output_type": "stream",
     "text": [
      "   part_id group sex  height  weight   BMI recorded_in_the_lab  \\\n",
      "40     400   FHs   f    1.73    66.7  22.3                   0   \n",
      "22     300    HA   f    1.57    49.8  20.2                   0   \n",
      "55      48    NF   m    1.70    73.4  25.4                   0   \n",
      "70      68    NF   f    1.68    69.0  24.4                   0   \n",
      "0       10    HA   m    1.85    77.0  22.5                   1   \n",
      "26     304   FHs   f    1.63    60.3  22.7                   0   \n",
      "39      40   FHs   m    1.90   102.5  28.4                   0   \n",
      "65      61    NF   m    1.73    65.3  21.8                   0   \n",
      "10      19    HA   m    1.78    79.0  24.9                   1   \n",
      "44     404   FHm   f    1.57    63.0  25.6                   0   \n",
      "81      73    NF   m    1.78    69.8  22.0                   0   \n",
      "35     313    NF   f    1.73    75.0  25.1                   0   \n",
      "56       5    HA   m    1.75    70.0  22.9                   1   \n",
      "86      87   FHs   f    1.60    77.1  30.1                   0   \n",
      "12      20    HA   m    1.66    60.0  21.8                   1   \n",
      "4       13    HA   m    1.78    85.0  26.8                   1   \n",
      "18      24    HA   f    1.57    73.0  29.6                   0   \n",
      "28     306    HA   m    1.78    70.7  22.3                   0   \n",
      "\n",
      "   clinically_at_risk  \n",
      "40                  0  \n",
      "22                  0  \n",
      "55                  0  \n",
      "70                  0  \n",
      "0                   0  \n",
      "26                  0  \n",
      "39                  0  \n",
      "65                  0  \n",
      "10                  0  \n",
      "44                  0  \n",
      "81                  0  \n",
      "35                  0  \n",
      "56                  0  \n",
      "86                  1  \n",
      "12                  0  \n",
      "4                   0  \n",
      "18                  0  \n",
      "28                  0  \n"
     ]
    }
   ],
   "source": [
    "xTrain, xTest, yTrain, yTest = train_test_split(combinedXNormDf, yDf, test_size=0.2, random_state=42)\n",
    "\n",
    "# labelTrain = label_binarize(yTrain.group, classes = ['HA','NF','FHs','FHm'])\n",
    "# labelTest = label_binarize(yTest.group, classes = ['HA','NF','FHs','FHm'])\n",
    "# print(labelTrain)\n",
    "print(yTest)"
   ]
  },
  {
   "cell_type": "markdown",
   "metadata": {},
   "source": [
    "### Tune SVM"
   ]
  },
  {
   "cell_type": "code",
   "execution_count": 45,
   "metadata": {},
   "outputs": [
    {
     "name": "stdout",
     "output_type": "stream",
     "text": [
      "Fitting 5 folds for each of 40 candidates, totalling 200 fits\n",
      "Best parameters: {'C': 250, 'gamma': 'scale', 'kernel': 'rbf'}\n",
      "Best score: 0.5579910142767285\n"
     ]
    }
   ],
   "source": [
    "tuned_parameters = [{'kernel': ['rbf'], 'gamma': [1e-4, 1e-5, 'scale', 'auto'], 'C': [100, 250, 500, 750, 1000]},\n",
    "                        {'kernel': ['sigmoid'], 'gamma': [1e-4, 1e-5, 'scale', 'auto'], 'C': [100, 250, 500, 750, 1000]}]\n",
    "modelDir = './models/'\n",
    "modelName = 'tunedSVM5Fold'\n",
    "svmModel = tune_svm(xTrain,yTrain.group.values, tuned_parameters, isMulticlass=True, cv=5)"
   ]
  },
  {
   "cell_type": "markdown",
   "metadata": {},
   "source": [
    "### Create Optimal SVM Model"
   ]
  },
  {
   "cell_type": "code",
   "execution_count": 46,
   "metadata": {},
   "outputs": [],
   "source": [
    "clf = svm.SVC(kernel = 'rbf' , C = 250, gamma='scale', probability=True)\n",
    "clf.fit(xTrain, yTrain.group.values)\n",
    "\n",
    "y_pred = clf.predict(xTest)\n"
   ]
  },
  {
   "cell_type": "markdown",
   "metadata": {},
   "source": [
    "### Create Confusion Matrix and Classification Report"
   ]
  },
  {
   "cell_type": "code",
   "execution_count": 47,
   "metadata": {},
   "outputs": [
    {
     "data": {
      "image/png": "[encoded data removed]",
      "text/plain": [
       "<Figure size 600x400 with 2 Axes>"
      ]
     },
     "metadata": {},
     "output_type": "display_data"
    },
    {
     "name": "stdout",
     "output_type": "stream",
     "text": [
      "              precision    recall  f1-score   support\n",
      "\n",
      "         FHm       0.00      0.00      0.00         1\n",
      "         FHs       0.20      0.25      0.22         4\n",
      "          HA       0.60      0.38      0.46         8\n",
      "          NF       0.14      0.20      0.17         5\n",
      "\n",
      "    accuracy                           0.28        18\n",
      "   macro avg       0.24      0.21      0.21        18\n",
      "weighted avg       0.35      0.28      0.30        18\n",
      "\n"
     ]
    }
   ],
   "source": [
    "classes = ['HA','NF','FHs','FHm']\n",
    "cm_python = confusion_matrix(y_true=yTest.group.values, y_pred=y_pred, labels=classes)\n",
    "\n",
    "plt.subplots(figsize=(6,4))\n",
    "\n",
    "group_counts = ['{0:0.0f}'.format(value) for value in\n",
    "                cm_python.flatten()]\n",
    "group_percentages = ['{0:.2%}'.format(value) for value in\n",
    "                     cm_python.flatten()/np.sum(cm_python)]\n",
    "labels = [f'{v1}\\n{v2}' for v1, v2 in\n",
    "          zip(group_counts,group_percentages)]\n",
    "labels = np.asarray(labels).reshape(4,4)\n",
    "df_cm_python = pd.DataFrame(cm_python)\n",
    "\n",
    "sns.heatmap(df_cm_python, annot=labels, fmt='',annot_kws={\"size\": 16}, xticklabels=classes, yticklabels=classes) # font size\n",
    "plt.title('Test Model: Standard processing w/normalization')\n",
    "plt.xlabel('Predicted')\n",
    "plt.ylabel('Actual')\n",
    "plt.yticks(rotation=0)\n",
    "plt.show()\n",
    "\n",
    "\n",
    "print(classification_report(y_true=yTest.group.values, y_pred=y_pred))\n"
   ]
  },
  {
   "cell_type": "markdown",
   "metadata": {},
   "source": [
    "### Remap Labels to Be Binary Single Fallers Included as Fallers"
   ]
  },
  {
   "cell_type": "code",
   "execution_count": 48,
   "metadata": {},
   "outputs": [],
   "source": [
    "yTrainBinary = binaryLabelRemapping(yTrain, True)\n",
    "yTestBinary = binaryLabelRemapping(yTest, True)"
   ]
  },
  {
   "cell_type": "markdown",
   "metadata": {},
   "source": [
    "### Tune SVM"
   ]
  },
  {
   "cell_type": "code",
   "execution_count": 49,
   "metadata": {},
   "outputs": [
    {
     "name": "stdout",
     "output_type": "stream",
     "text": [
      "Fitting 5 folds for each of 40 candidates, totalling 200 fits\n",
      "Best parameters: {'C': 100, 'gamma': 'scale', 'kernel': 'rbf'}\n",
      "Best score: 0.8434848484848485\n"
     ]
    }
   ],
   "source": [
    "tuned_parameters = [{'kernel': ['rbf'], 'gamma': [1e-4, 1e-5, 'scale', 'auto'], 'C': [100, 250, 500, 750, 1000]},\n",
    "                        {'kernel': ['sigmoid'], 'gamma': [1e-4, 1e-5, 'scale', 'auto'], 'C': [100, 250, 500, 750, 1000]}]\n",
    "modelDir = './models/'\n",
    "modelName = 'tunedSVM5Fold_binarylabelsTrue'\n",
    "svmModel = tune_svm(xTrain,yTrainBinary.label_binary.values, tuned_parameters, isMulticlass=False, cv=5)"
   ]
  },
  {
   "cell_type": "markdown",
   "metadata": {},
   "source": [
    "### Train SVM with Optimal Parameters For Binary Labels Single Fallers are Fallers"
   ]
  },
  {
   "cell_type": "code",
   "execution_count": 50,
   "metadata": {},
   "outputs": [
    {
     "name": "stdout",
     "output_type": "stream",
     "text": [
      "0.48461538461538456\n"
     ]
    }
   ],
   "source": [
    "clf = svm.SVC(kernel = 'rbf' , C = 250, gamma='scale', probability=True)\n",
    "clf.fit(xTrain, yTrainBinary.label_binary.values)\n",
    "\n",
    "y_pred = clf.predict(xTest)\n",
    "\n",
    "#label encode yTestBinary and y_pred\n",
    "le = LabelEncoder()\n",
    "\n",
    "y_pred_binary = le.fit_transform(y_pred)\n",
    "y_test_bin = le.fit_transform(yTestBinary.label_binary.values)\n",
    "\n",
    "#obtain roc auc score\n",
    "print(roc_auc_score(y_test_bin, y_pred_binary))\n"
   ]
  },
  {
   "cell_type": "markdown",
   "metadata": {},
   "source": [
    "### Create Confusion Matrix For Binary Labels"
   ]
  },
  {
   "cell_type": "code",
   "execution_count": 51,
   "metadata": {},
   "outputs": [
    {
     "ename": "AttributeError",
     "evalue": "'numpy.ndarray' object has no attribute 'label_binary'",
     "output_type": "error",
     "traceback": [
      "\u001b[1;31m---------------------------------------------------------------------------\u001b[0m",
      "\u001b[1;31mAttributeError\u001b[0m                            Traceback (most recent call last)",
      "Cell \u001b[1;32mIn [51], line 2\u001b[0m\n\u001b[0;32m      1\u001b[0m classes \u001b[39m=\u001b[39m [\u001b[39m'\u001b[39m\u001b[39mFaller\u001b[39m\u001b[39m'\u001b[39m, \u001b[39m'\u001b[39m\u001b[39mNon-Faller\u001b[39m\u001b[39m'\u001b[39m]\n\u001b[1;32m----> 2\u001b[0m cm_python \u001b[39m=\u001b[39m confusion_matrix(y_true\u001b[39m=\u001b[39myTestBinary\u001b[39m.\u001b[39;49mlabel_binary\u001b[39m.\u001b[39mvalues, y_pred\u001b[39m=\u001b[39my_pred, labels\u001b[39m=\u001b[39mclasses)\n\u001b[0;32m      4\u001b[0m plt\u001b[39m.\u001b[39msubplots(figsize\u001b[39m=\u001b[39m(\u001b[39m6\u001b[39m,\u001b[39m4\u001b[39m))\n\u001b[0;32m      6\u001b[0m group_counts \u001b[39m=\u001b[39m [\u001b[39m'\u001b[39m\u001b[39m{0:0.0f}\u001b[39;00m\u001b[39m'\u001b[39m\u001b[39m.\u001b[39mformat(value) \u001b[39mfor\u001b[39;00m value \u001b[39min\u001b[39;00m\n\u001b[0;32m      7\u001b[0m                 cm_python\u001b[39m.\u001b[39mflatten()]\n",
      "\u001b[1;31mAttributeError\u001b[0m: 'numpy.ndarray' object has no attribute 'label_binary'"
     ]
    }
   ],
   "source": [
    "classes = ['Faller', 'Non-Faller']\n",
    "cm_python = confusion_matrix(y_true=yTestBinary.label_binary.values, y_pred=y_pred, labels=classes)\n",
    "\n",
    "plt.subplots(figsize=(6,4))\n",
    "\n",
    "group_counts = ['{0:0.0f}'.format(value) for value in\n",
    "                cm_python.flatten()]\n",
    "group_percentages = ['{0:.2%}'.format(value) for value in\n",
    "                     cm_python.flatten()/np.sum(cm_python)]\n",
    "labels = [f'{v1}\\n{v2}' for v1, v2 in\n",
    "          zip(group_counts,group_percentages)]\n",
    "labels = np.asarray(labels).reshape(2,2)\n",
    "df_cm_python = pd.DataFrame(cm_python)\n",
    "\n",
    "\n",
    "\n",
    "sns.heatmap(df_cm_python, annot=labels, fmt='',annot_kws={\"size\": 16}, xticklabels=classes, yticklabels=classes) # font size\n",
    "plt.title('Test Model: Standard processing w/normalization')\n",
    "plt.xlabel('Predicted')\n",
    "plt.ylabel('Actual')\n",
    "plt.yticks(rotation=0)\n",
    "plt.show()\n",
    "\n",
    "\n",
    "print(classification_report(y_true=yTestBinary.label_binary.values, y_pred=y_pred))\n"
   ]
  },
  {
   "cell_type": "markdown",
   "metadata": {},
   "source": [
    "### Obtain Missclassifications"
   ]
  },
  {
   "cell_type": "code",
   "execution_count": null,
   "metadata": {},
   "outputs": [
    {
     "name": "stdout",
     "output_type": "stream",
     "text": [
      "   part_id group sex  height  weight   BMI recorded_in_the_lab  \\\n",
      "40     400   FHs   f    1.73    66.7  22.3                   0   \n",
      "70      68    NF   f    1.68    69.0  24.4                   0   \n",
      "39      40   FHs   m    1.90   102.5  28.4                   0   \n",
      "65      61    NF   m    1.73    65.3  21.8                   0   \n",
      "44     404   FHm   f    1.57    63.0  25.6                   0   \n",
      "35     313    NF   f    1.73    75.0  25.1                   0   \n",
      "86      87   FHs   f    1.60    77.1  30.1                   0   \n",
      "\n",
      "   clinically_at_risk label_binary  \n",
      "40                  0       Faller  \n",
      "70                  0   Non-Faller  \n",
      "39                  0       Faller  \n",
      "65                  0   Non-Faller  \n",
      "44                  0       Faller  \n",
      "35                  0   Non-Faller  \n",
      "86                  1       Faller  \n"
     ]
    }
   ],
   "source": [
    "missclassifications = yTestBinary.loc[yTestBinary.label_binary!=y_pred]\n",
    "print(missclassifications)"
   ]
  },
  {
   "cell_type": "markdown",
   "metadata": {},
   "source": [
    "### Remap Labels to Be Binary Single Fallers Included as Non-Fallers"
   ]
  },
  {
   "cell_type": "code",
   "execution_count": null,
   "metadata": {},
   "outputs": [],
   "source": [
    "yTrainBinary = binaryLabelRemapping(yTrain, False)\n",
    "yTestBinary = binaryLabelRemapping(yTest, False)"
   ]
  },
  {
   "cell_type": "markdown",
   "metadata": {},
   "source": [
    "### Tune SVM"
   ]
  },
  {
   "cell_type": "code",
   "execution_count": null,
   "metadata": {},
   "outputs": [
    {
     "name": "stdout",
     "output_type": "stream",
     "text": [
      "Fitting 5 folds for each of 40 candidates, totalling 200 fits\n",
      "Best parameters: {'C': 100, 'gamma': 0.0001, 'kernel': 'rbf'}\n",
      "Best score: 0.7673076923076924\n"
     ]
    }
   ],
   "source": [
    "tuned_parameters = [{'kernel': ['rbf'], 'gamma': [1e-4, 1e-5, 'scale', 'auto'], 'C': [100, 250, 500, 750, 1000]},\n",
    "                        {'kernel': ['sigmoid'], 'gamma': [1e-4, 1e-5, 'scale', 'auto'], 'C': [100, 250, 500, 750, 1000]}]\n",
    "modelDir = './models/'\n",
    "modelName = 'tunedSVM5Fold_binarylabelsFalse'\n",
    "svmModel = tune_svm(xTrain,yTrainBinary.label_binary.values, tuned_parameters, isMulticlass=False, cv=5)"
   ]
  },
  {
   "cell_type": "markdown",
   "metadata": {},
   "source": [
    "### Train SVM with Optimal Parameters Single Fallers Considered Non-Fallers"
   ]
  },
  {
   "cell_type": "code",
   "execution_count": null,
   "metadata": {},
   "outputs": [],
   "source": [
    "clf = svm.SVC(kernel = 'sigmoid' , C = 750, gamma=0.0001, probability=True)\n",
    "clf.fit(xTrain, yTrainBinary.label_binary.values)\n",
    "\n",
    "y_pred = clf.predict(xTest)"
   ]
  },
  {
   "cell_type": "markdown",
   "metadata": {},
   "source": [
    "### Create Confusion Matrix For Binary Labels FHs -> Non-Fallers"
   ]
  },
  {
   "cell_type": "code",
   "execution_count": null,
   "metadata": {},
   "outputs": [
    {
     "data": {
      "image/png": "[encoded data removed]",
      "text/plain": [
       "<Figure size 600x400 with 2 Axes>"
      ]
     },
     "metadata": {},
     "output_type": "display_data"
    },
    {
     "name": "stdout",
     "output_type": "stream",
     "text": [
      "              precision    recall  f1-score   support\n",
      "\n",
      "      Faller       0.00      0.00      0.00         1\n",
      "  Non-Faller       0.94      1.00      0.97        17\n",
      "\n",
      "    accuracy                           0.94        18\n",
      "   macro avg       0.47      0.50      0.49        18\n",
      "weighted avg       0.89      0.94      0.92        18\n",
      "\n"
     ]
    },
    {
     "name": "stderr",
     "output_type": "stream",
     "text": [
      "c:\\Users\\camb7\\anaconda3\\envs\\kba\\lib\\site-packages\\sklearn\\metrics\\_classification.py:1318: UndefinedMetricWarning: Precision and F-score are ill-defined and being set to 0.0 in labels with no predicted samples. Use `zero_division` parameter to control this behavior.\n",
      "  _warn_prf(average, modifier, msg_start, len(result))\n",
      "c:\\Users\\camb7\\anaconda3\\envs\\kba\\lib\\site-packages\\sklearn\\metrics\\_classification.py:1318: UndefinedMetricWarning: Precision and F-score are ill-defined and being set to 0.0 in labels with no predicted samples. Use `zero_division` parameter to control this behavior.\n",
      "  _warn_prf(average, modifier, msg_start, len(result))\n",
      "c:\\Users\\camb7\\anaconda3\\envs\\kba\\lib\\site-packages\\sklearn\\metrics\\_classification.py:1318: UndefinedMetricWarning: Precision and F-score are ill-defined and being set to 0.0 in labels with no predicted samples. Use `zero_division` parameter to control this behavior.\n",
      "  _warn_prf(average, modifier, msg_start, len(result))\n"
     ]
    }
   ],
   "source": [
    "classes = ['Faller', 'Non-Faller']\n",
    "cm_python = confusion_matrix(y_true=yTestBinary.label_binary.values, y_pred=y_pred, labels=classes)\n",
    "\n",
    "plt.subplots(figsize=(6,4))\n",
    "\n",
    "group_counts = ['{0:0.0f}'.format(value) for value in\n",
    "                cm_python.flatten()]\n",
    "group_percentages = ['{0:.2%}'.format(value) for value in\n",
    "                     cm_python.flatten()/np.sum(cm_python)]\n",
    "labels = [f'{v1}\\n{v2}' for v1, v2 in\n",
    "          zip(group_counts,group_percentages)]\n",
    "labels = np.asarray(labels).reshape(2,2)\n",
    "df_cm_python = pd.DataFrame(cm_python)\n",
    "\n",
    "sns.heatmap(df_cm_python, annot=labels, fmt='',annot_kws={\"size\": 16}, xticklabels=classes, yticklabels=classes) # font size\n",
    "plt.title('Test Model: Standard processing w/normalization')\n",
    "plt.xlabel('Predicted')\n",
    "plt.ylabel('Actual')\n",
    "plt.yticks(rotation=0)\n",
    "plt.show()\n",
    "\n",
    "\n",
    "print(classification_report(y_true=yTestBinary.label_binary.values, y_pred=y_pred))\n"
   ]
  },
  {
   "cell_type": "markdown",
   "metadata": {},
   "source": [
    "### Obtain Missclassifications"
   ]
  },
  {
   "cell_type": "code",
   "execution_count": null,
   "metadata": {},
   "outputs": [
    {
     "name": "stdout",
     "output_type": "stream",
     "text": [
      "   part_id group sex  height  weight   BMI recorded_in_the_lab  \\\n",
      "44     404   FHm   f    1.57    63.0  25.6                   0   \n",
      "\n",
      "   clinically_at_risk label_binary  \n",
      "44                  0       Faller  \n"
     ]
    }
   ],
   "source": [
    "missclassifications = yTestBinary.loc[yTestBinary.label_binary!=y_pred]\n",
    "print(missclassifications)"
   ]
  }
 ],
 "metadata": {
  "kernelspec": {
   "display_name": "Python 3.10.8 ('kba')",
   "language": "python",
   "name": "python3"
  },
  "language_info": {
   "codemirror_mode": {
    "name": "ipython",
    "version": 3
   },
   "file_extension": ".py",
   "mimetype": "text/x-python",
   "name": "python",
   "nbconvert_exporter": "python",
   "pygments_lexer": "ipython3",
   "version": "3.10.8"
  },
  "orig_nbformat": 4,
  "vscode": {
   "interpreter": {
    "hash": "5d349dd511cd4e0f99132a14cf8fa9ad6fc13ca582fbb8d1253f3c76c77827a5"
   }
  }
 },
 "nbformat": 4,
 "nbformat_minor": 2
}
