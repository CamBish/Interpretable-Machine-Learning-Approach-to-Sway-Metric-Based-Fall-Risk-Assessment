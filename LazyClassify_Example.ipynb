{
 "cells": [
  {
   "cell_type": "markdown",
   "metadata": {},
   "source": [
    "# Load Kinecal Data ELEC872 Project\n",
    "### Cameron Bishop | November 16th 2022"
   ]
  },
  {
   "cell_type": "code",
   "execution_count": 53,
   "metadata": {},
   "outputs": [
    {
     "data": {
      "text/plain": [
       "<module 'models' from 'c:\\\\Users\\\\camb7\\\\Code Repositories\\\\KINECAL Balance Assessment\\\\KINECAL-Balance-Assessment\\\\models.py'>"
      ]
     },
     "execution_count": 53,
     "metadata": {},
     "output_type": "execute_result"
    }
   ],
   "source": [
    "import pandas as pd\n",
    "import numpy as np\n",
    "import importlib\n",
    "import matplotlib.pyplot as plt\n",
    "import seaborn as sns\n",
    "\n",
    "from lazypredict.Supervised import LazyClassifier\n",
    "from sklearn.model_selection import train_test_split, GridSearchCV, StratifiedKFold\n",
    "from sklearn.preprocessing import LabelEncoder\n",
    "from sklearn.metrics import confusion_matrix, classification_report\n",
    "\n",
    "import LoadKinecalFunctions\n",
    "from LoadKinecalFunctions import *\n",
    "importlib.reload(LoadKinecalFunctions)\n",
    "from const import User, Exercise\n",
    "import models\n",
    "from models import *\n",
    "importlib.reload(models)\n",
    "\n"
   ]
  },
  {
   "cell_type": "code",
   "execution_count": 54,
   "metadata": {},
   "outputs": [],
   "source": [
    "user = User.CD\n",
    "excerciseList = [Exercise.QSECFS, Exercise.QSEOFS, Exercise.STS, Exercise.TS]\n",
    "\n",
    "QSClosedDf = readKinecalFiles(excerciseList[0], user) \n",
    "QSOpenDf = readKinecalFiles(excerciseList[1], user) \n",
    "SemiTandemDf = readKinecalFiles(excerciseList[2], user) \n",
    "TandemDf = readKinecalFiles(excerciseList[3], user) \n"
   ]
  },
  {
   "cell_type": "markdown",
   "metadata": {},
   "source": [
    "### Seperate X and Y Dataframes"
   ]
  },
  {
   "cell_type": "code",
   "execution_count": 55,
   "metadata": {},
   "outputs": [
    {
     "name": "stdout",
     "output_type": "stream",
     "text": [
      "   part_id group sex  height  weight   BMI recorded_in_the_lab  \\\n",
      "0       10    HA   m    1.85   77.00 22.50                   1   \n",
      "1      100    NF   f    1.55   82.50 34.30                   1   \n",
      "2       11    HA   f    1.57   51.50 20.90                   1   \n",
      "3       12    HA   m    1.64   68.50 25.50                   1   \n",
      "4       13    HA   m    1.78   85.00 26.80                   1   \n",
      "..     ...   ...  ..     ...     ...   ...                 ...   \n",
      "85      84   FHm   f    1.56   60.00 24.70                   0   \n",
      "86      87   FHs   f    1.60   77.10 30.10                   0   \n",
      "87       9    HA   m    1.69   75.00 26.30                   1   \n",
      "88      92    NF   m    1.83   97.00 29.00                   0   \n",
      "89      96   FHs   m    1.78   81.20 25.60                   0   \n",
      "\n",
      "   clinically_at_risk  \n",
      "0                   0  \n",
      "1                   0  \n",
      "2                   0  \n",
      "3                   0  \n",
      "4                   0  \n",
      "..                ...  \n",
      "85                  0  \n",
      "86                  1  \n",
      "87                  0  \n",
      "88                  0  \n",
      "89                  0  \n",
      "\n",
      "[90 rows x 8 columns]\n"
     ]
    }
   ],
   "source": [
    "yDf = QSClosedDf.iloc[:, 0:9]\n",
    "yDf = yDf.drop(columns='movement')\n",
    "\n",
    "QSClosedXDf = QSClosedDf.iloc[:, 9:-1]\n",
    "QSOpenXDf = QSOpenDf.iloc[:, 9:-1]\n",
    "SemiTandemXDf = SemiTandemDf.iloc[:, 9:-1]\n",
    "TandemXDf = TandemDf.iloc[:, 9:-1]\n",
    "\n",
    "print(yDf)"
   ]
  },
  {
   "cell_type": "markdown",
   "metadata": {},
   "source": [
    "### Replace Missing Data With Mean of That Class"
   ]
  },
  {
   "cell_type": "code",
   "execution_count": 56,
   "metadata": {},
   "outputs": [
    {
     "name": "stdout",
     "output_type": "stream",
     "text": [
      "[ 2 14 15]\n",
      "[ 2 17 29 34 71]\n",
      "[ 2 14 17 31 33 60 66]\n",
      "[13 14 17 29 31 33 36 37 55 60 66 74 77]\n"
     ]
    }
   ],
   "source": [
    "QSClosedXDf = replaceMissingValues(QSClosedXDf, yDf)\n",
    "QSOpenXDf = replaceMissingValues(QSOpenXDf, yDf)\n",
    "SemiTandemXDf = replaceMissingValues(SemiTandemXDf, yDf)\n",
    "TandemXDf = replaceMissingValues(TandemXDf, yDf)\n"
   ]
  },
  {
   "cell_type": "markdown",
   "metadata": {},
   "source": [
    "### Perform Sample Normalization"
   ]
  },
  {
   "cell_type": "code",
   "execution_count": 57,
   "metadata": {},
   "outputs": [],
   "source": [
    "QSClosedXNormDf = datasetNormalization(QSClosedXDf)\n",
    "QSOpenXNormDf = datasetNormalization(QSOpenXDf)\n",
    "SemiTandemXNormDf = datasetNormalization(SemiTandemXDf)\n",
    "TandemXNormDf = datasetNormalization(TandemXDf)"
   ]
  },
  {
   "cell_type": "markdown",
   "metadata": {},
   "source": [
    "### Combine Excercises Into One Dataset"
   ]
  },
  {
   "cell_type": "code",
   "execution_count": 58,
   "metadata": {},
   "outputs": [
    {
     "name": "stdout",
     "output_type": "stream",
     "text": [
      "(90, 16) (90, 16) (90, 16) (90, 16)\n",
      "(90, 64)\n"
     ]
    }
   ],
   "source": [
    "print(QSClosedXNormDf.shape, QSOpenXNormDf.shape, SemiTandemXNormDf.shape, TandemXNormDf.shape)\n",
    "combinedXNormDf = pd.concat([QSClosedXNormDf, QSOpenXNormDf, SemiTandemXNormDf, TandemXDf], axis=1)\n",
    "print(combinedXNormDf.shape)"
   ]
  },
  {
   "cell_type": "markdown",
   "metadata": {},
   "source": [
    "### Seperate Into Training and Testing Sets"
   ]
  },
  {
   "cell_type": "code",
   "execution_count": 59,
   "metadata": {},
   "outputs": [],
   "source": [
    "xTrain, xTest, yTrain, yTest = train_test_split(combinedXNormDf, yDf, test_size=0.2, random_state=42)\n",
    "\n",
    "le = LabelEncoder()\n",
    "\n",
    "yTest_orig = yTest\n",
    "yTrain_orig = yTrain\n",
    "\n",
    "xTest_orig = xTest\n",
    "xTrain_orig = xTrain\n",
    "\n",
    "yTest = le.fit_transform(yTest.group.values)\n",
    "yTrain = le.fit_transform(yTrain.group.values)\n",
    "\n",
    "X = np.asarray(combinedXNormDf)\n",
    "y = np.asarray(le.fit_transform(yDf.group.values))\n",
    "\n",
    "xTest = np.asarray(xTest)\n",
    "xTrain = np.asarray(xTrain) \n"
   ]
  },
  {
   "cell_type": "markdown",
   "metadata": {},
   "source": [
    "### Apply Lazy Classifier"
   ]
  },
  {
   "cell_type": "code",
   "execution_count": 62,
   "metadata": {},
   "outputs": [
    {
     "name": "stderr",
     "output_type": "stream",
     "text": [
      "100%|██████████| 29/29 [00:00<00:00, 37.49it/s]"
     ]
    },
    {
     "name": "stdout",
     "output_type": "stream",
     "text": [
      "                               Accuracy  Balanced Accuracy ROC AUC  F1 Score  \\\n",
      "Model                                                                          \n",
      "BernoulliNB                        0.39               0.53    None      0.38   \n",
      "LinearSVC                          0.44               0.37    None      0.45   \n",
      "RidgeClassifier                    0.44               0.37    None      0.45   \n",
      "RandomForestClassifier             0.44               0.37    None      0.44   \n",
      "BaggingClassifier                  0.39               0.33    None      0.38   \n",
      "ExtraTreesClassifier               0.44               0.32    None      0.43   \n",
      "LabelPropagation                   0.39               0.32    None      0.43   \n",
      "LabelSpreading                     0.39               0.32    None      0.43   \n",
      "LogisticRegression                 0.39               0.32    None      0.39   \n",
      "PassiveAggressiveClassifier        0.39               0.31    None      0.38   \n",
      "RidgeClassifierCV                  0.39               0.31    None      0.39   \n",
      "SVC                                0.39               0.29    None      0.32   \n",
      "DecisionTreeClassifier             0.33               0.29    None      0.34   \n",
      "SGDClassifier                      0.33               0.29    None      0.33   \n",
      "Perceptron                         0.33               0.27    None      0.37   \n",
      "AdaBoostClassifier                 0.33               0.26    None      0.32   \n",
      "KNeighborsClassifier               0.33               0.26    None      0.34   \n",
      "XGBClassifier                      0.33               0.26    None      0.34   \n",
      "DummyClassifier                    0.28               0.25    None      0.12   \n",
      "CalibratedClassifierCV             0.33               0.24    None      0.28   \n",
      "LGBMClassifier                     0.33               0.24    None      0.34   \n",
      "GaussianNB                         0.22               0.19    None      0.22   \n",
      "NearestCentroid                    0.22               0.19    None      0.25   \n",
      "QuadraticDiscriminantAnalysis      0.22               0.17    None      0.22   \n",
      "ExtraTreeClassifier                0.22               0.17    None      0.25   \n",
      "LinearDiscriminantAnalysis         0.17               0.14    None      0.17   \n",
      "\n",
      "                               Time Taken  \n",
      "Model                                      \n",
      "BernoulliNB                          0.01  \n",
      "LinearSVC                            0.03  \n",
      "RidgeClassifier                      0.01  \n",
      "RandomForestClassifier               0.13  \n",
      "BaggingClassifier                    0.03  \n",
      "ExtraTreesClassifier                 0.11  \n",
      "LabelPropagation                     0.01  \n",
      "LabelSpreading                       0.01  \n",
      "LogisticRegression                   0.03  \n",
      "PassiveAggressiveClassifier          0.01  \n",
      "RidgeClassifierCV                    0.01  \n",
      "SVC                                  0.01  \n",
      "DecisionTreeClassifier               0.01  \n",
      "SGDClassifier                        0.01  \n",
      "Perceptron                           0.01  \n",
      "AdaBoostClassifier                   0.07  \n",
      "KNeighborsClassifier                 0.01  \n",
      "XGBClassifier                        0.08  \n",
      "DummyClassifier                      0.01  \n",
      "CalibratedClassifierCV               0.10  \n",
      "LGBMClassifier                       0.05  \n",
      "GaussianNB                           0.01  \n",
      "NearestCentroid                      0.01  \n",
      "QuadraticDiscriminantAnalysis        0.01  \n",
      "ExtraTreeClassifier                  0.01  \n",
      "LinearDiscriminantAnalysis           0.01  \n"
     ]
    },
    {
     "name": "stderr",
     "output_type": "stream",
     "text": [
      "\n"
     ]
    }
   ],
   "source": [
    "lazyclass = LazyClassifier(verbose=0, ignore_warnings=True, custom_metric=None)\n",
    "scores, predictions = lazyclass.fit(xTrain, xTest, yTrain, yTest)\n",
    "print(scores)\n",
    "modelDict = lazyclass.provide_models(xTrain, xTest, yTrain, yTest)"
   ]
  },
  {
   "cell_type": "markdown",
   "metadata": {},
   "source": [
    "### Find Strongest Performing Model by Balanced Accuracy"
   ]
  },
  {
   "cell_type": "code",
   "execution_count": 63,
   "metadata": {},
   "outputs": [
    {
     "name": "stdout",
     "output_type": "stream",
     "text": [
      "('BernoulliNB', 0.53125)\n"
     ]
    }
   ],
   "source": [
    "#iterate through scores and find model with highest balanced accuracy\n",
    "classifiers = scores.index.tolist()\n",
    "balAccs = scores['Balanced Accuracy']\n",
    "bestModel = max(zip(classifiers, balAccs), key=lambda x: x[1])\n",
    "pipe = modelDict[bestModel[0]]\n",
    "print(bestModel)\n"
   ]
  },
  {
   "cell_type": "code",
   "execution_count": 79,
   "metadata": {},
   "outputs": [
    {
     "name": "stdout",
     "output_type": "stream",
     "text": [
      "Fitting 5 folds for each of 726 candidates, totalling 3630 fits\n",
      "0.47333333333333333\n",
      "{'classifier__alpha': 0.4, 'classifier__binarize': 0.5, 'classifier__class_prior': None, 'classifier__fit_prior': False}\n"
     ]
    }
   ],
   "source": [
    "#Perform grid search on best model\n",
    "#find distribution of data for class prior\n",
    "classPrior = np.bincount(y) / len(y)\n",
    "#convert to list\n",
    "classPrior = classPrior.tolist()\n",
    "\n",
    "tuning_params = [{\n",
    "    'classifier__alpha': [0, 0.1, 0.2, 0.3, 0.4, 0.45, 0.5, 0.55, 0.9, 0.95, 1],\n",
    "    'classifier__binarize': [0, 0.1, 0.15, 0.2, 0.25, 0.3, 0.45, 0.5, 0.55, 0.6, 1],\n",
    "    'classifier__fit_prior': [True, False],\n",
    "    'classifier__class_prior': [None, [0.25, 0.25, 0.25, 0.25], classPrior]\n",
    "}]\n",
    "skf = StratifiedKFold(n_splits=5, shuffle=True, random_state=42)\n",
    "grid = GridSearchCV(pipe, tuning_params, \n",
    "                    cv=skf.split(xTrain,yTrain), scoring='balanced_accuracy', \n",
    "                    n_jobs=-1, verbose=2, refit=True)\n",
    "\n",
    "grid.fit(xTrain,yTrain)\n",
    "\n",
    "best_model = grid.best_estimator_\n",
    "print(grid.best_score_)\n",
    "print(grid.best_params_)\n",
    "\n",
    "optimal_params = grid.best_params_"
   ]
  },
  {
   "cell_type": "markdown",
   "metadata": {},
   "source": [
    "### Create Model With Optimal Parameters"
   ]
  },
  {
   "cell_type": "code",
   "execution_count": 80,
   "metadata": {},
   "outputs": [],
   "source": [
    "\n",
    "clf = best_model\n",
    "\n",
    "y_pred = clf.predict(xTest)\n",
    "\n",
    "#map predictions back to original labels\n",
    "y_pred_label = le.inverse_transform(y_pred)\n",
    "y_test_label = le.inverse_transform(yTest)"
   ]
  },
  {
   "cell_type": "markdown",
   "metadata": {},
   "source": [
    "### Create Confusion Matrix and Classification Report"
   ]
  },
  {
   "cell_type": "code",
   "execution_count": 81,
   "metadata": {},
   "outputs": [
    {
     "data": {
      "image/png": "[encoded data removed]",
      "text/plain": [
       "<Figure size 600x400 with 2 Axes>"
      ]
     },
     "metadata": {},
     "output_type": "display_data"
    },
    {
     "name": "stdout",
     "output_type": "stream",
     "text": [
      "              precision    recall  f1-score   support\n",
      "\n",
      "         FHm       0.00      0.00      0.00         1\n",
      "         FHs       0.33      0.50      0.40         4\n",
      "          HA       1.00      0.12      0.22         8\n",
      "          NF       0.11      0.20      0.14         5\n",
      "\n",
      "    accuracy                           0.22        18\n",
      "   macro avg       0.36      0.21      0.19        18\n",
      "weighted avg       0.55      0.22      0.23        18\n",
      "\n"
     ]
    }
   ],
   "source": [
    "classes = ['HA','NF','FHs','FHm']\n",
    "cm_python = confusion_matrix(y_true=y_test_label, y_pred=y_pred_label, labels=classes)\n",
    "\n",
    "plt.subplots(figsize=(6,4))\n",
    "\n",
    "group_counts = ['{0:0.0f}'.format(value) for value in\n",
    "                cm_python.flatten()]\n",
    "group_percentages = ['{0:.2%}'.format(value) for value in\n",
    "                     cm_python.flatten()/np.sum(cm_python)]\n",
    "labels = [f'{v1}\\n{v2}' for v1, v2 in\n",
    "          zip(group_counts,group_percentages)]\n",
    "labels = np.asarray(labels).reshape(4,4)\n",
    "df_cm_python = pd.DataFrame(cm_python)\n",
    "\n",
    "sns.heatmap(df_cm_python, annot=labels, fmt='',annot_kws={\"size\": 16}, xticklabels=classes, yticklabels=classes) # font size\n",
    "plt.title('Bernoulli Naive-Bayes: Standard processing w/ normalization')\n",
    "plt.xlabel('Predicted')\n",
    "plt.ylabel('Actual') \n",
    "plt.yticks(rotation=0)\n",
    "plt.show()\n",
    "\n",
    "print(classification_report(y_true=y_test_label, y_pred=y_pred_label))\n"
   ]
  },
  {
   "cell_type": "markdown",
   "metadata": {},
   "source": [
    "### Remap Labels to Be Binary Single Fallers Included as Fallers"
   ]
  },
  {
   "cell_type": "code",
   "execution_count": null,
   "metadata": {},
   "outputs": [],
   "source": [
    "yTrainBinary = binaryLabelRemapping(yTrain_orig, True)\n",
    "yTestBinary = binaryLabelRemapping(yTest_orig, True)\n",
    "\n",
    "le2 = LabelEncoder()\n",
    "\n",
    "yTrain_bin_orig = yTrainBinary\n",
    "yTest_bin_orig = yTestBinary\n",
    "\n",
    "yDf_bin = binaryLabelRemapping(yDf, True)\n",
    "\n",
    "y_bin = np.asarray(le2.fit_transform(yDf_bin.label_binary.values))\n",
    "\n",
    "#convert to numpy array\n",
    "yTrainBinary = np.asarray(le2.fit_transform(yTrainBinary.label_binary.values))\n",
    "yTestBinary = np.asarray(le2.fit_transform(yTestBinary.label_binary.values))"
   ]
  },
  {
   "cell_type": "markdown",
   "metadata": {},
   "source": [
    "### Apply Lazy Classifier to Binary Data"
   ]
  },
  {
   "cell_type": "code",
   "execution_count": null,
   "metadata": {},
   "outputs": [
    {
     "name": "stderr",
     "output_type": "stream",
     "text": [
      "100%|██████████| 29/29 [00:00<00:00, 44.54it/s]"
     ]
    },
    {
     "name": "stdout",
     "output_type": "stream",
     "text": [
      "                               Accuracy  Balanced Accuracy  ROC AUC  F1 Score  \\\n",
      "Model                                                                           \n",
      "Perceptron                         0.83               0.82     0.82      0.84   \n",
      "LinearSVC                          0.83               0.76     0.76      0.83   \n",
      "RidgeClassifier                    0.83               0.76     0.76      0.83   \n",
      "BernoulliNB                        0.72               0.75     0.75      0.74   \n",
      "SGDClassifier                      0.78               0.72     0.72      0.78   \n",
      "DecisionTreeClassifier             0.72               0.68     0.68      0.73   \n",
      "LogisticRegression                 0.78               0.66     0.66      0.76   \n",
      "NearestCentroid                    0.67               0.65     0.65      0.68   \n",
      "GaussianNB                         0.50               0.59     0.59      0.51   \n",
      "PassiveAggressiveClassifier        0.67               0.58     0.58      0.67   \n",
      "LGBMClassifier                     0.67               0.58     0.58      0.67   \n",
      "NuSVC                              0.72               0.56     0.56      0.68   \n",
      "QuadraticDiscriminantAnalysis      0.72               0.56     0.56      0.68   \n",
      "RidgeClassifierCV                  0.72               0.56     0.56      0.68   \n",
      "BaggingClassifier                  0.61               0.55     0.55      0.62   \n",
      "DummyClassifier                    0.72               0.50     0.50      0.61   \n",
      "CalibratedClassifierCV             0.72               0.50     0.50      0.61   \n",
      "SVC                                0.72               0.50     0.50      0.61   \n",
      "XGBClassifier                      0.61               0.48     0.48      0.60   \n",
      "LabelSpreading                     0.50               0.47     0.47      0.53   \n",
      "LabelPropagation                   0.50               0.47     0.47      0.53   \n",
      "RandomForestClassifier             0.67               0.46     0.46      0.58   \n",
      "KNeighborsClassifier               0.56               0.45     0.45      0.56   \n",
      "ExtraTreesClassifier               0.61               0.42     0.42      0.55   \n",
      "ExtraTreeClassifier                0.50               0.41     0.41      0.51   \n",
      "AdaBoostClassifier                 0.56               0.38     0.38      0.52   \n",
      "LinearDiscriminantAnalysis         0.44               0.37     0.37      0.47   \n",
      "\n",
      "                               Time Taken  \n",
      "Model                                      \n",
      "Perceptron                           0.01  \n",
      "LinearSVC                            0.01  \n",
      "RidgeClassifier                      0.01  \n",
      "BernoulliNB                          0.01  \n",
      "SGDClassifier                        0.01  \n",
      "DecisionTreeClassifier               0.01  \n",
      "LogisticRegression                   0.02  \n",
      "NearestCentroid                      0.01  \n",
      "GaussianNB                           0.01  \n",
      "PassiveAggressiveClassifier          0.01  \n",
      "LGBMClassifier                       0.03  \n",
      "NuSVC                                0.01  \n",
      "QuadraticDiscriminantAnalysis        0.01  \n",
      "RidgeClassifierCV                    0.01  \n",
      "BaggingClassifier                    0.02  \n",
      "DummyClassifier                      0.01  \n",
      "CalibratedClassifierCV               0.04  \n",
      "SVC                                  0.01  \n",
      "XGBClassifier                        0.04  \n",
      "LabelSpreading                       0.01  \n",
      "LabelPropagation                     0.01  \n",
      "RandomForestClassifier               0.14  \n",
      "KNeighborsClassifier                 0.01  \n",
      "ExtraTreesClassifier                 0.10  \n",
      "ExtraTreeClassifier                  0.01  \n",
      "AdaBoostClassifier                   0.07  \n",
      "LinearDiscriminantAnalysis           0.01  \n"
     ]
    },
    {
     "name": "stderr",
     "output_type": "stream",
     "text": [
      "\n"
     ]
    }
   ],
   "source": [
    "lazyclass2 = LazyClassifier(verbose=0, ignore_warnings=True, custom_metric=None)\n",
    "scores, predictions = lazyclass2.fit(xTrain, xTest, yTrainBinary, yTestBinary)\n",
    "print(scores)\n",
    "modelDict = lazyclass2.provide_models(xTrain, xTest, yTrainBinary, yTestBinary)"
   ]
  },
  {
   "cell_type": "code",
   "execution_count": null,
   "metadata": {},
   "outputs": [
    {
     "name": "stdout",
     "output_type": "stream",
     "text": [
      "('Perceptron', 0.823076923076923)\n"
     ]
    }
   ],
   "source": [
    "#iterate through scores and find model with highest balanced accuracy\n",
    "classifiers = scores.index.tolist()\n",
    "balAccs = scores['ROC AUC']\n",
    "bestModel = max(zip(classifiers, balAccs), key=lambda x: x[1])\n",
    "pipe = modelDict[bestModel[0]]\n",
    "print(bestModel)"
   ]
  },
  {
   "cell_type": "code",
   "execution_count": null,
   "metadata": {},
   "outputs": [
    {
     "name": "stdout",
     "output_type": "stream",
     "text": [
      "Fitting 5 folds for each of 105 candidates, totalling 525 fits\n",
      "0.7298484848484847\n",
      "{'classifier__alpha': 0.09, 'classifier__class_weight': None, 'classifier__early_stopping': False, 'classifier__eta0': 6e-05, 'classifier__l1_ratio': 0.48, 'classifier__penalty': 'elasticnet', 'classifier__tol': 5e-06, 'classifier__warm_start': True}\n"
     ]
    }
   ],
   "source": [
    "#Perform grid search on best model\n",
    "tuning_params = [{\n",
    "    \"classifier__penalty\": ['elasticnet'],\n",
    "    \"classifier__l1_ratio\": [0.48, 0.49, 0.5, 0.51, 0.52],\n",
    "    \"classifier__alpha\": [1e-4, 1e-3, 1e-2, 0.09, 0.1, 0.11, 0.2],\n",
    "    \"classifier__tol\": [5e-6],\n",
    "    \"classifier__eta0\": [6e-5, 1e-4, 1e-3],\n",
    "    \"classifier__early_stopping\": [False],\n",
    "    \"classifier__class_weight\": [None],\n",
    "    \"classifier__warm_start\": [True]\n",
    "}]\n",
    "\n",
    "skf = StratifiedKFold(n_splits=5, shuffle=True, random_state=42)\n",
    "grid = GridSearchCV(pipe, tuning_params, \n",
    "                    cv=skf.split(xTrain,yTrainBinary), scoring='roc_auc', \n",
    "                    n_jobs=-1, verbose=2, refit=True)\n",
    "\n",
    "grid.fit(xTrain,yTrainBinary)\n",
    "\n",
    "best_model = grid.best_estimator_\n",
    "print(grid.best_score_)\n",
    "print(grid.best_params_)\n",
    "\n",
    "optimal_params = grid.best_params_"
   ]
  },
  {
   "cell_type": "markdown",
   "metadata": {},
   "source": [
    "### Train Best Model with Optimal Parameters For Binary Labels Single Fallers are Fallers"
   ]
  },
  {
   "cell_type": "code",
   "execution_count": null,
   "metadata": {},
   "outputs": [],
   "source": [
    "clf = best_model\n",
    "\n",
    "y_pred_bin = pipe.predict(xTest)\n",
    "\n",
    "#map predictions back to original labels\n",
    "y_pred_label = le2.inverse_transform(y_pred_bin)\n",
    "y_test_label = le2.inverse_transform(yTestBinary)\n"
   ]
  },
  {
   "cell_type": "markdown",
   "metadata": {},
   "source": [
    "### Create Confusion Matrix For Binary Labels"
   ]
  },
  {
   "cell_type": "code",
   "execution_count": null,
   "metadata": {},
   "outputs": [
    {
     "data": {
      "image/png": "[encoded data removed]",
      "text/plain": [
       "<Figure size 600x400 with 2 Axes>"
      ]
     },
     "metadata": {},
     "output_type": "display_data"
    },
    {
     "name": "stdout",
     "output_type": "stream",
     "text": [
      "              precision    recall  f1-score   support\n",
      "\n",
      "      Faller       0.67      0.80      0.73         5\n",
      "  Non-Faller       0.92      0.85      0.88        13\n",
      "\n",
      "    accuracy                           0.83        18\n",
      "   macro avg       0.79      0.82      0.80        18\n",
      "weighted avg       0.85      0.83      0.84        18\n",
      "\n"
     ]
    }
   ],
   "source": [
    "classes = ['Faller', 'Non-Faller']\n",
    "cm_python = confusion_matrix(y_true=y_test_label, y_pred=y_pred_label, labels=classes)\n",
    "\n",
    "plt.subplots(figsize=(6,4))\n",
    "\n",
    "group_counts = ['{0:0.0f}'.format(value) for value in\n",
    "                cm_python.flatten()]\n",
    "group_percentages = ['{0:.2%}'.format(value) for value in\n",
    "                     cm_python.flatten()/np.sum(cm_python)]\n",
    "labels = [f'{v1}\\n{v2}' for v1, v2 in\n",
    "          zip(group_counts,group_percentages)]\n",
    "labels = np.asarray(labels).reshape(2,2)\n",
    "df_cm_python = pd.DataFrame(cm_python)\n",
    "\n",
    "sns.heatmap(df_cm_python, annot=labels, fmt='',annot_kws={\"size\": 16}, xticklabels=classes, yticklabels=classes) # font size\n",
    "plt.title('Perceptron: Standard processing w/ normalization')\n",
    "plt.xlabel('Predicted')\n",
    "plt.ylabel('Actual') \n",
    "plt.yticks(rotation=0)\n",
    "plt.show()\n",
    "\n",
    "print(classification_report(y_true=y_test_label, y_pred=y_pred_label))"
   ]
  },
  {
   "cell_type": "markdown",
   "metadata": {},
   "source": [
    "### Obtain Missclassifications"
   ]
  },
  {
   "cell_type": "code",
   "execution_count": null,
   "metadata": {},
   "outputs": [
    {
     "name": "stdout",
     "output_type": "stream",
     "text": [
      "   part_id group sex  height  weight   BMI recorded_in_the_lab  \\\n",
      "70      68    NF   f    1.68   69.00 24.40                   0   \n",
      "65      61    NF   m    1.73   65.30 21.80                   0   \n",
      "86      87   FHs   f    1.60   77.10 30.10                   0   \n",
      "\n",
      "   clinically_at_risk label_binary  \n",
      "70                  0   Non-Faller  \n",
      "65                  0   Non-Faller  \n",
      "86                  1       Faller  \n"
     ]
    }
   ],
   "source": [
    "#create pandas dataframe with all misclassified samples\n",
    "missclassifications = yTest_bin_orig.loc[yTest_bin_orig.label_binary!=y_pred_label]\n",
    "print(missclassifications)"
   ]
  },
  {
   "cell_type": "markdown",
   "metadata": {},
   "source": [
    "### Remap Labels to Be Binary Single Fallers Included as Non-Fallers"
   ]
  },
  {
   "cell_type": "code",
   "execution_count": null,
   "metadata": {},
   "outputs": [],
   "source": [
    "yTrainBinary = binaryLabelRemapping(yTrain_orig, False)\n",
    "yTestBinary = binaryLabelRemapping(yTest_orig, False)\n",
    "\n",
    "le3 = LabelEncoder()\n",
    "\n",
    "yTrain_bin_orig = yTrainBinary\n",
    "yTest_bin_orig = yTestBinary\n",
    "\n",
    "yDf_bin = binaryLabelRemapping(yDf, False)\n",
    "\n",
    "y_bin = np.asarray(le3.fit_transform(yDf_bin.label_binary.values))\n",
    "\n",
    "#convert to numpy array\n",
    "yTrainBinary = np.asarray(le3.fit_transform(yTrainBinary.label_binary.values))\n",
    "yTestBinary = np.asarray(le3.fit_transform(yTestBinary.label_binary.values))"
   ]
  },
  {
   "cell_type": "markdown",
   "metadata": {},
   "source": [
    "### Apply Lazy Classifier"
   ]
  },
  {
   "cell_type": "code",
   "execution_count": null,
   "metadata": {},
   "outputs": [
    {
     "name": "stderr",
     "output_type": "stream",
     "text": [
      "100%|██████████| 29/29 [00:00<00:00, 46.41it/s]"
     ]
    },
    {
     "name": "stdout",
     "output_type": "stream",
     "text": [
      "                               Accuracy  Balanced Accuracy  ROC AUC  F1 Score  \\\n",
      "Model                                                                           \n",
      "BernoulliNB                        0.83               0.91     0.91      0.88   \n",
      "CalibratedClassifierCV             0.94               0.50     0.50      0.92   \n",
      "XGBClassifier                      0.94               0.50     0.50      0.92   \n",
      "DummyClassifier                    0.94               0.50     0.50      0.92   \n",
      "ExtraTreeClassifier                0.94               0.50     0.50      0.92   \n",
      "ExtraTreesClassifier               0.94               0.50     0.50      0.92   \n",
      "SVC                                0.94               0.50     0.50      0.92   \n",
      "KNeighborsClassifier               0.94               0.50     0.50      0.92   \n",
      "RidgeClassifierCV                  0.94               0.50     0.50      0.92   \n",
      "RandomForestClassifier             0.94               0.50     0.50      0.92   \n",
      "QuadraticDiscriminantAnalysis      0.94               0.50     0.50      0.92   \n",
      "AdaBoostClassifier                 0.89               0.47     0.47      0.89   \n",
      "PassiveAggressiveClassifier        0.89               0.47     0.47      0.89   \n",
      "SGDClassifier                      0.89               0.47     0.47      0.89   \n",
      "RidgeClassifier                    0.89               0.47     0.47      0.89   \n",
      "LinearSVC                          0.89               0.47     0.47      0.89   \n",
      "LogisticRegression                 0.89               0.47     0.47      0.89   \n",
      "BaggingClassifier                  0.89               0.47     0.47      0.89   \n",
      "DecisionTreeClassifier             0.89               0.47     0.47      0.89   \n",
      "LGBMClassifier                     0.89               0.47     0.47      0.89   \n",
      "Perceptron                         0.83               0.44     0.44      0.86   \n",
      "NearestCentroid                    0.78               0.41     0.41      0.83   \n",
      "LinearDiscriminantAnalysis         0.78               0.41     0.41      0.83   \n",
      "LabelSpreading                     0.78               0.41     0.41      0.83   \n",
      "LabelPropagation                   0.78               0.41     0.41      0.83   \n",
      "GaussianNB                         0.72               0.38     0.38      0.79   \n",
      "\n",
      "                               Time Taken  \n",
      "Model                                      \n",
      "BernoulliNB                          0.01  \n",
      "CalibratedClassifierCV               0.03  \n",
      "XGBClassifier                        0.03  \n",
      "DummyClassifier                      0.01  \n",
      "ExtraTreeClassifier                  0.01  \n",
      "ExtraTreesClassifier                 0.10  \n",
      "SVC                                  0.01  \n",
      "KNeighborsClassifier                 0.01  \n",
      "RidgeClassifierCV                    0.01  \n",
      "RandomForestClassifier               0.14  \n",
      "QuadraticDiscriminantAnalysis        0.01  \n",
      "AdaBoostClassifier                   0.07  \n",
      "PassiveAggressiveClassifier          0.01  \n",
      "SGDClassifier                        0.01  \n",
      "RidgeClassifier                      0.01  \n",
      "LinearSVC                            0.01  \n",
      "LogisticRegression                   0.01  \n",
      "BaggingClassifier                    0.02  \n",
      "DecisionTreeClassifier               0.01  \n",
      "LGBMClassifier                       0.03  \n",
      "Perceptron                           0.01  \n",
      "NearestCentroid                      0.01  \n",
      "LinearDiscriminantAnalysis           0.01  \n",
      "LabelSpreading                       0.01  \n",
      "LabelPropagation                     0.01  \n",
      "GaussianNB                           0.01  \n"
     ]
    },
    {
     "name": "stderr",
     "output_type": "stream",
     "text": [
      "\n"
     ]
    }
   ],
   "source": [
    "lazyclass3 = LazyClassifier(verbose=0, ignore_warnings=True, custom_metric=None)\n",
    "scores, predictions = lazyclass3.fit(xTrain, xTest, yTrainBinary, yTestBinary)\n",
    "print(scores)\n",
    "modelDict = lazyclass3.provide_models(xTrain, xTest, yTrainBinary, yTestBinary)"
   ]
  },
  {
   "cell_type": "code",
   "execution_count": null,
   "metadata": {},
   "outputs": [
    {
     "name": "stdout",
     "output_type": "stream",
     "text": [
      "('BernoulliNB', 0.9117647058823529)\n"
     ]
    }
   ],
   "source": [
    "#iterate through scores and find model with highest balanced accuracy\n",
    "classifiers = scores.index.tolist()\n",
    "balAccs = scores['ROC AUC']\n",
    "bestModel = max(zip(classifiers, balAccs), key=lambda x: x[1])\n",
    "pipe = modelDict[bestModel[0]]\n",
    "print(bestModel)"
   ]
  },
  {
   "cell_type": "markdown",
   "metadata": {},
   "source": [
    "### Train Best Model with Optimal Parameters For Binary Labels Single Fallers are Non-Fallers"
   ]
  },
  {
   "cell_type": "code",
   "execution_count": null,
   "metadata": {},
   "outputs": [
    {
     "name": "stdout",
     "output_type": "stream",
     "text": [
      "Fitting 5 folds for each of 180 candidates, totalling 900 fits\n",
      "0.7846153846153847\n",
      "{'classifier__alpha': 0.1, 'classifier__binarize': 0.1, 'classifier__class_prior': None, 'classifier__fit_prior': True}\n"
     ]
    }
   ],
   "source": [
    "#Perform grid search on best model\n",
    "#find distribution of data for class prior\n",
    "classPrior = np.bincount(y_bin) / len(y_bin)\n",
    "#convert to list\n",
    "classPrior = classPrior.tolist()\n",
    "\n",
    "tuning_params = [{\n",
    "    'classifier__alpha': [1e-7, 1e-5, 1e-3, 1e-1, 1e0],\n",
    "    'classifier__binarize': [None, 0, 0.05, 0.1, 0.15, 0.2],\n",
    "    'classifier__fit_prior': [True, False],\n",
    "    'classifier__class_prior': [None, [0.5, 0.5], classPrior]\n",
    "}]\n",
    "skf = StratifiedKFold(n_splits=5, shuffle=True, random_state=42)\n",
    "grid = GridSearchCV(pipe, tuning_params, \n",
    "                    cv=skf.split(xTrain,yTrainBinary), scoring='roc_auc', \n",
    "                    n_jobs=-1, verbose=2, refit=True)\n",
    "\n",
    "grid.fit(xTrain,yTrainBinary)\n",
    "\n",
    "best_model = grid.best_estimator_\n",
    "print(grid.best_score_)\n",
    "print(grid.best_params_)\n",
    "\n",
    "optimal_params = grid.best_params_"
   ]
  },
  {
   "cell_type": "markdown",
   "metadata": {},
   "source": [
    "### Train Model with Optimal Parameters For Binary Labels Single Fallers are Non-Fallers"
   ]
  },
  {
   "cell_type": "code",
   "execution_count": null,
   "metadata": {},
   "outputs": [],
   "source": [
    "clf = best_model\n",
    "\n",
    "y_pred_bin = pipe.predict(xTest)\n",
    "\n",
    "#map predictions back to original labels\n",
    "y_pred_label = le3.inverse_transform(y_pred_bin)\n",
    "y_test_label = le3.inverse_transform(yTestBinary)"
   ]
  },
  {
   "cell_type": "markdown",
   "metadata": {},
   "source": [
    "### Create Confusion Matrix For Binary Labels FHs -> Non-Fallers"
   ]
  },
  {
   "cell_type": "code",
   "execution_count": null,
   "metadata": {},
   "outputs": [
    {
     "data": {
      "image/png": "[encoded data removed]",
      "text/plain": [
       "<Figure size 600x400 with 2 Axes>"
      ]
     },
     "metadata": {},
     "output_type": "display_data"
    },
    {
     "name": "stdout",
     "output_type": "stream",
     "text": [
      "              precision    recall  f1-score   support\n",
      "\n",
      "      Faller       0.25      1.00      0.40         1\n",
      "  Non-Faller       1.00      0.82      0.90        17\n",
      "\n",
      "    accuracy                           0.83        18\n",
      "   macro avg       0.62      0.91      0.65        18\n",
      "weighted avg       0.96      0.83      0.88        18\n",
      "\n"
     ]
    }
   ],
   "source": [
    "classes = ['Faller', 'Non-Faller']\n",
    "cm_python = confusion_matrix(y_true=y_test_label, y_pred=y_pred_label, labels=classes)\n",
    "\n",
    "plt.subplots(figsize=(6,4))\n",
    "\n",
    "group_counts = ['{0:0.0f}'.format(value) for value in\n",
    "                cm_python.flatten()]\n",
    "group_percentages = ['{0:.2%}'.format(value) for value in\n",
    "                     cm_python.flatten()/np.sum(cm_python)]\n",
    "labels = [f'{v1}\\n{v2}' for v1, v2 in\n",
    "          zip(group_counts,group_percentages)]\n",
    "labels = np.asarray(labels).reshape(2,2)\n",
    "df_cm_python = pd.DataFrame(cm_python)\n",
    "\n",
    "sns.heatmap(df_cm_python, annot=labels, fmt='',annot_kws={\"size\": 16}, xticklabels=classes, yticklabels=classes) # font size\n",
    "plt.title('Bernoulli NB: Standard processing w/ normalization')\n",
    "plt.xlabel('Predicted')\n",
    "plt.ylabel('Actual') \n",
    "plt.yticks(rotation=0)\n",
    "plt.show()\n",
    "\n",
    "print(classification_report(y_true=y_test_label, y_pred=y_pred_label))\n"
   ]
  },
  {
   "cell_type": "markdown",
   "metadata": {},
   "source": [
    "### Obtain Missclassifications"
   ]
  },
  {
   "cell_type": "code",
   "execution_count": null,
   "metadata": {},
   "outputs": [
    {
     "name": "stdout",
     "output_type": "stream",
     "text": [
      "   part_id group sex  height  weight   BMI recorded_in_the_lab  \\\n",
      "55      48    NF   m    1.70   73.40 25.40                   0   \n",
      "10      19    HA   m    1.78   79.00 24.90                   1   \n",
      "86      87   FHs   f    1.60   77.10 30.10                   0   \n",
      "\n",
      "   clinically_at_risk label_binary  \n",
      "55                  0   Non-Faller  \n",
      "10                  0   Non-Faller  \n",
      "86                  1   Non-Faller  \n"
     ]
    }
   ],
   "source": [
    "#create pandas dataframe with all misclassified samples\n",
    "missclassifications = yTest_bin_orig.loc[yTest_bin_orig.label_binary!=y_pred_label]\n",
    "print(missclassifications)"
   ]
  }
 ],
 "metadata": {
  "kernelspec": {
   "display_name": "Python 3.10.8 ('kba')",
   "language": "python",
   "name": "python3"
  },
  "language_info": {
   "codemirror_mode": {
    "name": "ipython",
    "version": 3
   },
   "file_extension": ".py",
   "mimetype": "text/x-python",
   "name": "python",
   "nbconvert_exporter": "python",
   "pygments_lexer": "ipython3",
   "version": "3.10.8"
  },
  "orig_nbformat": 4,
  "vscode": {
   "interpreter": {
    "hash": "5d349dd511cd4e0f99132a14cf8fa9ad6fc13ca582fbb8d1253f3c76c77827a5"
   }
  }
 },
 "nbformat": 4,
 "nbformat_minor": 2
}
