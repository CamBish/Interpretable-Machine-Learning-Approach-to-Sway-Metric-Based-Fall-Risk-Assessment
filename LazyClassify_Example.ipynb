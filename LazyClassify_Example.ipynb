{
 "cells": [
  {
   "cell_type": "markdown",
   "metadata": {},
   "source": [
    "# Load Kinecal Data ELEC872 Project\n",
    "### Cameron Bishop | November 16th 2022"
   ]
  },
  {
   "cell_type": "code",
   "execution_count": 1,
   "metadata": {},
   "outputs": [
    {
     "data": {
      "text/plain": [
       "<module 'models' from 'c:\\\\Users\\\\camb7\\\\Code Repositories\\\\KINECAL Balance Assessment\\\\KINECAL-Balance-Assessment\\\\models.py'>"
      ]
     },
     "execution_count": 1,
     "metadata": {},
     "output_type": "execute_result"
    }
   ],
   "source": [
    "import pandas as pd\n",
    "import numpy as np\n",
    "import importlib\n",
    "import matplotlib.pyplot as plt\n",
    "import seaborn as sns\n",
    "\n",
    "from lazypredict.Supervised import LazyClassifier\n",
    "from sklearn.model_selection import train_test_split, GridSearchCV, StratifiedKFold\n",
    "from sklearn.preprocessing import label_binarize, LabelEncoder #Standardization and conversion of categorical labels to binary representation\n",
    "from sklearn.metrics import confusion_matrix, ConfusionMatrixDisplay, accuracy_score, classification_report, plot_roc_curve\n",
    "\n",
    "from sklearn.naive_bayes import BernoulliNB\n",
    "from sklearn.pipeline import Pipeline\n",
    "\n",
    "import LoadKinecalFunctions\n",
    "from LoadKinecalFunctions import *\n",
    "importlib.reload(LoadKinecalFunctions)\n",
    "from const import User, Exercise\n",
    "import models\n",
    "from models import *\n",
    "importlib.reload(models)\n",
    "\n"
   ]
  },
  {
   "cell_type": "code",
   "execution_count": 2,
   "metadata": {},
   "outputs": [],
   "source": [
    "user = User.CD\n",
    "excerciseList = [Exercise.QSECFS, Exercise.QSEOFS, Exercise.STS, Exercise.TS]\n",
    "\n",
    "QSClosedDf = readKinecalFiles(excerciseList[0], user) \n",
    "QSOpenDf = readKinecalFiles(excerciseList[1], user) \n",
    "SemiTandemDf = readKinecalFiles(excerciseList[2], user) \n",
    "TandemDf = readKinecalFiles(excerciseList[3], user) \n"
   ]
  },
  {
   "cell_type": "markdown",
   "metadata": {},
   "source": [
    "### Seperate X and Y Dataframes"
   ]
  },
  {
   "cell_type": "code",
   "execution_count": 3,
   "metadata": {},
   "outputs": [
    {
     "name": "stdout",
     "output_type": "stream",
     "text": [
      "   part_id group sex  height  weight   BMI recorded_in_the_lab  \\\n",
      "0       10    HA   m    1.85   77.00 22.50                   1   \n",
      "1      100    NF   f    1.55   82.50 34.30                   1   \n",
      "2       11    HA   f    1.57   51.50 20.90                   1   \n",
      "3       12    HA   m    1.64   68.50 25.50                   1   \n",
      "4       13    HA   m    1.78   85.00 26.80                   1   \n",
      "..     ...   ...  ..     ...     ...   ...                 ...   \n",
      "85      84   FHm   f    1.56   60.00 24.70                   0   \n",
      "86      87   FHs   f    1.60   77.10 30.10                   0   \n",
      "87       9    HA   m    1.69   75.00 26.30                   1   \n",
      "88      92    NF   m    1.83   97.00 29.00                   0   \n",
      "89      96   FHs   m    1.78   81.20 25.60                   0   \n",
      "\n",
      "   clinically_at_risk  \n",
      "0                   0  \n",
      "1                   0  \n",
      "2                   0  \n",
      "3                   0  \n",
      "4                   0  \n",
      "..                ...  \n",
      "85                  0  \n",
      "86                  1  \n",
      "87                  0  \n",
      "88                  0  \n",
      "89                  0  \n",
      "\n",
      "[90 rows x 8 columns]\n"
     ]
    }
   ],
   "source": [
    "yDf = QSClosedDf.iloc[:, 0:9]\n",
    "yDf = yDf.drop(columns='movement')\n",
    "\n",
    "QSClosedXDf = QSClosedDf.iloc[:, 9:-1]\n",
    "QSOpenXDf = QSOpenDf.iloc[:, 9:-1]\n",
    "SemiTandemXDf = SemiTandemDf.iloc[:, 9:-1]\n",
    "TandemXDf = TandemDf.iloc[:, 9:-1]\n",
    "\n",
    "print(yDf)"
   ]
  },
  {
   "cell_type": "markdown",
   "metadata": {},
   "source": [
    "### Replace Missing Data With Mean of That Class"
   ]
  },
  {
   "cell_type": "code",
   "execution_count": 4,
   "metadata": {},
   "outputs": [
    {
     "name": "stdout",
     "output_type": "stream",
     "text": [
      "[ 2 14 15]\n",
      "[ 2 17 29 34 71]\n",
      "[ 2 14 17 31 33 60 66]\n",
      "[13 14 17 29 31 33 36 37 55 60 66 74 77]\n"
     ]
    }
   ],
   "source": [
    "QSClosedXDf = replaceMissingValues(QSClosedXDf, yDf)\n",
    "QSOpenXDf = replaceMissingValues(QSOpenXDf, yDf)\n",
    "SemiTandemXDf = replaceMissingValues(SemiTandemXDf, yDf)\n",
    "TandemXDf = replaceMissingValues(TandemXDf, yDf)\n"
   ]
  },
  {
   "cell_type": "markdown",
   "metadata": {},
   "source": [
    "### Perform Sample Normalization"
   ]
  },
  {
   "cell_type": "code",
   "execution_count": 5,
   "metadata": {},
   "outputs": [],
   "source": [
    "#print(np.asarray(QS_Closed_x_df.iloc[0,:].values))\n",
    "QSClosedXNormDf = datasetNormalization(QSClosedXDf)\n",
    "QSOpenXNormDf = datasetNormalization(QSOpenXDf)\n",
    "SemiTandemXNormDf = datasetNormalization(SemiTandemXDf)\n",
    "TandemXNormDf = datasetNormalization(TandemXDf)"
   ]
  },
  {
   "cell_type": "markdown",
   "metadata": {},
   "source": [
    "### Combine Excercises Into One Dataset"
   ]
  },
  {
   "cell_type": "code",
   "execution_count": 6,
   "metadata": {},
   "outputs": [
    {
     "name": "stdout",
     "output_type": "stream",
     "text": [
      "(90, 16) (90, 16) (90, 16) (90, 16)\n",
      "(90, 64)\n"
     ]
    }
   ],
   "source": [
    "print(QSClosedXNormDf.shape, QSOpenXNormDf.shape, SemiTandemXNormDf.shape, TandemXNormDf.shape)\n",
    "combinedXNormDf = pd.concat([QSClosedXNormDf, QSOpenXNormDf, SemiTandemXNormDf, TandemXDf], axis=1)\n",
    "print(combinedXNormDf.shape)"
   ]
  },
  {
   "cell_type": "markdown",
   "metadata": {},
   "source": [
    "### Seperate Into Training and Testing Sets"
   ]
  },
  {
   "cell_type": "code",
   "execution_count": 7,
   "metadata": {},
   "outputs": [],
   "source": [
    "xTrain, xTest, yTrain, yTest = train_test_split(combinedXNormDf, yDf, test_size=0.2, random_state=42)\n",
    "\n",
    "le = LabelEncoder()\n",
    "\n",
    "yTest_orig = yTest\n",
    "yTrain_orig = yTrain\n",
    "\n",
    "yTest = le.fit_transform(yTest.group.values)\n",
    "yTrain = le.fit_transform(yTrain.group.values)\n",
    "\n",
    "X = np.asarray(combinedXNormDf)\n",
    "y = np.asarray(le.fit_transform(yDf.group.values))\n",
    "\n",
    "xTest = np.asarray(xTest)\n",
    "xTrain = np.asarray(xTrain) \n"
   ]
  },
  {
   "cell_type": "markdown",
   "metadata": {},
   "source": [
    "### Apply Lazy Classifier"
   ]
  },
  {
   "cell_type": "code",
   "execution_count": 8,
   "metadata": {},
   "outputs": [
    {
     "name": "stderr",
     "output_type": "stream",
     "text": [
      "100%|██████████| 29/29 [00:00<00:00, 31.66it/s]"
     ]
    },
    {
     "name": "stdout",
     "output_type": "stream",
     "text": [
      "                               Accuracy  Balanced Accuracy ROC AUC  F1 Score  \\\n",
      "Model                                                                          \n",
      "BernoulliNB                        0.39               0.53    None      0.38   \n",
      "LinearSVC                          0.44               0.37    None      0.45   \n",
      "RidgeClassifier                    0.44               0.37    None      0.45   \n",
      "RandomForestClassifier             0.44               0.37    None      0.44   \n",
      "BaggingClassifier                  0.39               0.33    None      0.38   \n",
      "ExtraTreesClassifier               0.44               0.32    None      0.43   \n",
      "LabelPropagation                   0.39               0.32    None      0.43   \n",
      "LabelSpreading                     0.39               0.32    None      0.43   \n",
      "LogisticRegression                 0.39               0.32    None      0.39   \n",
      "PassiveAggressiveClassifier        0.39               0.31    None      0.38   \n",
      "RidgeClassifierCV                  0.39               0.31    None      0.39   \n",
      "SVC                                0.39               0.29    None      0.32   \n",
      "DecisionTreeClassifier             0.33               0.29    None      0.34   \n",
      "SGDClassifier                      0.33               0.29    None      0.33   \n",
      "Perceptron                         0.33               0.27    None      0.37   \n",
      "AdaBoostClassifier                 0.33               0.26    None      0.32   \n",
      "KNeighborsClassifier               0.33               0.26    None      0.34   \n",
      "XGBClassifier                      0.33               0.26    None      0.34   \n",
      "DummyClassifier                    0.28               0.25    None      0.12   \n",
      "CalibratedClassifierCV             0.33               0.24    None      0.28   \n",
      "LGBMClassifier                     0.33               0.24    None      0.34   \n",
      "GaussianNB                         0.22               0.19    None      0.22   \n",
      "NearestCentroid                    0.22               0.19    None      0.25   \n",
      "QuadraticDiscriminantAnalysis      0.22               0.17    None      0.22   \n",
      "ExtraTreeClassifier                0.22               0.17    None      0.25   \n",
      "LinearDiscriminantAnalysis         0.17               0.14    None      0.17   \n",
      "\n",
      "                               Time Taken  \n",
      "Model                                      \n",
      "BernoulliNB                          0.02  \n",
      "LinearSVC                            0.03  \n",
      "RidgeClassifier                      0.01  \n",
      "RandomForestClassifier               0.14  \n",
      "BaggingClassifier                    0.03  \n",
      "ExtraTreesClassifier                 0.13  \n",
      "LabelPropagation                     0.01  \n",
      "LabelSpreading                       0.01  \n",
      "LogisticRegression                   0.03  \n",
      "PassiveAggressiveClassifier          0.01  \n",
      "RidgeClassifierCV                    0.01  \n",
      "SVC                                  0.01  \n",
      "DecisionTreeClassifier               0.01  \n",
      "SGDClassifier                        0.01  \n",
      "Perceptron                           0.01  \n",
      "AdaBoostClassifier                   0.08  \n",
      "KNeighborsClassifier                 0.01  \n",
      "XGBClassifier                        0.12  \n",
      "DummyClassifier                      0.01  \n",
      "CalibratedClassifierCV               0.10  \n",
      "LGBMClassifier                       0.05  \n",
      "GaussianNB                           0.01  \n",
      "NearestCentroid                      0.01  \n",
      "QuadraticDiscriminantAnalysis        0.01  \n",
      "ExtraTreeClassifier                  0.02  \n",
      "LinearDiscriminantAnalysis           0.01  \n"
     ]
    },
    {
     "name": "stderr",
     "output_type": "stream",
     "text": [
      "\n"
     ]
    }
   ],
   "source": [
    "lazyclass = LazyClassifier(verbose=0, ignore_warnings=True, custom_metric=None)\n",
    "scores, predictions = lazyclass.fit(xTrain, xTest, yTrain, yTest)\n",
    "print(scores)\n",
    "modelDict = lazyclass.provide_models(xTrain, xTest, yTrain, yTest)"
   ]
  },
  {
   "cell_type": "markdown",
   "metadata": {},
   "source": [
    "### Find Strongest Performing Model by Balanced Accuracy"
   ]
  },
  {
   "cell_type": "code",
   "execution_count": 9,
   "metadata": {},
   "outputs": [
    {
     "name": "stdout",
     "output_type": "stream",
     "text": [
      "('BernoulliNB', 0.53125)\n"
     ]
    }
   ],
   "source": [
    "#iterate through scores and find model with highest balanced accuracy\n",
    "classifiers = scores.index.tolist()\n",
    "balAccs = scores['Balanced Accuracy']\n",
    "bestModel = max(zip(classifiers, balAccs), key=lambda x: x[1])\n",
    "pipe = modelDict[bestModel[0]]\n",
    "print(bestModel)\n"
   ]
  },
  {
   "cell_type": "code",
   "execution_count": 10,
   "metadata": {},
   "outputs": [
    {
     "name": "stdout",
     "output_type": "stream",
     "text": [
      "dict_keys(['memory', 'steps', 'verbose', 'preprocessor', 'classifier', 'preprocessor__n_jobs', 'preprocessor__remainder', 'preprocessor__sparse_threshold', 'preprocessor__transformer_weights', 'preprocessor__transformers', 'preprocessor__verbose', 'preprocessor__verbose_feature_names_out', 'preprocessor__numeric', 'preprocessor__categorical_low', 'preprocessor__categorical_high', 'preprocessor__numeric__memory', 'preprocessor__numeric__steps', 'preprocessor__numeric__verbose', 'preprocessor__numeric__imputer', 'preprocessor__numeric__scaler', 'preprocessor__numeric__imputer__add_indicator', 'preprocessor__numeric__imputer__copy', 'preprocessor__numeric__imputer__fill_value', 'preprocessor__numeric__imputer__missing_values', 'preprocessor__numeric__imputer__strategy', 'preprocessor__numeric__imputer__verbose', 'preprocessor__numeric__scaler__copy', 'preprocessor__numeric__scaler__with_mean', 'preprocessor__numeric__scaler__with_std', 'preprocessor__categorical_low__memory', 'preprocessor__categorical_low__steps', 'preprocessor__categorical_low__verbose', 'preprocessor__categorical_low__imputer', 'preprocessor__categorical_low__encoding', 'preprocessor__categorical_low__imputer__add_indicator', 'preprocessor__categorical_low__imputer__copy', 'preprocessor__categorical_low__imputer__fill_value', 'preprocessor__categorical_low__imputer__missing_values', 'preprocessor__categorical_low__imputer__strategy', 'preprocessor__categorical_low__imputer__verbose', 'preprocessor__categorical_low__encoding__categories', 'preprocessor__categorical_low__encoding__drop', 'preprocessor__categorical_low__encoding__dtype', 'preprocessor__categorical_low__encoding__handle_unknown', 'preprocessor__categorical_low__encoding__sparse', 'preprocessor__categorical_high__memory', 'preprocessor__categorical_high__steps', 'preprocessor__categorical_high__verbose', 'preprocessor__categorical_high__imputer', 'preprocessor__categorical_high__encoding', 'preprocessor__categorical_high__imputer__add_indicator', 'preprocessor__categorical_high__imputer__copy', 'preprocessor__categorical_high__imputer__fill_value', 'preprocessor__categorical_high__imputer__missing_values', 'preprocessor__categorical_high__imputer__strategy', 'preprocessor__categorical_high__imputer__verbose', 'preprocessor__categorical_high__encoding__categories', 'preprocessor__categorical_high__encoding__dtype', 'preprocessor__categorical_high__encoding__handle_unknown', 'preprocessor__categorical_high__encoding__unknown_value', 'classifier__alpha', 'classifier__binarize', 'classifier__class_prior', 'classifier__fit_prior'])\n",
      "Fitting 5 folds for each of 432 candidates, totalling 2160 fits\n",
      "0.4333333333333334\n",
      "{'classifier__alpha': 1.5, 'classifier__binarize': 0.05, 'classifier__class_prior': [0.1, 0.16666666666666666, 0.36666666666666664, 0.36666666666666664], 'classifier__fit_prior': True}\n"
     ]
    }
   ],
   "source": [
    "#Perform grid search on best model\n",
    "#find distribution of data for class prior\n",
    "classPrior = np.bincount(y) / len(y)\n",
    "#convert to list\n",
    "classPrior = classPrior.tolist()\n",
    "\n",
    "#get parameters of best model\n",
    "print(pipe.get_params().keys())\n",
    "\n",
    "tuning_params = [{\n",
    "    'classifier__alpha': [1, 1.25, 1.5, 1.75, 2, 2.25, 2.5, 2.75],\n",
    "    'classifier__binarize': [0, 0.05, 0.1, 0.15, 0.2, 0.25, 0.3, 0.35, 0.5],\n",
    "    'classifier__fit_prior': [True, False],\n",
    "    'classifier__class_prior': [None, [0.25, 0.25, 0.25, 0.25], classPrior]\n",
    "}]\n",
    "skf = StratifiedKFold(n_splits=5, shuffle=True, random_state=42)\n",
    "grid = GridSearchCV(pipe, tuning_params, \n",
    "                    cv=skf.split(X,y), scoring='accuracy', \n",
    "                    n_jobs=-1, verbose=2, refit=True)\n",
    "\n",
    "grid.fit(X,y)\n",
    "\n",
    "best_model = grid.best_estimator_\n",
    "print(grid.best_score_)\n",
    "print(grid.best_params_)\n",
    "\n",
    "optimal_params = grid.best_params_"
   ]
  },
  {
   "cell_type": "markdown",
   "metadata": {},
   "source": [
    "### Create Model With Optimal Parameters"
   ]
  },
  {
   "cell_type": "code",
   "execution_count": 11,
   "metadata": {},
   "outputs": [],
   "source": [
    "\n",
    "clf = best_model\n",
    "\n",
    "y_pred = clf.predict(xTest)\n",
    "\n",
    "#map predictions back to original labels\n",
    "y_pred_label = le.inverse_transform(y_pred)\n",
    "y_test_label = le.inverse_transform(yTest)"
   ]
  },
  {
   "cell_type": "markdown",
   "metadata": {},
   "source": [
    "### Create Confusion Matrix and Classification Report"
   ]
  },
  {
   "cell_type": "code",
   "execution_count": 12,
   "metadata": {},
   "outputs": [
    {
     "data": {
      "image/png": "[encoded data removed]",
      "text/plain": [
       "<Figure size 600x400 with 2 Axes>"
      ]
     },
     "metadata": {},
     "output_type": "display_data"
    },
    {
     "name": "stdout",
     "output_type": "stream",
     "text": [
      "              precision    recall  f1-score   support\n",
      "\n",
      "         FHm       0.25      1.00      0.40         1\n",
      "         FHs       0.75      0.75      0.75         4\n",
      "          HA       0.75      0.38      0.50         8\n",
      "          NF       0.50      0.60      0.55         5\n",
      "\n",
      "    accuracy                           0.56        18\n",
      "   macro avg       0.56      0.68      0.55        18\n",
      "weighted avg       0.65      0.56      0.56        18\n",
      "\n"
     ]
    }
   ],
   "source": [
    "classes = ['HA','NF','FHs','FHm']\n",
    "cm_python = confusion_matrix(y_true=y_test_label, y_pred=y_pred_label, labels=classes)\n",
    "\n",
    "plt.subplots(figsize=(6,4))\n",
    "\n",
    "group_counts = ['{0:0.0f}'.format(value) for value in\n",
    "                cm_python.flatten()]\n",
    "group_percentages = ['{0:.2%}'.format(value) for value in\n",
    "                     cm_python.flatten()/np.sum(cm_python)]\n",
    "labels = [f'{v1}\\n{v2}' for v1, v2 in\n",
    "          zip(group_counts,group_percentages)]\n",
    "labels = np.asarray(labels).reshape(4,4)\n",
    "df_cm_python = pd.DataFrame(cm_python)\n",
    "\n",
    "sns.heatmap(df_cm_python, annot=labels, fmt='',annot_kws={\"size\": 16}, xticklabels=classes, yticklabels=classes) # font size\n",
    "plt.title('Bernoulli Naive-Bayes: Standard processing w/ normalization')\n",
    "plt.xlabel('Predicted')\n",
    "plt.ylabel('Actual') \n",
    "plt.yticks(rotation=0)\n",
    "plt.show()\n",
    "\n",
    "print(classification_report(y_true=y_test_label, y_pred=y_pred_label))\n"
   ]
  },
  {
   "cell_type": "markdown",
   "metadata": {},
   "source": [
    "### Remap Labels to Be Binary Single Fallers Included as Fallers"
   ]
  },
  {
   "cell_type": "code",
   "execution_count": 19,
   "metadata": {},
   "outputs": [],
   "source": [
    "yTrainBinary = binaryLabelRemapping(yTrain_orig, True)\n",
    "yTestBinary = binaryLabelRemapping(yTest_orig, True)\n",
    "\n",
    "le2 = LabelEncoder()\n",
    "\n",
    "yTrain_bin_orig = yTrainBinary\n",
    "yTest_bin_orig = yTestBinary\n",
    "\n",
    "yDf_bin = binaryLabelRemapping(yDf, True)\n",
    "\n",
    "y_bin = np.asarray(le2.fit_transform(yDf_bin.label_binary.values))\n",
    "\n",
    "#convert to numpy array\n",
    "yTrainBinary = np.asarray(le2.fit_transform(yTrainBinary.label_binary.values))\n",
    "yTestBinary = np.asarray(le2.fit_transform(yTestBinary.label_binary.values))"
   ]
  },
  {
   "cell_type": "markdown",
   "metadata": {},
   "source": [
    "### Apply Lazy Classifier to Binary Data"
   ]
  },
  {
   "cell_type": "code",
   "execution_count": 20,
   "metadata": {},
   "outputs": [
    {
     "name": "stderr",
     "output_type": "stream",
     "text": [
      "100%|██████████| 29/29 [00:00<00:00, 41.11it/s]"
     ]
    },
    {
     "name": "stdout",
     "output_type": "stream",
     "text": [
      "                               Accuracy  Balanced Accuracy  ROC AUC  F1 Score  \\\n",
      "Model                                                                           \n",
      "Perceptron                         0.83               0.82     0.82      0.84   \n",
      "LinearSVC                          0.83               0.76     0.76      0.83   \n",
      "RidgeClassifier                    0.83               0.76     0.76      0.83   \n",
      "BernoulliNB                        0.72               0.75     0.75      0.74   \n",
      "SGDClassifier                      0.78               0.72     0.72      0.78   \n",
      "DecisionTreeClassifier             0.72               0.68     0.68      0.73   \n",
      "LogisticRegression                 0.78               0.66     0.66      0.76   \n",
      "NearestCentroid                    0.67               0.65     0.65      0.68   \n",
      "GaussianNB                         0.50               0.59     0.59      0.51   \n",
      "PassiveAggressiveClassifier        0.67               0.58     0.58      0.67   \n",
      "LGBMClassifier                     0.67               0.58     0.58      0.67   \n",
      "NuSVC                              0.72               0.56     0.56      0.68   \n",
      "QuadraticDiscriminantAnalysis      0.72               0.56     0.56      0.68   \n",
      "RidgeClassifierCV                  0.72               0.56     0.56      0.68   \n",
      "BaggingClassifier                  0.61               0.55     0.55      0.62   \n",
      "DummyClassifier                    0.72               0.50     0.50      0.61   \n",
      "CalibratedClassifierCV             0.72               0.50     0.50      0.61   \n",
      "SVC                                0.72               0.50     0.50      0.61   \n",
      "XGBClassifier                      0.61               0.48     0.48      0.60   \n",
      "LabelSpreading                     0.50               0.47     0.47      0.53   \n",
      "LabelPropagation                   0.50               0.47     0.47      0.53   \n",
      "RandomForestClassifier             0.67               0.46     0.46      0.58   \n",
      "KNeighborsClassifier               0.56               0.45     0.45      0.56   \n",
      "ExtraTreesClassifier               0.61               0.42     0.42      0.55   \n",
      "ExtraTreeClassifier                0.50               0.41     0.41      0.51   \n",
      "AdaBoostClassifier                 0.56               0.38     0.38      0.52   \n",
      "LinearDiscriminantAnalysis         0.44               0.37     0.37      0.47   \n",
      "\n",
      "                               Time Taken  \n",
      "Model                                      \n",
      "Perceptron                           0.01  \n",
      "LinearSVC                            0.02  \n",
      "RidgeClassifier                      0.01  \n",
      "BernoulliNB                          0.01  \n",
      "SGDClassifier                        0.01  \n",
      "DecisionTreeClassifier               0.01  \n",
      "LogisticRegression                   0.02  \n",
      "NearestCentroid                      0.01  \n",
      "GaussianNB                           0.01  \n",
      "PassiveAggressiveClassifier          0.01  \n",
      "LGBMClassifier                       0.03  \n",
      "NuSVC                                0.01  \n",
      "QuadraticDiscriminantAnalysis        0.01  \n",
      "RidgeClassifierCV                    0.01  \n",
      "BaggingClassifier                    0.03  \n",
      "DummyClassifier                      0.01  \n",
      "CalibratedClassifierCV               0.04  \n",
      "SVC                                  0.01  \n",
      "XGBClassifier                        0.04  \n",
      "LabelSpreading                       0.01  \n",
      "LabelPropagation                     0.01  \n",
      "RandomForestClassifier               0.15  \n",
      "KNeighborsClassifier                 0.01  \n",
      "ExtraTreesClassifier                 0.11  \n",
      "ExtraTreeClassifier                  0.01  \n",
      "AdaBoostClassifier                   0.07  \n",
      "LinearDiscriminantAnalysis           0.01  \n"
     ]
    },
    {
     "name": "stderr",
     "output_type": "stream",
     "text": [
      "\n"
     ]
    }
   ],
   "source": [
    "lazyclass2 = LazyClassifier(verbose=0, ignore_warnings=True, custom_metric=None)\n",
    "scores, predictions = lazyclass2.fit(xTrain, xTest, yTrainBinary, yTestBinary)\n",
    "print(scores)\n",
    "modelDict = lazyclass2.provide_models(xTrain, xTest, yTrainBinary, yTestBinary)"
   ]
  },
  {
   "cell_type": "code",
   "execution_count": 21,
   "metadata": {},
   "outputs": [
    {
     "name": "stdout",
     "output_type": "stream",
     "text": [
      "('Perceptron', 0.823076923076923)\n"
     ]
    }
   ],
   "source": [
    "#iterate through scores and find model with highest balanced accuracy\n",
    "classifiers = scores.index.tolist()\n",
    "balAccs = scores['Balanced Accuracy']\n",
    "bestModel = max(zip(classifiers, balAccs), key=lambda x: x[1])\n",
    "pipe = modelDict[bestModel[0]]\n",
    "print(bestModel)"
   ]
  },
  {
   "cell_type": "code",
   "execution_count": 23,
   "metadata": {},
   "outputs": [
    {
     "name": "stdout",
     "output_type": "stream",
     "text": [
      "dict_keys(['memory', 'steps', 'verbose', 'preprocessor', 'classifier', 'preprocessor__n_jobs', 'preprocessor__remainder', 'preprocessor__sparse_threshold', 'preprocessor__transformer_weights', 'preprocessor__transformers', 'preprocessor__verbose', 'preprocessor__verbose_feature_names_out', 'preprocessor__numeric', 'preprocessor__categorical_low', 'preprocessor__categorical_high', 'preprocessor__numeric__memory', 'preprocessor__numeric__steps', 'preprocessor__numeric__verbose', 'preprocessor__numeric__imputer', 'preprocessor__numeric__scaler', 'preprocessor__numeric__imputer__add_indicator', 'preprocessor__numeric__imputer__copy', 'preprocessor__numeric__imputer__fill_value', 'preprocessor__numeric__imputer__missing_values', 'preprocessor__numeric__imputer__strategy', 'preprocessor__numeric__imputer__verbose', 'preprocessor__numeric__scaler__copy', 'preprocessor__numeric__scaler__with_mean', 'preprocessor__numeric__scaler__with_std', 'preprocessor__categorical_low__memory', 'preprocessor__categorical_low__steps', 'preprocessor__categorical_low__verbose', 'preprocessor__categorical_low__imputer', 'preprocessor__categorical_low__encoding', 'preprocessor__categorical_low__imputer__add_indicator', 'preprocessor__categorical_low__imputer__copy', 'preprocessor__categorical_low__imputer__fill_value', 'preprocessor__categorical_low__imputer__missing_values', 'preprocessor__categorical_low__imputer__strategy', 'preprocessor__categorical_low__imputer__verbose', 'preprocessor__categorical_low__encoding__categories', 'preprocessor__categorical_low__encoding__drop', 'preprocessor__categorical_low__encoding__dtype', 'preprocessor__categorical_low__encoding__handle_unknown', 'preprocessor__categorical_low__encoding__sparse', 'preprocessor__categorical_high__memory', 'preprocessor__categorical_high__steps', 'preprocessor__categorical_high__verbose', 'preprocessor__categorical_high__imputer', 'preprocessor__categorical_high__encoding', 'preprocessor__categorical_high__imputer__add_indicator', 'preprocessor__categorical_high__imputer__copy', 'preprocessor__categorical_high__imputer__fill_value', 'preprocessor__categorical_high__imputer__missing_values', 'preprocessor__categorical_high__imputer__strategy', 'preprocessor__categorical_high__imputer__verbose', 'preprocessor__categorical_high__encoding__categories', 'preprocessor__categorical_high__encoding__dtype', 'preprocessor__categorical_high__encoding__handle_unknown', 'preprocessor__categorical_high__encoding__unknown_value', 'classifier__alpha', 'classifier__class_weight', 'classifier__early_stopping', 'classifier__eta0', 'classifier__fit_intercept', 'classifier__l1_ratio', 'classifier__max_iter', 'classifier__n_iter_no_change', 'classifier__n_jobs', 'classifier__penalty', 'classifier__random_state', 'classifier__shuffle', 'classifier__tol', 'classifier__validation_fraction', 'classifier__verbose', 'classifier__warm_start'])\n",
      "Fitting 5 folds for each of 4 candidates, totalling 20 fits\n"
     ]
    },
    {
     "ename": "ValueError",
     "evalue": "Invalid parameter penalty for estimator Pipeline(steps=[('preprocessor',\n                 ColumnTransformer(transformers=[('numeric',\n                                                  Pipeline(steps=[('imputer',\n                                                                   SimpleImputer()),\n                                                                  ('scaler',\n                                                                   StandardScaler())]),\n                                                  Int64Index([ 0,  1,  2,  3,  4,  5,  6,  7,  8,  9, 10, 11, 12, 13, 14, 15, 16,\n            17, 18, 19, 20, 21, 22, 23, 24, 25, 26, 27, 28, 29, 30, 31, 32, 33,\n            34, 35, 36, 37, 38, 39, 40, 41, 42, 43, 44, 45, 46, 47, 48, 49, 50,\n            51, 52, 53, 54, 55, 56, 57, 58, 59, 60, 61, 62, 63],\n           dtype=...\n                                                                   SimpleImputer(fill_value='missing',\n                                                                                 strategy='constant')),\n                                                                  ('encoding',\n                                                                   OneHotEncoder(handle_unknown='ignore',\n                                                                                 sparse=False))]),\n                                                  Int64Index([], dtype='int64')),\n                                                 ('categorical_high',\n                                                  Pipeline(steps=[('imputer',\n                                                                   SimpleImputer(fill_value='missing',\n                                                                                 strategy='constant')),\n                                                                  ('encoding',\n                                                                   OrdinalEncoder())]),\n                                                  Int64Index([], dtype='int64'))])),\n                ('classifier', Perceptron(random_state=42))]). Check the list of available parameters with `estimator.get_params().keys()`.",
     "output_type": "error",
     "traceback": [
      "\u001b[1;31m---------------------------------------------------------------------------\u001b[0m",
      "\u001b[1;31m_RemoteTraceback\u001b[0m                          Traceback (most recent call last)",
      "\u001b[1;31m_RemoteTraceback\u001b[0m: \n\"\"\"\nTraceback (most recent call last):\n  File \"c:\\Users\\camb7\\anaconda3\\envs\\kba\\lib\\site-packages\\joblib\\externals\\loky\\process_executor.py\", line 436, in _process_worker\n    r = call_item()\n  File \"c:\\Users\\camb7\\anaconda3\\envs\\kba\\lib\\site-packages\\joblib\\externals\\loky\\process_executor.py\", line 288, in __call__\n    return self.fn(*self.args, **self.kwargs)\n  File \"c:\\Users\\camb7\\anaconda3\\envs\\kba\\lib\\site-packages\\joblib\\_parallel_backends.py\", line 595, in __call__\n    return self.func(*args, **kwargs)\n  File \"c:\\Users\\camb7\\anaconda3\\envs\\kba\\lib\\site-packages\\joblib\\parallel.py\", line 263, in __call__\n    return [func(*args, **kwargs)\n  File \"c:\\Users\\camb7\\anaconda3\\envs\\kba\\lib\\site-packages\\joblib\\parallel.py\", line 263, in <listcomp>\n    return [func(*args, **kwargs)\n  File \"c:\\Users\\camb7\\anaconda3\\envs\\kba\\lib\\site-packages\\sklearn\\utils\\fixes.py\", line 216, in __call__\n    return self.function(*args, **kwargs)\n  File \"c:\\Users\\camb7\\anaconda3\\envs\\kba\\lib\\site-packages\\sklearn\\model_selection\\_validation.py\", line 668, in _fit_and_score\n    estimator = estimator.set_params(**cloned_parameters)\n  File \"c:\\Users\\camb7\\anaconda3\\envs\\kba\\lib\\site-packages\\sklearn\\pipeline.py\", line 188, in set_params\n    self._set_params(\"steps\", **kwargs)\n  File \"c:\\Users\\camb7\\anaconda3\\envs\\kba\\lib\\site-packages\\sklearn\\utils\\metaestimators.py\", line 54, in _set_params\n    super().set_params(**params)\n  File \"c:\\Users\\camb7\\anaconda3\\envs\\kba\\lib\\site-packages\\sklearn\\base.py\", line 245, in set_params\n    raise ValueError(\nValueError: Invalid parameter penalty for estimator Pipeline(steps=[('preprocessor',\n                 ColumnTransformer(transformers=[('numeric',\n                                                  Pipeline(steps=[('imputer',\n                                                                   SimpleImputer()),\n                                                                  ('scaler',\n                                                                   StandardScaler())]),\n                                                  Int64Index([ 0,  1,  2,  3,  4,  5,  6,  7,  8,  9, 10, 11, 12, 13, 14, 15, 16,\n            17, 18, 19, 20, 21, 22, 23, 24, 25, 26, 27, 28, 29, 30, 31, 32, 33,\n            34, 35, 36, 37, 38, 39, 40, 41, 42, 43, 44, 45, 46, 47, 48, 49, 50,\n            51, 52, 53, 54, 55, 56, 57, 58, 59, 60, 61, 62, 63],\n           dtype=...\n                                                                   SimpleImputer(fill_value='missing',\n                                                                                 strategy='constant')),\n                                                                  ('encoding',\n                                                                   OneHotEncoder(handle_unknown='ignore',\n                                                                                 sparse=False))]),\n                                                  Int64Index([], dtype='int64')),\n                                                 ('categorical_high',\n                                                  Pipeline(steps=[('imputer',\n                                                                   SimpleImputer(fill_value='missing',\n                                                                                 strategy='constant')),\n                                                                  ('encoding',\n                                                                   OrdinalEncoder())]),\n                                                  Int64Index([], dtype='int64'))])),\n                ('classifier', Perceptron(random_state=42))]). Check the list of available parameters with `estimator.get_params().keys()`.\n\"\"\"",
      "\nThe above exception was the direct cause of the following exception:\n",
      "\u001b[1;31mValueError\u001b[0m                                Traceback (most recent call last)",
      "Cell \u001b[1;32mIn [23], line 18\u001b[0m\n\u001b[0;32m     13\u001b[0m skf \u001b[39m=\u001b[39m StratifiedKFold(n_splits\u001b[39m=\u001b[39m\u001b[39m5\u001b[39m, shuffle\u001b[39m=\u001b[39m\u001b[39mTrue\u001b[39;00m, random_state\u001b[39m=\u001b[39m\u001b[39m42\u001b[39m)\n\u001b[0;32m     14\u001b[0m grid \u001b[39m=\u001b[39m GridSearchCV(pipe, tuning_params, \n\u001b[0;32m     15\u001b[0m                     cv\u001b[39m=\u001b[39mskf\u001b[39m.\u001b[39msplit(X,y), scoring\u001b[39m=\u001b[39m\u001b[39m'\u001b[39m\u001b[39maccuracy\u001b[39m\u001b[39m'\u001b[39m, \n\u001b[0;32m     16\u001b[0m                     n_jobs\u001b[39m=\u001b[39m\u001b[39m-\u001b[39m\u001b[39m1\u001b[39m, verbose\u001b[39m=\u001b[39m\u001b[39m2\u001b[39m, refit\u001b[39m=\u001b[39m\u001b[39mTrue\u001b[39;00m)\n\u001b[1;32m---> 18\u001b[0m grid\u001b[39m.\u001b[39;49mfit(X,y)\n\u001b[0;32m     20\u001b[0m best_model \u001b[39m=\u001b[39m grid\u001b[39m.\u001b[39mbest_estimator_\n\u001b[0;32m     21\u001b[0m \u001b[39mprint\u001b[39m(grid\u001b[39m.\u001b[39mbest_score_)\n",
      "File \u001b[1;32mc:\\Users\\camb7\\anaconda3\\envs\\kba\\lib\\site-packages\\sklearn\\model_selection\\_search.py:891\u001b[0m, in \u001b[0;36mBaseSearchCV.fit\u001b[1;34m(self, X, y, groups, **fit_params)\u001b[0m\n\u001b[0;32m    885\u001b[0m     results \u001b[39m=\u001b[39m \u001b[39mself\u001b[39m\u001b[39m.\u001b[39m_format_results(\n\u001b[0;32m    886\u001b[0m         all_candidate_params, n_splits, all_out, all_more_results\n\u001b[0;32m    887\u001b[0m     )\n\u001b[0;32m    889\u001b[0m     \u001b[39mreturn\u001b[39;00m results\n\u001b[1;32m--> 891\u001b[0m \u001b[39mself\u001b[39;49m\u001b[39m.\u001b[39;49m_run_search(evaluate_candidates)\n\u001b[0;32m    893\u001b[0m \u001b[39m# multimetric is determined here because in the case of a callable\u001b[39;00m\n\u001b[0;32m    894\u001b[0m \u001b[39m# self.scoring the return type is only known after calling\u001b[39;00m\n\u001b[0;32m    895\u001b[0m first_test_score \u001b[39m=\u001b[39m all_out[\u001b[39m0\u001b[39m][\u001b[39m\"\u001b[39m\u001b[39mtest_scores\u001b[39m\u001b[39m\"\u001b[39m]\n",
      "File \u001b[1;32mc:\\Users\\camb7\\anaconda3\\envs\\kba\\lib\\site-packages\\sklearn\\model_selection\\_search.py:1392\u001b[0m, in \u001b[0;36mGridSearchCV._run_search\u001b[1;34m(self, evaluate_candidates)\u001b[0m\n\u001b[0;32m   1390\u001b[0m \u001b[39mdef\u001b[39;00m \u001b[39m_run_search\u001b[39m(\u001b[39mself\u001b[39m, evaluate_candidates):\n\u001b[0;32m   1391\u001b[0m     \u001b[39m\"\"\"Search all candidates in param_grid\"\"\"\u001b[39;00m\n\u001b[1;32m-> 1392\u001b[0m     evaluate_candidates(ParameterGrid(\u001b[39mself\u001b[39;49m\u001b[39m.\u001b[39;49mparam_grid))\n",
      "File \u001b[1;32mc:\\Users\\camb7\\anaconda3\\envs\\kba\\lib\\site-packages\\sklearn\\model_selection\\_search.py:838\u001b[0m, in \u001b[0;36mBaseSearchCV.fit.<locals>.evaluate_candidates\u001b[1;34m(candidate_params, cv, more_results)\u001b[0m\n\u001b[0;32m    830\u001b[0m \u001b[39mif\u001b[39;00m \u001b[39mself\u001b[39m\u001b[39m.\u001b[39mverbose \u001b[39m>\u001b[39m \u001b[39m0\u001b[39m:\n\u001b[0;32m    831\u001b[0m     \u001b[39mprint\u001b[39m(\n\u001b[0;32m    832\u001b[0m         \u001b[39m\"\u001b[39m\u001b[39mFitting \u001b[39m\u001b[39m{0}\u001b[39;00m\u001b[39m folds for each of \u001b[39m\u001b[39m{1}\u001b[39;00m\u001b[39m candidates,\u001b[39m\u001b[39m\"\u001b[39m\n\u001b[0;32m    833\u001b[0m         \u001b[39m\"\u001b[39m\u001b[39m totalling \u001b[39m\u001b[39m{2}\u001b[39;00m\u001b[39m fits\u001b[39m\u001b[39m\"\u001b[39m\u001b[39m.\u001b[39mformat(\n\u001b[0;32m    834\u001b[0m             n_splits, n_candidates, n_candidates \u001b[39m*\u001b[39m n_splits\n\u001b[0;32m    835\u001b[0m         )\n\u001b[0;32m    836\u001b[0m     )\n\u001b[1;32m--> 838\u001b[0m out \u001b[39m=\u001b[39m parallel(\n\u001b[0;32m    839\u001b[0m     delayed(_fit_and_score)(\n\u001b[0;32m    840\u001b[0m         clone(base_estimator),\n\u001b[0;32m    841\u001b[0m         X,\n\u001b[0;32m    842\u001b[0m         y,\n\u001b[0;32m    843\u001b[0m         train\u001b[39m=\u001b[39;49mtrain,\n\u001b[0;32m    844\u001b[0m         test\u001b[39m=\u001b[39;49mtest,\n\u001b[0;32m    845\u001b[0m         parameters\u001b[39m=\u001b[39;49mparameters,\n\u001b[0;32m    846\u001b[0m         split_progress\u001b[39m=\u001b[39;49m(split_idx, n_splits),\n\u001b[0;32m    847\u001b[0m         candidate_progress\u001b[39m=\u001b[39;49m(cand_idx, n_candidates),\n\u001b[0;32m    848\u001b[0m         \u001b[39m*\u001b[39;49m\u001b[39m*\u001b[39;49mfit_and_score_kwargs,\n\u001b[0;32m    849\u001b[0m     )\n\u001b[0;32m    850\u001b[0m     \u001b[39mfor\u001b[39;49;00m (cand_idx, parameters), (split_idx, (train, test)) \u001b[39min\u001b[39;49;00m product(\n\u001b[0;32m    851\u001b[0m         \u001b[39menumerate\u001b[39;49m(candidate_params), \u001b[39menumerate\u001b[39;49m(cv\u001b[39m.\u001b[39;49msplit(X, y, groups))\n\u001b[0;32m    852\u001b[0m     )\n\u001b[0;32m    853\u001b[0m )\n\u001b[0;32m    855\u001b[0m \u001b[39mif\u001b[39;00m \u001b[39mlen\u001b[39m(out) \u001b[39m<\u001b[39m \u001b[39m1\u001b[39m:\n\u001b[0;32m    856\u001b[0m     \u001b[39mraise\u001b[39;00m \u001b[39mValueError\u001b[39;00m(\n\u001b[0;32m    857\u001b[0m         \u001b[39m\"\u001b[39m\u001b[39mNo fits were performed. \u001b[39m\u001b[39m\"\u001b[39m\n\u001b[0;32m    858\u001b[0m         \u001b[39m\"\u001b[39m\u001b[39mWas the CV iterator empty? \u001b[39m\u001b[39m\"\u001b[39m\n\u001b[0;32m    859\u001b[0m         \u001b[39m\"\u001b[39m\u001b[39mWere there no candidates?\u001b[39m\u001b[39m\"\u001b[39m\n\u001b[0;32m    860\u001b[0m     )\n",
      "File \u001b[1;32mc:\\Users\\camb7\\anaconda3\\envs\\kba\\lib\\site-packages\\joblib\\parallel.py:1061\u001b[0m, in \u001b[0;36mParallel.__call__\u001b[1;34m(self, iterable)\u001b[0m\n\u001b[0;32m   1058\u001b[0m     \u001b[39mself\u001b[39m\u001b[39m.\u001b[39m_iterating \u001b[39m=\u001b[39m \u001b[39mFalse\u001b[39;00m\n\u001b[0;32m   1060\u001b[0m \u001b[39mwith\u001b[39;00m \u001b[39mself\u001b[39m\u001b[39m.\u001b[39m_backend\u001b[39m.\u001b[39mretrieval_context():\n\u001b[1;32m-> 1061\u001b[0m     \u001b[39mself\u001b[39;49m\u001b[39m.\u001b[39;49mretrieve()\n\u001b[0;32m   1062\u001b[0m \u001b[39m# Make sure that we get a last message telling us we are done\u001b[39;00m\n\u001b[0;32m   1063\u001b[0m elapsed_time \u001b[39m=\u001b[39m time\u001b[39m.\u001b[39mtime() \u001b[39m-\u001b[39m \u001b[39mself\u001b[39m\u001b[39m.\u001b[39m_start_time\n",
      "File \u001b[1;32mc:\\Users\\camb7\\anaconda3\\envs\\kba\\lib\\site-packages\\joblib\\parallel.py:938\u001b[0m, in \u001b[0;36mParallel.retrieve\u001b[1;34m(self)\u001b[0m\n\u001b[0;32m    936\u001b[0m \u001b[39mtry\u001b[39;00m:\n\u001b[0;32m    937\u001b[0m     \u001b[39mif\u001b[39;00m \u001b[39mgetattr\u001b[39m(\u001b[39mself\u001b[39m\u001b[39m.\u001b[39m_backend, \u001b[39m'\u001b[39m\u001b[39msupports_timeout\u001b[39m\u001b[39m'\u001b[39m, \u001b[39mFalse\u001b[39;00m):\n\u001b[1;32m--> 938\u001b[0m         \u001b[39mself\u001b[39m\u001b[39m.\u001b[39m_output\u001b[39m.\u001b[39mextend(job\u001b[39m.\u001b[39;49mget(timeout\u001b[39m=\u001b[39;49m\u001b[39mself\u001b[39;49m\u001b[39m.\u001b[39;49mtimeout))\n\u001b[0;32m    939\u001b[0m     \u001b[39melse\u001b[39;00m:\n\u001b[0;32m    940\u001b[0m         \u001b[39mself\u001b[39m\u001b[39m.\u001b[39m_output\u001b[39m.\u001b[39mextend(job\u001b[39m.\u001b[39mget())\n",
      "File \u001b[1;32mc:\\Users\\camb7\\anaconda3\\envs\\kba\\lib\\site-packages\\joblib\\_parallel_backends.py:542\u001b[0m, in \u001b[0;36mLokyBackend.wrap_future_result\u001b[1;34m(future, timeout)\u001b[0m\n\u001b[0;32m    539\u001b[0m \u001b[39m\"\"\"Wrapper for Future.result to implement the same behaviour as\u001b[39;00m\n\u001b[0;32m    540\u001b[0m \u001b[39mAsyncResults.get from multiprocessing.\"\"\"\u001b[39;00m\n\u001b[0;32m    541\u001b[0m \u001b[39mtry\u001b[39;00m:\n\u001b[1;32m--> 542\u001b[0m     \u001b[39mreturn\u001b[39;00m future\u001b[39m.\u001b[39;49mresult(timeout\u001b[39m=\u001b[39;49mtimeout)\n\u001b[0;32m    543\u001b[0m \u001b[39mexcept\u001b[39;00m CfTimeoutError \u001b[39mas\u001b[39;00m e:\n\u001b[0;32m    544\u001b[0m     \u001b[39mraise\u001b[39;00m \u001b[39mTimeoutError\u001b[39;00m \u001b[39mfrom\u001b[39;00m \u001b[39me\u001b[39;00m\n",
      "File \u001b[1;32mc:\\Users\\camb7\\anaconda3\\envs\\kba\\lib\\concurrent\\futures\\_base.py:458\u001b[0m, in \u001b[0;36mFuture.result\u001b[1;34m(self, timeout)\u001b[0m\n\u001b[0;32m    456\u001b[0m     \u001b[39mraise\u001b[39;00m CancelledError()\n\u001b[0;32m    457\u001b[0m \u001b[39melif\u001b[39;00m \u001b[39mself\u001b[39m\u001b[39m.\u001b[39m_state \u001b[39m==\u001b[39m FINISHED:\n\u001b[1;32m--> 458\u001b[0m     \u001b[39mreturn\u001b[39;00m \u001b[39mself\u001b[39;49m\u001b[39m.\u001b[39;49m__get_result()\n\u001b[0;32m    459\u001b[0m \u001b[39melse\u001b[39;00m:\n\u001b[0;32m    460\u001b[0m     \u001b[39mraise\u001b[39;00m \u001b[39mTimeoutError\u001b[39;00m()\n",
      "File \u001b[1;32mc:\\Users\\camb7\\anaconda3\\envs\\kba\\lib\\concurrent\\futures\\_base.py:403\u001b[0m, in \u001b[0;36mFuture.__get_result\u001b[1;34m(self)\u001b[0m\n\u001b[0;32m    401\u001b[0m \u001b[39mif\u001b[39;00m \u001b[39mself\u001b[39m\u001b[39m.\u001b[39m_exception:\n\u001b[0;32m    402\u001b[0m     \u001b[39mtry\u001b[39;00m:\n\u001b[1;32m--> 403\u001b[0m         \u001b[39mraise\u001b[39;00m \u001b[39mself\u001b[39m\u001b[39m.\u001b[39m_exception\n\u001b[0;32m    404\u001b[0m     \u001b[39mfinally\u001b[39;00m:\n\u001b[0;32m    405\u001b[0m         \u001b[39m# Break a reference cycle with the exception in self._exception\u001b[39;00m\n\u001b[0;32m    406\u001b[0m         \u001b[39mself\u001b[39m \u001b[39m=\u001b[39m \u001b[39mNone\u001b[39;00m\n",
      "\u001b[1;31mValueError\u001b[0m: Invalid parameter penalty for estimator Pipeline(steps=[('preprocessor',\n                 ColumnTransformer(transformers=[('numeric',\n                                                  Pipeline(steps=[('imputer',\n                                                                   SimpleImputer()),\n                                                                  ('scaler',\n                                                                   StandardScaler())]),\n                                                  Int64Index([ 0,  1,  2,  3,  4,  5,  6,  7,  8,  9, 10, 11, 12, 13, 14, 15, 16,\n            17, 18, 19, 20, 21, 22, 23, 24, 25, 26, 27, 28, 29, 30, 31, 32, 33,\n            34, 35, 36, 37, 38, 39, 40, 41, 42, 43, 44, 45, 46, 47, 48, 49, 50,\n            51, 52, 53, 54, 55, 56, 57, 58, 59, 60, 61, 62, 63],\n           dtype=...\n                                                                   SimpleImputer(fill_value='missing',\n                                                                                 strategy='constant')),\n                                                                  ('encoding',\n                                                                   OneHotEncoder(handle_unknown='ignore',\n                                                                                 sparse=False))]),\n                                                  Int64Index([], dtype='int64')),\n                                                 ('categorical_high',\n                                                  Pipeline(steps=[('imputer',\n                                                                   SimpleImputer(fill_value='missing',\n                                                                                 strategy='constant')),\n                                                                  ('encoding',\n                                                                   OrdinalEncoder())]),\n                                                  Int64Index([], dtype='int64'))])),\n                ('classifier', Perceptron(random_state=42))]). Check the list of available parameters with `estimator.get_params().keys()`."
     ]
    }
   ],
   "source": [
    "#Perform grid search on best model\n",
    "#find distribution of data for class prior\n",
    "classPrior = np.bincount(y_bin) / len(y_bin)\n",
    "#convert to list\n",
    "classPrior = classPrior.tolist()\n",
    "\n",
    "#get parameters of best model\n",
    "print(pipe.get_params().keys())\n",
    "\n",
    "tuning_params = [{\n",
    "    \"penalty\": ['elasticnet', 'l1', 'l2', 'none'],\n",
    "    \"tol\": [1e-4, 1e-3, 1e-2, 1e-1, 1],\n",
    "    \"eta0\": [0.01, 0.1, 1, 10, 100],\n",
    "    \"early_stopping\": [True, False],\n",
    "    \"class_weight\": [None, 'balanced'],\n",
    "    \"warm_start\": [True, False]\n",
    "}]\n",
    "skf = StratifiedKFold(n_splits=5, shuffle=True, random_state=42)\n",
    "grid = GridSearchCV(pipe, tuning_params, \n",
    "                    cv=skf.split(X,y), scoring='accuracy', \n",
    "                    n_jobs=-1, verbose=2, refit=True)\n",
    "\n",
    "grid.fit(X,y)\n",
    "\n",
    "best_model = grid.best_estimator_\n",
    "print(grid.best_score_)\n",
    "print(grid.best_params_)\n",
    "\n",
    "optimal_params = grid.best_params_"
   ]
  },
  {
   "cell_type": "markdown",
   "metadata": {},
   "source": [
    "### Train Best Model with Optimal Parameters For Binary Labels Single Fallers are Fallers"
   ]
  },
  {
   "cell_type": "code",
   "execution_count": 17,
   "metadata": {},
   "outputs": [
    {
     "name": "stdout",
     "output_type": "stream",
     "text": [
      "[1 3 3 3 2 1 1 3 0 0 2 1 3 0 2 3 0 2]\n"
     ]
    },
    {
     "ename": "ValueError",
     "evalue": "y contains previously unseen labels: [2 3]",
     "output_type": "error",
     "traceback": [
      "\u001b[1;31m---------------------------------------------------------------------------\u001b[0m",
      "\u001b[1;31mValueError\u001b[0m                                Traceback (most recent call last)",
      "Cell \u001b[1;32mIn [17], line 7\u001b[0m\n\u001b[0;32m      4\u001b[0m \u001b[39mprint\u001b[39m(y_pred_bin)\n\u001b[0;32m      6\u001b[0m \u001b[39m#map predictions back to original labels\u001b[39;00m\n\u001b[1;32m----> 7\u001b[0m y_pred_label \u001b[39m=\u001b[39m le2\u001b[39m.\u001b[39;49minverse_transform(y_pred_bin)\n\u001b[0;32m      8\u001b[0m y_test_label \u001b[39m=\u001b[39m le2\u001b[39m.\u001b[39minverse_transform(yTestBinary)\n",
      "File \u001b[1;32mc:\\Users\\camb7\\anaconda3\\envs\\kba\\lib\\site-packages\\sklearn\\preprocessing\\_label.py:161\u001b[0m, in \u001b[0;36mLabelEncoder.inverse_transform\u001b[1;34m(self, y)\u001b[0m\n\u001b[0;32m    159\u001b[0m diff \u001b[39m=\u001b[39m np\u001b[39m.\u001b[39msetdiff1d(y, np\u001b[39m.\u001b[39marange(\u001b[39mlen\u001b[39m(\u001b[39mself\u001b[39m\u001b[39m.\u001b[39mclasses_)))\n\u001b[0;32m    160\u001b[0m \u001b[39mif\u001b[39;00m \u001b[39mlen\u001b[39m(diff):\n\u001b[1;32m--> 161\u001b[0m     \u001b[39mraise\u001b[39;00m \u001b[39mValueError\u001b[39;00m(\u001b[39m\"\u001b[39m\u001b[39my contains previously unseen labels: \u001b[39m\u001b[39m%s\u001b[39;00m\u001b[39m\"\u001b[39m \u001b[39m%\u001b[39m \u001b[39mstr\u001b[39m(diff))\n\u001b[0;32m    162\u001b[0m y \u001b[39m=\u001b[39m np\u001b[39m.\u001b[39masarray(y)\n\u001b[0;32m    163\u001b[0m \u001b[39mreturn\u001b[39;00m \u001b[39mself\u001b[39m\u001b[39m.\u001b[39mclasses_[y]\n",
      "\u001b[1;31mValueError\u001b[0m: y contains previously unseen labels: [2 3]"
     ]
    }
   ],
   "source": [
    "clf = best_model\n",
    "\n",
    "y_pred_bin = pipe.predict(xTest)\n",
    "\n",
    "#map predictions back to original labels\n",
    "y_pred_label = le2.inverse_transform(y_pred_bin)\n",
    "y_test_label = le2.inverse_transform(yTestBinary)\n",
    "\n"
   ]
  },
  {
   "cell_type": "markdown",
   "metadata": {},
   "source": [
    "### Create Confusion Matrix For Binary Labels"
   ]
  },
  {
   "cell_type": "code",
   "execution_count": null,
   "metadata": {},
   "outputs": [],
   "source": [
    "classes = ['Faller', 'Non-Faller']\n",
    "cm_python = confusion_matrix(y_true=y_test_label, y_pred=y_pred_label, labels=classes)\n",
    "\n",
    "plt.subplots(figsize=(6,4))\n",
    "\n",
    "group_counts = ['{0:0.0f}'.format(value) for value in\n",
    "                cm_python.flatten()]\n",
    "group_percentages = ['{0:.2%}'.format(value) for value in\n",
    "                     cm_python.flatten()/np.sum(cm_python)]\n",
    "labels = [f'{v1}\\n{v2}' for v1, v2 in\n",
    "          zip(group_counts,group_percentages)]\n",
    "labels = np.asarray(labels).reshape(4,4)\n",
    "df_cm_python = pd.DataFrame(cm_python)\n",
    "\n",
    "sns.heatmap(df_cm_python, annot=labels, fmt='',annot_kws={\"size\": 16}, xticklabels=classes, yticklabels=classes) # font size\n",
    "plt.title('Bernoulli Naive-Bayes: Standard processing w/ normalization')\n",
    "plt.xlabel('Predicted')\n",
    "plt.ylabel('Actual') \n",
    "plt.yticks(rotation=0)\n",
    "plt.show()\n",
    "\n",
    "print(classification_report(y_true=y_test_label, y_pred=y_pred_label))"
   ]
  },
  {
   "cell_type": "markdown",
   "metadata": {},
   "source": [
    "### Obtain Missclassifications"
   ]
  },
  {
   "cell_type": "code",
   "execution_count": null,
   "metadata": {},
   "outputs": [],
   "source": [
    "missclassifications = yTestBinary.loc[yTestBinary.label_binary!=y_pred]\n",
    "print(missclassifications)"
   ]
  },
  {
   "cell_type": "markdown",
   "metadata": {},
   "source": [
    "### Remap Labels to Be Binary Single Fallers Included as Non-Fallers"
   ]
  },
  {
   "cell_type": "code",
   "execution_count": null,
   "metadata": {},
   "outputs": [],
   "source": [
    "yTrainBinary = binaryLabelRemapping(yTrain, False)\n",
    "yTestBinary = binaryLabelRemapping(yTest, False)"
   ]
  },
  {
   "cell_type": "markdown",
   "metadata": {},
   "source": [
    "### Tune XGBoost"
   ]
  },
  {
   "cell_type": "code",
   "execution_count": null,
   "metadata": {},
   "outputs": [],
   "source": [
    "tuned_parameters = [{'kernel': ['rbf'], 'gamma': [1e-4, 1e-5, 'scale', 'auto'], 'C': [100, 250, 500, 750, 1000]},\n",
    "                        {'kernel': ['sigmoid'], 'gamma': [1e-4, 1e-5, 'scale', 'auto'], 'C': [100, 250, 500, 750, 1000]}]\n",
    "modelDir = './models/'\n",
    "modelName = 'tunedSVM5Fold_binarylabelsFalse'\n",
    "svmModel = tune_svm(xTrain,yTrainBinary.label_binary.values, tuned_parameters, 5)"
   ]
  },
  {
   "cell_type": "markdown",
   "metadata": {},
   "source": [
    "### Train XGBoost with Optimal Parameters Single Fallers Considered Non-Fallers"
   ]
  },
  {
   "cell_type": "code",
   "execution_count": null,
   "metadata": {},
   "outputs": [],
   "source": [
    "clf = svm.SVC(kernel = 'sigmoid' , C = 750, gamma=0.0001, probability=True)\n",
    "clf.fit(xTrain, yTrainBinary.label_binary.values)\n",
    "\n",
    "y_pred = clf.predict(xTest)"
   ]
  },
  {
   "cell_type": "markdown",
   "metadata": {},
   "source": [
    "### Create Confusion Matrix For Binary Labels FHs -> Non-Fallers"
   ]
  },
  {
   "cell_type": "code",
   "execution_count": null,
   "metadata": {},
   "outputs": [],
   "source": [
    "classes = ['Faller', 'Non-Faller']\n",
    "cm_python = confusion_matrix(y_true=yTestBinary.label_binary.values, y_pred=y_pred, labels=classes)\n",
    "\n",
    "plt.subplots(figsize=(6,4))\n",
    "\n",
    "group_counts = ['{0:0.0f}'.format(value) for value in\n",
    "                cm_python.flatten()]\n",
    "group_percentages = ['{0:.2%}'.format(value) for value in\n",
    "                     cm_python.flatten()/np.sum(cm_python)]\n",
    "labels = [f'{v1}\\n{v2}' for v1, v2 in\n",
    "          zip(group_counts,group_percentages)]\n",
    "labels = np.asarray(labels).reshape(2,2)\n",
    "df_cm_python = pd.DataFrame(cm_python)\n",
    "\n",
    "sns.heatmap(df_cm_python, annot=labels, fmt='',annot_kws={\"size\": 16}, xticklabels=classes, yticklabels=classes) # font size\n",
    "plt.title('Test Model: Standard processing w/normalization')\n",
    "plt.xlabel('Predicted')\n",
    "plt.ylabel('Actual')\n",
    "plt.yticks(rotation=0)\n",
    "plt.show()\n",
    "\n",
    "\n",
    "print(classification_report(y_true=yTestBinary.label_binary.values, y_pred=y_pred))\n"
   ]
  },
  {
   "cell_type": "markdown",
   "metadata": {},
   "source": [
    "### Obtain Missclassifications"
   ]
  },
  {
   "cell_type": "code",
   "execution_count": null,
   "metadata": {},
   "outputs": [],
   "source": [
    "missclassifications = yTestBinary.loc[yTestBinary.label_binary!=y_pred]\n",
    "print(missclassifications)"
   ]
  }
 ],
 "metadata": {
  "kernelspec": {
   "display_name": "Python 3.10.8 ('kba')",
   "language": "python",
   "name": "python3"
  },
  "language_info": {
   "codemirror_mode": {
    "name": "ipython",
    "version": 3
   },
   "file_extension": ".py",
   "mimetype": "text/x-python",
   "name": "python",
   "nbconvert_exporter": "python",
   "pygments_lexer": "ipython3",
   "version": "3.10.8"
  },
  "orig_nbformat": 4,
  "vscode": {
   "interpreter": {
    "hash": "5d349dd511cd4e0f99132a14cf8fa9ad6fc13ca582fbb8d1253f3c76c77827a5"
   }
  }
 },
 "nbformat": 4,
 "nbformat_minor": 2
}
