{
 "cells": [
  {
   "cell_type": "markdown",
   "metadata": {},
   "source": [
    "# Test of PCA in Pipeline For Training Models\n",
    "### Leonard Moen | December 5th 2022"
   ]
  },
  {
   "cell_type": "code",
   "execution_count": 229,
   "metadata": {},
   "outputs": [
    {
     "data": {
      "text/plain": [
       "<module 'lazypredict' from 'c:\\\\Users\\\\Leonard\\\\anaconda3\\\\envs\\\\ELEC872\\\\lib\\\\site-packages\\\\lazypredict\\\\__init__.py'>"
      ]
     },
     "execution_count": 229,
     "metadata": {},
     "output_type": "execute_result"
    }
   ],
   "source": [
    "import pandas as pd\n",
    "import numpy as np\n",
    "import importlib\n",
    "import sklearn\n",
    "import matplotlib.pyplot as plt\n",
    "import seaborn as sns\n",
    "import lazypredict\n",
    "\n",
    "from lazypredict.Supervised import LazyClassifier\n",
    "from sklearn.linear_model import  Perceptron\n",
    "from sklearn.model_selection import train_test_split, GridSearchCV, StratifiedKFold\n",
    "from sklearn.preprocessing import LabelEncoder, label_binarize #Standardization and conversion of categorical labels to binary representation\n",
    "from sklearn.metrics import confusion_matrix, classification_report\n",
    "from sklearn.decomposition import PCA\n",
    "\n",
    "from sklearn.naive_bayes import BernoulliNB\n",
    "from sklearn.pipeline import Pipeline\n",
    "\n",
    "import LoadKinecalFunctions\n",
    "from LoadKinecalFunctions import *\n",
    "importlib.reload(LoadKinecalFunctions)\n",
    "from const import User, Exercise\n",
    "import models\n",
    "from models import *\n",
    "importlib.reload(models)\n",
    "importlib.reload(sklearn.linear_model)\n",
    "importlib.reload(lazypredict)"
   ]
  },
  {
   "cell_type": "code",
   "execution_count": 319,
   "metadata": {},
   "outputs": [],
   "source": [
    "user = 0\n",
    "excerciseList = [Exercise.QSECFS, Exercise.QSEOFS, Exercise.STS, Exercise.TS]\n",
    "\n",
    "QSClosedDf = readKinecalFiles(excerciseList[0],user) \n",
    "QSOpenDf = readKinecalFiles(excerciseList[1],user) \n",
    "SemiTandemDf = readKinecalFiles(excerciseList[2],user) \n",
    "TandemDf = readKinecalFiles(excerciseList[3],user) "
   ]
  },
  {
   "cell_type": "markdown",
   "metadata": {},
   "source": [
    "### Seperate X and Y Dataframes"
   ]
  },
  {
   "cell_type": "code",
   "execution_count": 320,
   "metadata": {},
   "outputs": [
    {
     "name": "stdout",
     "output_type": "stream",
     "text": [
      "    part_id group sex  height  weight   BMI recorded_in_the_lab  \\\n",
      "0        10    HA   m    1.85   77.00 22.50                   1   \n",
      "1       100    NF   f    1.55   82.50 34.30                   1   \n",
      "2        11    HA   f    1.57   51.50 20.90                   1   \n",
      "3        12    HA   m    1.64   68.50 25.50                   1   \n",
      "4        13    HA   m    1.78   85.00 26.80                   1   \n",
      "..      ...   ...  ..     ...     ...   ...                 ...   \n",
      "85       84   FHm   f    1.56   60.00 24.70                   0   \n",
      "86       87   FHs   f    1.60   77.10 30.10                   0   \n",
      "87        9    HA   m    1.69   75.00 26.30                   1   \n",
      "88       92    NF   m    1.83   97.00 29.00                   0   \n",
      "89       96   FHs   m    1.78   81.20 25.60                   0   \n",
      "\n",
      "   clinically_at_risk  \n",
      "0                   0  \n",
      "1                   0  \n",
      "2                   0  \n",
      "3                   0  \n",
      "4                   0  \n",
      "..                ...  \n",
      "85                  0  \n",
      "86                  1  \n",
      "87                  0  \n",
      "88                  0  \n",
      "89                  0  \n",
      "\n",
      "[90 rows x 8 columns]\n"
     ]
    }
   ],
   "source": [
    "yDf = QSClosedDf.iloc[:,0:9]\n",
    "yDf = yDf.drop(columns='movement')\n",
    "yDf['part_id'] = yDf['part_id'].apply(pd.to_numeric)\n",
    "\n",
    "QSClosedXDf =QSClosedDf.iloc[: , 9:-1]\n",
    "QSOpenXDf =QSOpenDf.iloc[: ,9:-1]\n",
    "SemiTandemXDf =SemiTandemDf.iloc[: ,9:-1]\n",
    "TandemXDf =TandemDf.iloc[: ,9:-1]\n",
    "\n",
    "print(yDf)"
   ]
  },
  {
   "cell_type": "markdown",
   "metadata": {},
   "source": [
    "### Replace Missing Values"
   ]
  },
  {
   "cell_type": "code",
   "execution_count": 321,
   "metadata": {},
   "outputs": [
    {
     "name": "stdout",
     "output_type": "stream",
     "text": [
      "[ 2 14 15]\n",
      "[ 2 17 29 34 71]\n",
      "[ 2 14 17 31 33 60 66]\n",
      "[13 14 17 29 31 33 36 37 55 60 66 74 77]\n"
     ]
    }
   ],
   "source": [
    "QSClosedXDf = replaceMissingValues(QSClosedXDf,yDf)\n",
    "QSOpenXDf = replaceMissingValues(QSOpenXDf,yDf)\n",
    "SemiTandemXDf = replaceMissingValues(SemiTandemXDf,yDf)\n",
    "TandemXNDf = replaceMissingValues(TandemXDf,yDf)"
   ]
  },
  {
   "cell_type": "markdown",
   "metadata": {},
   "source": [
    "### Combine Excercises Into One Dataset"
   ]
  },
  {
   "cell_type": "code",
   "execution_count": 331,
   "metadata": {},
   "outputs": [
    {
     "name": "stdout",
     "output_type": "stream",
     "text": [
      "(90, 16) (90, 16) (90, 16) (90, 16)\n",
      "(90, 64)\n"
     ]
    }
   ],
   "source": [
    "print(QSClosedXDf.shape,QSOpenXDf.shape,SemiTandemXDf.shape,TandemXDf.shape)\n",
    "\n",
    "### NORMALIZATION BEFORE FEATURE CONCATENATION\n",
    "# QSClosedXNormDf = datasetNormalization(QSClosedXDf)\n",
    "# QSOpenXNormDf = datasetNormalization(QSOpenXDf)\n",
    "# SemiTandemXNormDf = datasetNormalization(SemiTandemXDf)\n",
    "# TandemXNormDf = datasetNormalization(TandemXDf)\n",
    "# combinedXNormDf = pd.concat([QSClosedXNormDf,QSOpenXNormDf,SemiTandemXNormDf,TandemXNormDf],axis=1)\n",
    "\n",
    "###NORMALIZATION AFTER FEATURE CONCATENATION\n",
    "combinedXDf = pd.concat([QSClosedXDf,QSOpenXDf,SemiTandemXDf,TandemXDf],axis=1)\n",
    "combinedXNormDf = datasetNormalization(combinedXDf)\n",
    "\n",
    "### Make Index of X dataframe part_id so that it corresponds with test set loaded in later\n",
    "combinedXNormDf['part_id'] = yDf.part_id.values\n",
    "\n",
    "combinedXNormDf =combinedXNormDf.set_index('part_id')\n",
    "print(combinedXNormDf.shape)"
   ]
  },
  {
   "cell_type": "markdown",
   "metadata": {},
   "source": [
    "### Add Labels for Binary Case"
   ]
  },
  {
   "cell_type": "code",
   "execution_count": 332,
   "metadata": {},
   "outputs": [],
   "source": [
    "yTrain = binaryLabelRemapping(yDf,True)\n"
   ]
  },
  {
   "cell_type": "markdown",
   "metadata": {},
   "source": [
    "### Seperate Into Training and Testing Sets"
   ]
  },
  {
   "cell_type": "code",
   "execution_count": 333,
   "metadata": {},
   "outputs": [
    {
     "name": "stdout",
     "output_type": "stream",
     "text": [
      "    part_id group sex  height  weight   BMI  recorded_in_the_lab  \\\n",
      "12        5    HA   m    1.75   70.00 22.90                    1   \n",
      "4        10    HA   m    1.85   77.00 22.50                    1   \n",
      "15       13    HA   m    1.78   85.00 26.80                    1   \n",
      "8        19    HA   m    1.78   79.00 24.90                    1   \n",
      "14       20    HA   m    1.66   60.00 21.80                    1   \n",
      "16       24    HA   f    1.57   73.00 29.60                    0   \n",
      "6        40   FHs   m    1.90  102.50 28.40                    0   \n",
      "2        48    NF   m    1.70   73.40 25.40                    0   \n",
      "7        61    NF   m    1.73   65.30 21.80                    0   \n",
      "3        68    NF   f    1.68   69.00 24.40                    0   \n",
      "10       73    NF   m    1.78   69.80 22.00                    0   \n",
      "13       87   FHs   f    1.60   77.10 30.10                    0   \n",
      "1       300    HA   f    1.57   49.80 20.20                    0   \n",
      "5       304   FHs   f    1.63   60.30 22.70                    0   \n",
      "17      306    HA   m    1.78   70.70 22.30                    0   \n",
      "11      313    NF   f    1.73   75.00 25.10                    0   \n",
      "0       400   FHs   f    1.73   66.70 22.30                    0   \n",
      "9       404   FHm   f    1.57   63.00 25.60                    0   \n",
      "\n",
      "    clinically_at_risk label_binary  \n",
      "12                   0   Non-Faller  \n",
      "4                    0   Non-Faller  \n",
      "15                   0   Non-Faller  \n",
      "8                    0   Non-Faller  \n",
      "14                   0   Non-Faller  \n",
      "16                   0   Non-Faller  \n",
      "6                    0       Faller  \n",
      "2                    0   Non-Faller  \n",
      "7                    0   Non-Faller  \n",
      "3                    0   Non-Faller  \n",
      "10                   0   Non-Faller  \n",
      "13                   1       Faller  \n",
      "1                    0   Non-Faller  \n",
      "5                    0       Faller  \n",
      "17                   0   Non-Faller  \n",
      "11                   0   Non-Faller  \n",
      "0                    0       Faller  \n",
      "9                    0       Faller  \n"
     ]
    }
   ],
   "source": [
    "yTest = pd.read_csv('yTest.csv')\n",
    "# xTest = pd.read_csv('xTest.csv')\n",
    "# xTrain = pd.read_csv('xTrain.csv')\n",
    "# yTrain = pd.read_csv('yTrain.csv')\n",
    "# xTest = xTest.set_index(pd.Index(yTest['part_id'].values))\n",
    "# xTrain = xTrain.set_index(pd.Index(yTrain['part_id'].values))\n",
    "\n",
    "yTrain = yTrain.loc[~yTrain.part_id.isin(yTest.part_id.values)]\n",
    "xTrain = combinedXNormDf.loc[combinedXNormDf.index.isin(yTrain.part_id.values)]\n",
    "xTest = combinedXNormDf.loc[~combinedXNormDf.index.isin(yTrain.part_id.values)]\n",
    "\n",
    "yTest = yTest.sort_values(by=['part_id'])\n",
    "yTrain = yTrain.sort_values(by=['part_id'])\n",
    "xTrain = xTrain.sort_index()\n",
    "xTest = xTest.sort_index()\n",
    "# xTest.to_csv('test.csv')\n",
    "# yTest.to_csv('test2.csv')\n",
    "#xTrain, xTest, yTrain, yTest = train_test_split(combinedXNormDf, yDf, test_size=0.2, random_state=42)\n",
    "\n",
    "le = LabelEncoder()\n",
    "\n",
    "yTrainBinary = binaryLabelRemapping(yTrain, True)\n",
    "yTestBinary = binaryLabelRemapping(yTest, True)\n",
    "\n",
    "yTrain_bin_orig = yTrainBinary\n",
    "yTest_bin_orig = yTestBinary\n",
    "\n",
    "yDf_bin = binaryLabelRemapping(yDf, True)\n",
    "\n",
    "X = np.asarray(combinedXNormDf)\n",
    "y_bin = np.asarray(le.fit_transform(yDf_bin.label_binary.values))\n",
    "\n",
    "\n",
    "xTrain = np.asarray(xTrain)\n",
    "xTest= np.asarray(xTest)\n",
    "#convert to numpy array\n",
    "yTrainBinary = np.asarray(le.fit_transform(yTrainBinary.label_binary.values))\n",
    "yTestBinary = np.asarray(le.fit_transform(yTestBinary.label_binary.values))\n",
    "\n",
    "print(yTest)\n",
    "# xTrain = X\n",
    "# yTrainBinary = y_bin"
   ]
  },
  {
   "cell_type": "markdown",
   "metadata": {},
   "source": [
    "### Apply Lazy Classifier To Get Pipeline of Model"
   ]
  },
  {
   "cell_type": "code",
   "execution_count": 334,
   "metadata": {},
   "outputs": [
    {
     "name": "stdout",
     "output_type": "stream",
     "text": [
      "[1 0 1 1 1 1 1 1 1 1 1 1 1 1 1 1 1 1 1 1 0 1 0 1 1 1 1 1 0 0 0 1 1 1 1 0 1\n",
      " 0 1 0 0 1 1 1 1 1 1 0 0 1 1 0 0 0 1 1 1 1 1 1 1 1 1 1 0 0 1 1 0 0 1 1]\n",
      "all\n"
     ]
    },
    {
     "name": "stderr",
     "output_type": "stream",
     "text": [
      " 33%|███▎      | 9/27 [00:00<00:00, 44.60it/s]"
     ]
    },
    {
     "name": "stdout",
     "output_type": "stream",
     "text": [
      "CategoricalNB model failed to execute\n",
      "Negative values in data passed to CategoricalNB (input X)\n"
     ]
    },
    {
     "name": "stderr",
     "output_type": "stream",
     "text": [
      "100%|██████████| 27/27 [00:00<00:00, 63.83it/s]"
     ]
    },
    {
     "name": "stdout",
     "output_type": "stream",
     "text": [
      "StackingClassifier model failed to execute\n",
      "__init__() missing 1 required positional argument: 'estimators'\n",
      "                               Accuracy  Balanced Accuracy  ROC AUC  F1 Score  \\\n",
      "Model                                                                           \n",
      "BernoulliNB                        0.61               0.61     0.61      0.63   \n",
      "QuadraticDiscriminantAnalysis      0.78               0.60     0.60      0.72   \n",
      "LinearDiscriminantAnalysis         0.50               0.59     0.59      0.51   \n",
      "GaussianNB                         0.50               0.59     0.59      0.51   \n",
      "SGDClassifier                      0.61               0.55     0.55      0.62   \n",
      "NearestCentroid                    0.50               0.53     0.53      0.52   \n",
      "BaggingClassifier                  0.67               0.52     0.52      0.64   \n",
      "SVC                                0.72               0.50     0.50      0.61   \n",
      "DummyClassifier                    0.72               0.50     0.50      0.61   \n",
      "CalibratedClassifierCV             0.72               0.50     0.50      0.61   \n",
      "AdaBoostClassifier                 0.61               0.48     0.48      0.60   \n",
      "ExtraTreeClassifier                0.61               0.48     0.48      0.60   \n",
      "Perceptron                         0.61               0.48     0.48      0.60   \n",
      "KNeighborsClassifier               0.67               0.46     0.46      0.58   \n",
      "RandomForestClassifier             0.61               0.42     0.42      0.55   \n",
      "NuSVC                              0.61               0.42     0.42      0.55   \n",
      "PassiveAggressiveClassifier        0.50               0.41     0.41      0.51   \n",
      "DecisionTreeClassifier             0.50               0.41     0.41      0.51   \n",
      "RidgeClassifier                    0.50               0.41     0.41      0.51   \n",
      "LogisticRegression                 0.56               0.38     0.38      0.52   \n",
      "LinearSVC                          0.56               0.38     0.38      0.52   \n",
      "RidgeClassifierCV                  0.56               0.38     0.38      0.52   \n",
      "ExtraTreesClassifier               0.56               0.38     0.38      0.52   \n",
      "LabelSpreading                     0.44               0.31     0.31      0.44   \n",
      "LabelPropagation                   0.44               0.31     0.31      0.44   \n",
      "\n",
      "                               Time Taken  \n",
      "Model                                      \n",
      "BernoulliNB                          0.00  \n",
      "QuadraticDiscriminantAnalysis        0.00  \n",
      "LinearDiscriminantAnalysis           0.01  \n",
      "GaussianNB                           0.01  \n",
      "SGDClassifier                        0.01  \n",
      "NearestCentroid                      0.00  \n",
      "BaggingClassifier                    0.02  \n",
      "SVC                                  0.01  \n",
      "DummyClassifier                      0.01  \n",
      "CalibratedClassifierCV               0.03  \n",
      "AdaBoostClassifier                   0.05  \n",
      "ExtraTreeClassifier                  0.01  \n",
      "Perceptron                           0.01  \n",
      "KNeighborsClassifier                 0.02  \n",
      "RandomForestClassifier               0.09  \n",
      "NuSVC                                0.01  \n",
      "PassiveAggressiveClassifier          0.01  \n",
      "DecisionTreeClassifier               0.01  \n",
      "RidgeClassifier                      0.01  \n",
      "LogisticRegression                   0.01  \n",
      "LinearSVC                            0.01  \n",
      "RidgeClassifierCV                    0.01  \n",
      "ExtraTreesClassifier                 0.08  \n",
      "LabelSpreading                       0.01  \n",
      "LabelPropagation                     0.01  \n"
     ]
    },
    {
     "name": "stderr",
     "output_type": "stream",
     "text": [
      "\n"
     ]
    }
   ],
   "source": [
    "lazyclass = LazyClassifier(verbose=0, ignore_warnings=False, custom_metric=None)\n",
    "print(yTrainBinary)\n",
    "print(lazyclass.classifiers)\n",
    "scores, predictions = lazyclass.fit(np.asarray(xTrain), np.asarray(xTest), yTrainBinary, yTestBinary)\n",
    "print(scores)\n",
    "modelDict = lazyclass.provide_models(xTrain, xTest, yTrainBinary, yTestBinary)"
   ]
  },
  {
   "cell_type": "code",
   "execution_count": 335,
   "metadata": {},
   "outputs": [
    {
     "name": "stdout",
     "output_type": "stream",
     "text": [
      "('BernoulliNB', 0.6076923076923078)\n"
     ]
    }
   ],
   "source": [
    "#iterate through scores and find model with highest balanced accuracy\n",
    "classifiers = scores.index.tolist()\n",
    "balAccs = scores['Balanced Accuracy']\n",
    "bestModel = max(zip(classifiers, balAccs), key=lambda x: x[1])\n",
    "#pipe = modelDict[bestModel[0]]\n",
    "pipe = modelDict[\"Perceptron\"]\n",
    "print(bestModel)"
   ]
  },
  {
   "attachments": {},
   "cell_type": "markdown",
   "metadata": {},
   "source": [
    "### Tune Perceptron Without PCA"
   ]
  },
  {
   "cell_type": "code",
   "execution_count": 336,
   "metadata": {},
   "outputs": [
    {
     "name": "stdout",
     "output_type": "stream",
     "text": [
      "Fitting 5 folds for each of 45 candidates, totalling 225 fits\n",
      "[CV] END classifier__alpha=0.09, classifier__class_weight=None, classifier__early_stopping=False, classifier__eta0=6e-05, classifier__l1_ratio=0.48, classifier__penalty=elasticnet, classifier__tol=5e-06, classifier__warm_start=True; total time=   0.0s\n",
      "[CV] END classifier__alpha=0.09, classifier__class_weight=None, classifier__early_stopping=False, classifier__eta0=6e-05, classifier__l1_ratio=0.48, classifier__penalty=elasticnet, classifier__tol=5e-06, classifier__warm_start=True; total time=   0.0s\n",
      "[CV] END classifier__alpha=0.09, classifier__class_weight=None, classifier__early_stopping=False, classifier__eta0=6e-05, classifier__l1_ratio=0.48, classifier__penalty=elasticnet, classifier__tol=5e-06, classifier__warm_start=True; total time=   0.0s\n",
      "[CV] END classifier__alpha=0.09, classifier__class_weight=None, classifier__early_stopping=False, classifier__eta0=6e-05, classifier__l1_ratio=0.48, classifier__penalty=elasticnet, classifier__tol=5e-06, classifier__warm_start=True; total time=   0.0s\n",
      "[CV] END classifier__alpha=0.09, classifier__class_weight=None, classifier__early_stopping=False, classifier__eta0=6e-05, classifier__l1_ratio=0.48, classifier__penalty=elasticnet, classifier__tol=5e-06, classifier__warm_start=True; total time=   0.0s\n",
      "[CV] END classifier__alpha=0.09, classifier__class_weight=None, classifier__early_stopping=False, classifier__eta0=6e-05, classifier__l1_ratio=0.49, classifier__penalty=elasticnet, classifier__tol=5e-06, classifier__warm_start=True; total time=   0.0s\n",
      "[CV] END classifier__alpha=0.09, classifier__class_weight=None, classifier__early_stopping=False, classifier__eta0=6e-05, classifier__l1_ratio=0.49, classifier__penalty=elasticnet, classifier__tol=5e-06, classifier__warm_start=True; total time=   0.0s\n",
      "[CV] END classifier__alpha=0.09, classifier__class_weight=None, classifier__early_stopping=False, classifier__eta0=6e-05, classifier__l1_ratio=0.49, classifier__penalty=elasticnet, classifier__tol=5e-06, classifier__warm_start=True; total time=   0.0s\n",
      "[CV] END classifier__alpha=0.09, classifier__class_weight=None, classifier__early_stopping=False, classifier__eta0=6e-05, classifier__l1_ratio=0.49, classifier__penalty=elasticnet, classifier__tol=5e-06, classifier__warm_start=True; total time=   0.0s\n",
      "[CV] END classifier__alpha=0.09, classifier__class_weight=None, classifier__early_stopping=False, classifier__eta0=6e-05, classifier__l1_ratio=0.49, classifier__penalty=elasticnet, classifier__tol=5e-06, classifier__warm_start=True; total time=   0.0s\n",
      "[CV] END classifier__alpha=0.09, classifier__class_weight=None, classifier__early_stopping=False, classifier__eta0=6e-05, classifier__l1_ratio=0.5, classifier__penalty=elasticnet, classifier__tol=5e-06, classifier__warm_start=True; total time=   0.0s\n",
      "[CV] END classifier__alpha=0.09, classifier__class_weight=None, classifier__early_stopping=False, classifier__eta0=6e-05, classifier__l1_ratio=0.5, classifier__penalty=elasticnet, classifier__tol=5e-06, classifier__warm_start=True; total time=   0.0s\n",
      "[CV] END classifier__alpha=0.09, classifier__class_weight=None, classifier__early_stopping=False, classifier__eta0=6e-05, classifier__l1_ratio=0.5, classifier__penalty=elasticnet, classifier__tol=5e-06, classifier__warm_start=True; total time=   0.0s\n",
      "[CV] END classifier__alpha=0.09, classifier__class_weight=None, classifier__early_stopping=False, classifier__eta0=6e-05, classifier__l1_ratio=0.5, classifier__penalty=elasticnet, classifier__tol=5e-06, classifier__warm_start=True; total time=   0.0s\n",
      "[CV] END classifier__alpha=0.09, classifier__class_weight=None, classifier__early_stopping=False, classifier__eta0=6e-05, classifier__l1_ratio=0.5, classifier__penalty=elasticnet, classifier__tol=5e-06, classifier__warm_start=True; total time=   0.0s\n",
      "[CV] END classifier__alpha=0.09, classifier__class_weight=None, classifier__early_stopping=False, classifier__eta0=6e-05, classifier__l1_ratio=0.51, classifier__penalty=elasticnet, classifier__tol=5e-06, classifier__warm_start=True; total time=   0.0s\n",
      "[CV] END classifier__alpha=0.09, classifier__class_weight=None, classifier__early_stopping=False, classifier__eta0=6e-05, classifier__l1_ratio=0.51, classifier__penalty=elasticnet, classifier__tol=5e-06, classifier__warm_start=True; total time=   0.0s\n",
      "[CV] END classifier__alpha=0.09, classifier__class_weight=None, classifier__early_stopping=False, classifier__eta0=6e-05, classifier__l1_ratio=0.51, classifier__penalty=elasticnet, classifier__tol=5e-06, classifier__warm_start=True; total time=   0.0s\n",
      "[CV] END classifier__alpha=0.09, classifier__class_weight=None, classifier__early_stopping=False, classifier__eta0=6e-05, classifier__l1_ratio=0.51, classifier__penalty=elasticnet, classifier__tol=5e-06, classifier__warm_start=True; total time=   0.0s\n",
      "[CV] END classifier__alpha=0.09, classifier__class_weight=None, classifier__early_stopping=False, classifier__eta0=6e-05, classifier__l1_ratio=0.51, classifier__penalty=elasticnet, classifier__tol=5e-06, classifier__warm_start=True; total time=   0.0s\n",
      "[CV] END classifier__alpha=0.09, classifier__class_weight=None, classifier__early_stopping=False, classifier__eta0=6e-05, classifier__l1_ratio=0.52, classifier__penalty=elasticnet, classifier__tol=5e-06, classifier__warm_start=True; total time=   0.0s\n",
      "[CV] END classifier__alpha=0.09, classifier__class_weight=None, classifier__early_stopping=False, classifier__eta0=6e-05, classifier__l1_ratio=0.52, classifier__penalty=elasticnet, classifier__tol=5e-06, classifier__warm_start=True; total time=   0.0s\n",
      "[CV] END classifier__alpha=0.09, classifier__class_weight=None, classifier__early_stopping=False, classifier__eta0=6e-05, classifier__l1_ratio=0.52, classifier__penalty=elasticnet, classifier__tol=5e-06, classifier__warm_start=True; total time=   0.0s\n",
      "[CV] END classifier__alpha=0.09, classifier__class_weight=None, classifier__early_stopping=False, classifier__eta0=6e-05, classifier__l1_ratio=0.52, classifier__penalty=elasticnet, classifier__tol=5e-06, classifier__warm_start=True; total time=   0.0s\n",
      "[CV] END classifier__alpha=0.09, classifier__class_weight=None, classifier__early_stopping=False, classifier__eta0=6e-05, classifier__l1_ratio=0.52, classifier__penalty=elasticnet, classifier__tol=5e-06, classifier__warm_start=True; total time=   0.0s\n",
      "[CV] END classifier__alpha=0.09, classifier__class_weight=None, classifier__early_stopping=False, classifier__eta0=0.0001, classifier__l1_ratio=0.48, classifier__penalty=elasticnet, classifier__tol=5e-06, classifier__warm_start=True; total time=   0.0s\n",
      "[CV] END classifier__alpha=0.09, classifier__class_weight=None, classifier__early_stopping=False, classifier__eta0=0.0001, classifier__l1_ratio=0.48, classifier__penalty=elasticnet, classifier__tol=5e-06, classifier__warm_start=True; total time=   0.0s\n",
      "[CV] END classifier__alpha=0.09, classifier__class_weight=None, classifier__early_stopping=False, classifier__eta0=0.0001, classifier__l1_ratio=0.48, classifier__penalty=elasticnet, classifier__tol=5e-06, classifier__warm_start=True; total time=   0.0s\n",
      "[CV] END classifier__alpha=0.09, classifier__class_weight=None, classifier__early_stopping=False, classifier__eta0=0.0001, classifier__l1_ratio=0.48, classifier__penalty=elasticnet, classifier__tol=5e-06, classifier__warm_start=True; total time=   0.0s\n",
      "[CV] END classifier__alpha=0.09, classifier__class_weight=None, classifier__early_stopping=False, classifier__eta0=0.0001, classifier__l1_ratio=0.48, classifier__penalty=elasticnet, classifier__tol=5e-06, classifier__warm_start=True; total time=   0.0s\n",
      "[CV] END classifier__alpha=0.09, classifier__class_weight=None, classifier__early_stopping=False, classifier__eta0=0.0001, classifier__l1_ratio=0.49, classifier__penalty=elasticnet, classifier__tol=5e-06, classifier__warm_start=True; total time=   0.0s\n",
      "[CV] END classifier__alpha=0.09, classifier__class_weight=None, classifier__early_stopping=False, classifier__eta0=0.0001, classifier__l1_ratio=0.49, classifier__penalty=elasticnet, classifier__tol=5e-06, classifier__warm_start=True; total time=   0.0s\n",
      "[CV] END classifier__alpha=0.09, classifier__class_weight=None, classifier__early_stopping=False, classifier__eta0=0.0001, classifier__l1_ratio=0.49, classifier__penalty=elasticnet, classifier__tol=5e-06, classifier__warm_start=True; total time=   0.0s\n",
      "[CV] END classifier__alpha=0.09, classifier__class_weight=None, classifier__early_stopping=False, classifier__eta0=0.0001, classifier__l1_ratio=0.49, classifier__penalty=elasticnet, classifier__tol=5e-06, classifier__warm_start=True; total time=   0.0s\n",
      "[CV] END classifier__alpha=0.09, classifier__class_weight=None, classifier__early_stopping=False, classifier__eta0=0.0001, classifier__l1_ratio=0.49, classifier__penalty=elasticnet, classifier__tol=5e-06, classifier__warm_start=True; total time=   0.0s\n",
      "[CV] END classifier__alpha=0.09, classifier__class_weight=None, classifier__early_stopping=False, classifier__eta0=0.0001, classifier__l1_ratio=0.5, classifier__penalty=elasticnet, classifier__tol=5e-06, classifier__warm_start=True; total time=   0.0s\n",
      "[CV] END classifier__alpha=0.09, classifier__class_weight=None, classifier__early_stopping=False, classifier__eta0=0.0001, classifier__l1_ratio=0.5, classifier__penalty=elasticnet, classifier__tol=5e-06, classifier__warm_start=True; total time=   0.0s\n",
      "[CV] END classifier__alpha=0.09, classifier__class_weight=None, classifier__early_stopping=False, classifier__eta0=0.0001, classifier__l1_ratio=0.5, classifier__penalty=elasticnet, classifier__tol=5e-06, classifier__warm_start=True; total time=   0.0s\n",
      "[CV] END classifier__alpha=0.09, classifier__class_weight=None, classifier__early_stopping=False, classifier__eta0=0.0001, classifier__l1_ratio=0.5, classifier__penalty=elasticnet, classifier__tol=5e-06, classifier__warm_start=True; total time=   0.0s\n",
      "[CV] END classifier__alpha=0.09, classifier__class_weight=None, classifier__early_stopping=False, classifier__eta0=0.0001, classifier__l1_ratio=0.5, classifier__penalty=elasticnet, classifier__tol=5e-06, classifier__warm_start=True; total time=   0.0s\n",
      "[CV] END classifier__alpha=0.09, classifier__class_weight=None, classifier__early_stopping=False, classifier__eta0=0.0001, classifier__l1_ratio=0.51, classifier__penalty=elasticnet, classifier__tol=5e-06, classifier__warm_start=True; total time=   0.0s\n",
      "[CV] END classifier__alpha=0.09, classifier__class_weight=None, classifier__early_stopping=False, classifier__eta0=0.0001, classifier__l1_ratio=0.51, classifier__penalty=elasticnet, classifier__tol=5e-06, classifier__warm_start=True; total time=   0.0s\n",
      "[CV] END classifier__alpha=0.09, classifier__class_weight=None, classifier__early_stopping=False, classifier__eta0=0.0001, classifier__l1_ratio=0.51, classifier__penalty=elasticnet, classifier__tol=5e-06, classifier__warm_start=True; total time=   0.0s\n",
      "[CV] END classifier__alpha=0.09, classifier__class_weight=None, classifier__early_stopping=False, classifier__eta0=0.0001, classifier__l1_ratio=0.51, classifier__penalty=elasticnet, classifier__tol=5e-06, classifier__warm_start=True; total time=   0.0s\n",
      "[CV] END classifier__alpha=0.09, classifier__class_weight=None, classifier__early_stopping=False, classifier__eta0=0.0001, classifier__l1_ratio=0.51, classifier__penalty=elasticnet, classifier__tol=5e-06, classifier__warm_start=True; total time=   0.0s\n",
      "[CV] END classifier__alpha=0.09, classifier__class_weight=None, classifier__early_stopping=False, classifier__eta0=0.0001, classifier__l1_ratio=0.52, classifier__penalty=elasticnet, classifier__tol=5e-06, classifier__warm_start=True; total time=   0.0s\n",
      "[CV] END classifier__alpha=0.09, classifier__class_weight=None, classifier__early_stopping=False, classifier__eta0=0.0001, classifier__l1_ratio=0.52, classifier__penalty=elasticnet, classifier__tol=5e-06, classifier__warm_start=True; total time=   0.0s\n",
      "[CV] END classifier__alpha=0.09, classifier__class_weight=None, classifier__early_stopping=False, classifier__eta0=0.0001, classifier__l1_ratio=0.52, classifier__penalty=elasticnet, classifier__tol=5e-06, classifier__warm_start=True; total time=   0.0s\n",
      "[CV] END classifier__alpha=0.09, classifier__class_weight=None, classifier__early_stopping=False, classifier__eta0=0.0001, classifier__l1_ratio=0.52, classifier__penalty=elasticnet, classifier__tol=5e-06, classifier__warm_start=True; total time=   0.0s\n",
      "[CV] END classifier__alpha=0.09, classifier__class_weight=None, classifier__early_stopping=False, classifier__eta0=0.0001, classifier__l1_ratio=0.52, classifier__penalty=elasticnet, classifier__tol=5e-06, classifier__warm_start=True; total time=   0.0s\n",
      "[CV] END classifier__alpha=0.09, classifier__class_weight=None, classifier__early_stopping=False, classifier__eta0=0.001, classifier__l1_ratio=0.48, classifier__penalty=elasticnet, classifier__tol=5e-06, classifier__warm_start=True; total time=   0.0s\n",
      "[CV] END classifier__alpha=0.09, classifier__class_weight=None, classifier__early_stopping=False, classifier__eta0=0.001, classifier__l1_ratio=0.48, classifier__penalty=elasticnet, classifier__tol=5e-06, classifier__warm_start=True; total time=   0.0s\n",
      "[CV] END classifier__alpha=0.09, classifier__class_weight=None, classifier__early_stopping=False, classifier__eta0=0.001, classifier__l1_ratio=0.48, classifier__penalty=elasticnet, classifier__tol=5e-06, classifier__warm_start=True; total time=   0.0s\n",
      "[CV] END classifier__alpha=0.09, classifier__class_weight=None, classifier__early_stopping=False, classifier__eta0=0.001, classifier__l1_ratio=0.48, classifier__penalty=elasticnet, classifier__tol=5e-06, classifier__warm_start=True; total time=   0.0s\n",
      "[CV] END classifier__alpha=0.09, classifier__class_weight=None, classifier__early_stopping=False, classifier__eta0=0.001, classifier__l1_ratio=0.48, classifier__penalty=elasticnet, classifier__tol=5e-06, classifier__warm_start=True; total time=   0.0s\n",
      "[CV] END classifier__alpha=0.09, classifier__class_weight=None, classifier__early_stopping=False, classifier__eta0=0.001, classifier__l1_ratio=0.49, classifier__penalty=elasticnet, classifier__tol=5e-06, classifier__warm_start=True; total time=   0.0s\n",
      "[CV] END classifier__alpha=0.09, classifier__class_weight=None, classifier__early_stopping=False, classifier__eta0=0.001, classifier__l1_ratio=0.49, classifier__penalty=elasticnet, classifier__tol=5e-06, classifier__warm_start=True; total time=   0.0s\n",
      "[CV] END classifier__alpha=0.09, classifier__class_weight=None, classifier__early_stopping=False, classifier__eta0=0.001, classifier__l1_ratio=0.49, classifier__penalty=elasticnet, classifier__tol=5e-06, classifier__warm_start=True; total time=   0.0s\n",
      "[CV] END classifier__alpha=0.09, classifier__class_weight=None, classifier__early_stopping=False, classifier__eta0=0.001, classifier__l1_ratio=0.49, classifier__penalty=elasticnet, classifier__tol=5e-06, classifier__warm_start=True; total time=   0.0s\n",
      "[CV] END classifier__alpha=0.09, classifier__class_weight=None, classifier__early_stopping=False, classifier__eta0=0.001, classifier__l1_ratio=0.49, classifier__penalty=elasticnet, classifier__tol=5e-06, classifier__warm_start=True; total time=   0.0s\n",
      "[CV] END classifier__alpha=0.09, classifier__class_weight=None, classifier__early_stopping=False, classifier__eta0=0.001, classifier__l1_ratio=0.5, classifier__penalty=elasticnet, classifier__tol=5e-06, classifier__warm_start=True; total time=   0.0s\n",
      "[CV] END classifier__alpha=0.09, classifier__class_weight=None, classifier__early_stopping=False, classifier__eta0=0.001, classifier__l1_ratio=0.5, classifier__penalty=elasticnet, classifier__tol=5e-06, classifier__warm_start=True; total time=   0.0s\n",
      "[CV] END classifier__alpha=0.09, classifier__class_weight=None, classifier__early_stopping=False, classifier__eta0=0.001, classifier__l1_ratio=0.5, classifier__penalty=elasticnet, classifier__tol=5e-06, classifier__warm_start=True; total time=   0.0s\n",
      "[CV] END classifier__alpha=0.09, classifier__class_weight=None, classifier__early_stopping=False, classifier__eta0=0.001, classifier__l1_ratio=0.5, classifier__penalty=elasticnet, classifier__tol=5e-06, classifier__warm_start=True; total time=   0.0s\n",
      "[CV] END classifier__alpha=0.09, classifier__class_weight=None, classifier__early_stopping=False, classifier__eta0=0.001, classifier__l1_ratio=0.5, classifier__penalty=elasticnet, classifier__tol=5e-06, classifier__warm_start=True; total time=   0.0s\n",
      "[CV] END classifier__alpha=0.09, classifier__class_weight=None, classifier__early_stopping=False, classifier__eta0=0.001, classifier__l1_ratio=0.51, classifier__penalty=elasticnet, classifier__tol=5e-06, classifier__warm_start=True; total time=   0.0s\n",
      "[CV] END classifier__alpha=0.09, classifier__class_weight=None, classifier__early_stopping=False, classifier__eta0=0.001, classifier__l1_ratio=0.51, classifier__penalty=elasticnet, classifier__tol=5e-06, classifier__warm_start=True; total time=   0.0s\n",
      "[CV] END classifier__alpha=0.09, classifier__class_weight=None, classifier__early_stopping=False, classifier__eta0=0.001, classifier__l1_ratio=0.51, classifier__penalty=elasticnet, classifier__tol=5e-06, classifier__warm_start=True; total time=   0.0s\n",
      "[CV] END classifier__alpha=0.09, classifier__class_weight=None, classifier__early_stopping=False, classifier__eta0=0.001, classifier__l1_ratio=0.51, classifier__penalty=elasticnet, classifier__tol=5e-06, classifier__warm_start=True; total time=   0.0s\n",
      "[CV] END classifier__alpha=0.09, classifier__class_weight=None, classifier__early_stopping=False, classifier__eta0=0.001, classifier__l1_ratio=0.51, classifier__penalty=elasticnet, classifier__tol=5e-06, classifier__warm_start=True; total time=   0.0s\n",
      "[CV] END classifier__alpha=0.09, classifier__class_weight=None, classifier__early_stopping=False, classifier__eta0=0.001, classifier__l1_ratio=0.52, classifier__penalty=elasticnet, classifier__tol=5e-06, classifier__warm_start=True; total time=   0.0s\n",
      "[CV] END classifier__alpha=0.09, classifier__class_weight=None, classifier__early_stopping=False, classifier__eta0=0.001, classifier__l1_ratio=0.52, classifier__penalty=elasticnet, classifier__tol=5e-06, classifier__warm_start=True; total time=   0.0s\n",
      "[CV] END classifier__alpha=0.09, classifier__class_weight=None, classifier__early_stopping=False, classifier__eta0=0.001, classifier__l1_ratio=0.52, classifier__penalty=elasticnet, classifier__tol=5e-06, classifier__warm_start=True; total time=   0.0s\n",
      "[CV] END classifier__alpha=0.09, classifier__class_weight=None, classifier__early_stopping=False, classifier__eta0=0.001, classifier__l1_ratio=0.52, classifier__penalty=elasticnet, classifier__tol=5e-06, classifier__warm_start=True; total time=   0.0s\n",
      "[CV] END classifier__alpha=0.09, classifier__class_weight=None, classifier__early_stopping=False, classifier__eta0=0.001, classifier__l1_ratio=0.52, classifier__penalty=elasticnet, classifier__tol=5e-06, classifier__warm_start=True; total time=   0.0s\n",
      "[CV] END classifier__alpha=0.1, classifier__class_weight=None, classifier__early_stopping=False, classifier__eta0=6e-05, classifier__l1_ratio=0.48, classifier__penalty=elasticnet, classifier__tol=5e-06, classifier__warm_start=True; total time=   0.0s\n",
      "[CV] END classifier__alpha=0.1, classifier__class_weight=None, classifier__early_stopping=False, classifier__eta0=6e-05, classifier__l1_ratio=0.48, classifier__penalty=elasticnet, classifier__tol=5e-06, classifier__warm_start=True; total time=   0.0s\n",
      "[CV] END classifier__alpha=0.1, classifier__class_weight=None, classifier__early_stopping=False, classifier__eta0=6e-05, classifier__l1_ratio=0.48, classifier__penalty=elasticnet, classifier__tol=5e-06, classifier__warm_start=True; total time=   0.0s\n",
      "[CV] END classifier__alpha=0.1, classifier__class_weight=None, classifier__early_stopping=False, classifier__eta0=6e-05, classifier__l1_ratio=0.48, classifier__penalty=elasticnet, classifier__tol=5e-06, classifier__warm_start=True; total time=   0.0s\n",
      "[CV] END classifier__alpha=0.1, classifier__class_weight=None, classifier__early_stopping=False, classifier__eta0=6e-05, classifier__l1_ratio=0.48, classifier__penalty=elasticnet, classifier__tol=5e-06, classifier__warm_start=True; total time=   0.0s\n",
      "[CV] END classifier__alpha=0.1, classifier__class_weight=None, classifier__early_stopping=False, classifier__eta0=6e-05, classifier__l1_ratio=0.49, classifier__penalty=elasticnet, classifier__tol=5e-06, classifier__warm_start=True; total time=   0.0s\n",
      "[CV] END classifier__alpha=0.1, classifier__class_weight=None, classifier__early_stopping=False, classifier__eta0=6e-05, classifier__l1_ratio=0.49, classifier__penalty=elasticnet, classifier__tol=5e-06, classifier__warm_start=True; total time=   0.0s\n",
      "[CV] END classifier__alpha=0.1, classifier__class_weight=None, classifier__early_stopping=False, classifier__eta0=6e-05, classifier__l1_ratio=0.49, classifier__penalty=elasticnet, classifier__tol=5e-06, classifier__warm_start=True; total time=   0.0s\n",
      "[CV] END classifier__alpha=0.1, classifier__class_weight=None, classifier__early_stopping=False, classifier__eta0=6e-05, classifier__l1_ratio=0.49, classifier__penalty=elasticnet, classifier__tol=5e-06, classifier__warm_start=True; total time=   0.0s\n",
      "[CV] END classifier__alpha=0.1, classifier__class_weight=None, classifier__early_stopping=False, classifier__eta0=6e-05, classifier__l1_ratio=0.49, classifier__penalty=elasticnet, classifier__tol=5e-06, classifier__warm_start=True; total time=   0.0s\n",
      "[CV] END classifier__alpha=0.1, classifier__class_weight=None, classifier__early_stopping=False, classifier__eta0=6e-05, classifier__l1_ratio=0.5, classifier__penalty=elasticnet, classifier__tol=5e-06, classifier__warm_start=True; total time=   0.0s\n",
      "[CV] END classifier__alpha=0.1, classifier__class_weight=None, classifier__early_stopping=False, classifier__eta0=6e-05, classifier__l1_ratio=0.5, classifier__penalty=elasticnet, classifier__tol=5e-06, classifier__warm_start=True; total time=   0.0s\n",
      "[CV] END classifier__alpha=0.1, classifier__class_weight=None, classifier__early_stopping=False, classifier__eta0=6e-05, classifier__l1_ratio=0.5, classifier__penalty=elasticnet, classifier__tol=5e-06, classifier__warm_start=True; total time=   0.0s\n",
      "[CV] END classifier__alpha=0.1, classifier__class_weight=None, classifier__early_stopping=False, classifier__eta0=6e-05, classifier__l1_ratio=0.5, classifier__penalty=elasticnet, classifier__tol=5e-06, classifier__warm_start=True; total time=   0.0s\n",
      "[CV] END classifier__alpha=0.1, classifier__class_weight=None, classifier__early_stopping=False, classifier__eta0=6e-05, classifier__l1_ratio=0.5, classifier__penalty=elasticnet, classifier__tol=5e-06, classifier__warm_start=True; total time=   0.0s\n",
      "[CV] END classifier__alpha=0.1, classifier__class_weight=None, classifier__early_stopping=False, classifier__eta0=6e-05, classifier__l1_ratio=0.51, classifier__penalty=elasticnet, classifier__tol=5e-06, classifier__warm_start=True; total time=   0.0s\n",
      "[CV] END classifier__alpha=0.1, classifier__class_weight=None, classifier__early_stopping=False, classifier__eta0=6e-05, classifier__l1_ratio=0.51, classifier__penalty=elasticnet, classifier__tol=5e-06, classifier__warm_start=True; total time=   0.0s\n",
      "[CV] END classifier__alpha=0.1, classifier__class_weight=None, classifier__early_stopping=False, classifier__eta0=6e-05, classifier__l1_ratio=0.51, classifier__penalty=elasticnet, classifier__tol=5e-06, classifier__warm_start=True; total time=   0.0s\n",
      "[CV] END classifier__alpha=0.1, classifier__class_weight=None, classifier__early_stopping=False, classifier__eta0=6e-05, classifier__l1_ratio=0.51, classifier__penalty=elasticnet, classifier__tol=5e-06, classifier__warm_start=True; total time=   0.0s\n",
      "[CV] END classifier__alpha=0.1, classifier__class_weight=None, classifier__early_stopping=False, classifier__eta0=6e-05, classifier__l1_ratio=0.51, classifier__penalty=elasticnet, classifier__tol=5e-06, classifier__warm_start=True; total time=   0.0s\n",
      "[CV] END classifier__alpha=0.1, classifier__class_weight=None, classifier__early_stopping=False, classifier__eta0=6e-05, classifier__l1_ratio=0.52, classifier__penalty=elasticnet, classifier__tol=5e-06, classifier__warm_start=True; total time=   0.0s\n",
      "[CV] END classifier__alpha=0.1, classifier__class_weight=None, classifier__early_stopping=False, classifier__eta0=6e-05, classifier__l1_ratio=0.52, classifier__penalty=elasticnet, classifier__tol=5e-06, classifier__warm_start=True; total time=   0.0s\n",
      "[CV] END classifier__alpha=0.1, classifier__class_weight=None, classifier__early_stopping=False, classifier__eta0=6e-05, classifier__l1_ratio=0.52, classifier__penalty=elasticnet, classifier__tol=5e-06, classifier__warm_start=True; total time=   0.0s\n",
      "[CV] END classifier__alpha=0.1, classifier__class_weight=None, classifier__early_stopping=False, classifier__eta0=6e-05, classifier__l1_ratio=0.52, classifier__penalty=elasticnet, classifier__tol=5e-06, classifier__warm_start=True; total time=   0.0s\n",
      "[CV] END classifier__alpha=0.1, classifier__class_weight=None, classifier__early_stopping=False, classifier__eta0=6e-05, classifier__l1_ratio=0.52, classifier__penalty=elasticnet, classifier__tol=5e-06, classifier__warm_start=True; total time=   0.0s\n",
      "[CV] END classifier__alpha=0.1, classifier__class_weight=None, classifier__early_stopping=False, classifier__eta0=0.0001, classifier__l1_ratio=0.48, classifier__penalty=elasticnet, classifier__tol=5e-06, classifier__warm_start=True; total time=   0.0s\n",
      "[CV] END classifier__alpha=0.1, classifier__class_weight=None, classifier__early_stopping=False, classifier__eta0=0.0001, classifier__l1_ratio=0.48, classifier__penalty=elasticnet, classifier__tol=5e-06, classifier__warm_start=True; total time=   0.0s\n",
      "[CV] END classifier__alpha=0.1, classifier__class_weight=None, classifier__early_stopping=False, classifier__eta0=0.0001, classifier__l1_ratio=0.48, classifier__penalty=elasticnet, classifier__tol=5e-06, classifier__warm_start=True; total time=   0.0s\n",
      "[CV] END classifier__alpha=0.1, classifier__class_weight=None, classifier__early_stopping=False, classifier__eta0=0.0001, classifier__l1_ratio=0.48, classifier__penalty=elasticnet, classifier__tol=5e-06, classifier__warm_start=True; total time=   0.0s\n",
      "[CV] END classifier__alpha=0.1, classifier__class_weight=None, classifier__early_stopping=False, classifier__eta0=0.0001, classifier__l1_ratio=0.48, classifier__penalty=elasticnet, classifier__tol=5e-06, classifier__warm_start=True; total time=   0.0s\n",
      "[CV] END classifier__alpha=0.1, classifier__class_weight=None, classifier__early_stopping=False, classifier__eta0=0.0001, classifier__l1_ratio=0.49, classifier__penalty=elasticnet, classifier__tol=5e-06, classifier__warm_start=True; total time=   0.0s\n",
      "[CV] END classifier__alpha=0.1, classifier__class_weight=None, classifier__early_stopping=False, classifier__eta0=0.0001, classifier__l1_ratio=0.49, classifier__penalty=elasticnet, classifier__tol=5e-06, classifier__warm_start=True; total time=   0.0s\n",
      "[CV] END classifier__alpha=0.1, classifier__class_weight=None, classifier__early_stopping=False, classifier__eta0=0.0001, classifier__l1_ratio=0.49, classifier__penalty=elasticnet, classifier__tol=5e-06, classifier__warm_start=True; total time=   0.0s\n",
      "[CV] END classifier__alpha=0.1, classifier__class_weight=None, classifier__early_stopping=False, classifier__eta0=0.0001, classifier__l1_ratio=0.49, classifier__penalty=elasticnet, classifier__tol=5e-06, classifier__warm_start=True; total time=   0.0s\n",
      "[CV] END classifier__alpha=0.1, classifier__class_weight=None, classifier__early_stopping=False, classifier__eta0=0.0001, classifier__l1_ratio=0.49, classifier__penalty=elasticnet, classifier__tol=5e-06, classifier__warm_start=True; total time=   0.0s\n",
      "[CV] END classifier__alpha=0.1, classifier__class_weight=None, classifier__early_stopping=False, classifier__eta0=0.0001, classifier__l1_ratio=0.5, classifier__penalty=elasticnet, classifier__tol=5e-06, classifier__warm_start=True; total time=   0.0s\n",
      "[CV] END classifier__alpha=0.1, classifier__class_weight=None, classifier__early_stopping=False, classifier__eta0=0.0001, classifier__l1_ratio=0.5, classifier__penalty=elasticnet, classifier__tol=5e-06, classifier__warm_start=True; total time=   0.0s\n",
      "[CV] END classifier__alpha=0.1, classifier__class_weight=None, classifier__early_stopping=False, classifier__eta0=0.0001, classifier__l1_ratio=0.5, classifier__penalty=elasticnet, classifier__tol=5e-06, classifier__warm_start=True; total time=   0.0s\n",
      "[CV] END classifier__alpha=0.1, classifier__class_weight=None, classifier__early_stopping=False, classifier__eta0=0.0001, classifier__l1_ratio=0.5, classifier__penalty=elasticnet, classifier__tol=5e-06, classifier__warm_start=True; total time=   0.0s\n",
      "[CV] END classifier__alpha=0.1, classifier__class_weight=None, classifier__early_stopping=False, classifier__eta0=0.0001, classifier__l1_ratio=0.5, classifier__penalty=elasticnet, classifier__tol=5e-06, classifier__warm_start=True; total time=   0.0s\n",
      "[CV] END classifier__alpha=0.1, classifier__class_weight=None, classifier__early_stopping=False, classifier__eta0=0.0001, classifier__l1_ratio=0.51, classifier__penalty=elasticnet, classifier__tol=5e-06, classifier__warm_start=True; total time=   0.0s\n",
      "[CV] END classifier__alpha=0.1, classifier__class_weight=None, classifier__early_stopping=False, classifier__eta0=0.0001, classifier__l1_ratio=0.51, classifier__penalty=elasticnet, classifier__tol=5e-06, classifier__warm_start=True; total time=   0.0s\n",
      "[CV] END classifier__alpha=0.1, classifier__class_weight=None, classifier__early_stopping=False, classifier__eta0=0.0001, classifier__l1_ratio=0.51, classifier__penalty=elasticnet, classifier__tol=5e-06, classifier__warm_start=True; total time=   0.0s\n",
      "[CV] END classifier__alpha=0.1, classifier__class_weight=None, classifier__early_stopping=False, classifier__eta0=0.0001, classifier__l1_ratio=0.51, classifier__penalty=elasticnet, classifier__tol=5e-06, classifier__warm_start=True; total time=   0.0s\n",
      "[CV] END classifier__alpha=0.1, classifier__class_weight=None, classifier__early_stopping=False, classifier__eta0=0.0001, classifier__l1_ratio=0.51, classifier__penalty=elasticnet, classifier__tol=5e-06, classifier__warm_start=True; total time=   0.0s\n",
      "[CV] END classifier__alpha=0.1, classifier__class_weight=None, classifier__early_stopping=False, classifier__eta0=0.0001, classifier__l1_ratio=0.52, classifier__penalty=elasticnet, classifier__tol=5e-06, classifier__warm_start=True; total time=   0.0s\n",
      "[CV] END classifier__alpha=0.1, classifier__class_weight=None, classifier__early_stopping=False, classifier__eta0=0.0001, classifier__l1_ratio=0.52, classifier__penalty=elasticnet, classifier__tol=5e-06, classifier__warm_start=True; total time=   0.0s\n",
      "[CV] END classifier__alpha=0.1, classifier__class_weight=None, classifier__early_stopping=False, classifier__eta0=0.0001, classifier__l1_ratio=0.52, classifier__penalty=elasticnet, classifier__tol=5e-06, classifier__warm_start=True; total time=   0.0s\n",
      "[CV] END classifier__alpha=0.1, classifier__class_weight=None, classifier__early_stopping=False, classifier__eta0=0.0001, classifier__l1_ratio=0.52, classifier__penalty=elasticnet, classifier__tol=5e-06, classifier__warm_start=True; total time=   0.0s\n",
      "[CV] END classifier__alpha=0.1, classifier__class_weight=None, classifier__early_stopping=False, classifier__eta0=0.0001, classifier__l1_ratio=0.52, classifier__penalty=elasticnet, classifier__tol=5e-06, classifier__warm_start=True; total time=   0.0s\n",
      "[CV] END classifier__alpha=0.1, classifier__class_weight=None, classifier__early_stopping=False, classifier__eta0=0.001, classifier__l1_ratio=0.48, classifier__penalty=elasticnet, classifier__tol=5e-06, classifier__warm_start=True; total time=   0.0s\n",
      "[CV] END classifier__alpha=0.1, classifier__class_weight=None, classifier__early_stopping=False, classifier__eta0=0.001, classifier__l1_ratio=0.48, classifier__penalty=elasticnet, classifier__tol=5e-06, classifier__warm_start=True; total time=   0.0s\n",
      "[CV] END classifier__alpha=0.1, classifier__class_weight=None, classifier__early_stopping=False, classifier__eta0=0.001, classifier__l1_ratio=0.48, classifier__penalty=elasticnet, classifier__tol=5e-06, classifier__warm_start=True; total time=   0.0s\n",
      "[CV] END classifier__alpha=0.1, classifier__class_weight=None, classifier__early_stopping=False, classifier__eta0=0.001, classifier__l1_ratio=0.48, classifier__penalty=elasticnet, classifier__tol=5e-06, classifier__warm_start=True; total time=   0.0s\n",
      "[CV] END classifier__alpha=0.1, classifier__class_weight=None, classifier__early_stopping=False, classifier__eta0=0.001, classifier__l1_ratio=0.48, classifier__penalty=elasticnet, classifier__tol=5e-06, classifier__warm_start=True; total time=   0.0s\n",
      "[CV] END classifier__alpha=0.1, classifier__class_weight=None, classifier__early_stopping=False, classifier__eta0=0.001, classifier__l1_ratio=0.49, classifier__penalty=elasticnet, classifier__tol=5e-06, classifier__warm_start=True; total time=   0.0s\n",
      "[CV] END classifier__alpha=0.1, classifier__class_weight=None, classifier__early_stopping=False, classifier__eta0=0.001, classifier__l1_ratio=0.49, classifier__penalty=elasticnet, classifier__tol=5e-06, classifier__warm_start=True; total time=   0.0s\n",
      "[CV] END classifier__alpha=0.1, classifier__class_weight=None, classifier__early_stopping=False, classifier__eta0=0.001, classifier__l1_ratio=0.49, classifier__penalty=elasticnet, classifier__tol=5e-06, classifier__warm_start=True; total time=   0.0s\n",
      "[CV] END classifier__alpha=0.1, classifier__class_weight=None, classifier__early_stopping=False, classifier__eta0=0.001, classifier__l1_ratio=0.49, classifier__penalty=elasticnet, classifier__tol=5e-06, classifier__warm_start=True; total time=   0.0s\n",
      "[CV] END classifier__alpha=0.1, classifier__class_weight=None, classifier__early_stopping=False, classifier__eta0=0.001, classifier__l1_ratio=0.49, classifier__penalty=elasticnet, classifier__tol=5e-06, classifier__warm_start=True; total time=   0.0s\n",
      "[CV] END classifier__alpha=0.1, classifier__class_weight=None, classifier__early_stopping=False, classifier__eta0=0.001, classifier__l1_ratio=0.5, classifier__penalty=elasticnet, classifier__tol=5e-06, classifier__warm_start=True; total time=   0.0s\n",
      "[CV] END classifier__alpha=0.1, classifier__class_weight=None, classifier__early_stopping=False, classifier__eta0=0.001, classifier__l1_ratio=0.5, classifier__penalty=elasticnet, classifier__tol=5e-06, classifier__warm_start=True; total time=   0.0s\n",
      "[CV] END classifier__alpha=0.1, classifier__class_weight=None, classifier__early_stopping=False, classifier__eta0=0.001, classifier__l1_ratio=0.5, classifier__penalty=elasticnet, classifier__tol=5e-06, classifier__warm_start=True; total time=   0.0s\n",
      "[CV] END classifier__alpha=0.1, classifier__class_weight=None, classifier__early_stopping=False, classifier__eta0=0.001, classifier__l1_ratio=0.5, classifier__penalty=elasticnet, classifier__tol=5e-06, classifier__warm_start=True; total time=   0.0s\n",
      "[CV] END classifier__alpha=0.1, classifier__class_weight=None, classifier__early_stopping=False, classifier__eta0=0.001, classifier__l1_ratio=0.5, classifier__penalty=elasticnet, classifier__tol=5e-06, classifier__warm_start=True; total time=   0.0s\n",
      "[CV] END classifier__alpha=0.1, classifier__class_weight=None, classifier__early_stopping=False, classifier__eta0=0.001, classifier__l1_ratio=0.51, classifier__penalty=elasticnet, classifier__tol=5e-06, classifier__warm_start=True; total time=   0.0s\n",
      "[CV] END classifier__alpha=0.1, classifier__class_weight=None, classifier__early_stopping=False, classifier__eta0=0.001, classifier__l1_ratio=0.51, classifier__penalty=elasticnet, classifier__tol=5e-06, classifier__warm_start=True; total time=   0.0s\n",
      "[CV] END classifier__alpha=0.1, classifier__class_weight=None, classifier__early_stopping=False, classifier__eta0=0.001, classifier__l1_ratio=0.51, classifier__penalty=elasticnet, classifier__tol=5e-06, classifier__warm_start=True; total time=   0.0s\n",
      "[CV] END classifier__alpha=0.1, classifier__class_weight=None, classifier__early_stopping=False, classifier__eta0=0.001, classifier__l1_ratio=0.51, classifier__penalty=elasticnet, classifier__tol=5e-06, classifier__warm_start=True; total time=   0.0s\n",
      "[CV] END classifier__alpha=0.1, classifier__class_weight=None, classifier__early_stopping=False, classifier__eta0=0.001, classifier__l1_ratio=0.51, classifier__penalty=elasticnet, classifier__tol=5e-06, classifier__warm_start=True; total time=   0.0s\n",
      "[CV] END classifier__alpha=0.1, classifier__class_weight=None, classifier__early_stopping=False, classifier__eta0=0.001, classifier__l1_ratio=0.52, classifier__penalty=elasticnet, classifier__tol=5e-06, classifier__warm_start=True; total time=   0.0s\n",
      "[CV] END classifier__alpha=0.1, classifier__class_weight=None, classifier__early_stopping=False, classifier__eta0=0.001, classifier__l1_ratio=0.52, classifier__penalty=elasticnet, classifier__tol=5e-06, classifier__warm_start=True; total time=   0.0s\n",
      "[CV] END classifier__alpha=0.1, classifier__class_weight=None, classifier__early_stopping=False, classifier__eta0=0.001, classifier__l1_ratio=0.52, classifier__penalty=elasticnet, classifier__tol=5e-06, classifier__warm_start=True; total time=   0.0s\n",
      "[CV] END classifier__alpha=0.1, classifier__class_weight=None, classifier__early_stopping=False, classifier__eta0=0.001, classifier__l1_ratio=0.52, classifier__penalty=elasticnet, classifier__tol=5e-06, classifier__warm_start=True; total time=   0.0s\n",
      "[CV] END classifier__alpha=0.1, classifier__class_weight=None, classifier__early_stopping=False, classifier__eta0=0.001, classifier__l1_ratio=0.52, classifier__penalty=elasticnet, classifier__tol=5e-06, classifier__warm_start=True; total time=   0.0s\n",
      "[CV] END classifier__alpha=0.11, classifier__class_weight=None, classifier__early_stopping=False, classifier__eta0=6e-05, classifier__l1_ratio=0.48, classifier__penalty=elasticnet, classifier__tol=5e-06, classifier__warm_start=True; total time=   0.0s\n",
      "[CV] END classifier__alpha=0.11, classifier__class_weight=None, classifier__early_stopping=False, classifier__eta0=6e-05, classifier__l1_ratio=0.48, classifier__penalty=elasticnet, classifier__tol=5e-06, classifier__warm_start=True; total time=   0.0s\n",
      "[CV] END classifier__alpha=0.11, classifier__class_weight=None, classifier__early_stopping=False, classifier__eta0=6e-05, classifier__l1_ratio=0.48, classifier__penalty=elasticnet, classifier__tol=5e-06, classifier__warm_start=True; total time=   0.0s\n",
      "[CV] END classifier__alpha=0.11, classifier__class_weight=None, classifier__early_stopping=False, classifier__eta0=6e-05, classifier__l1_ratio=0.48, classifier__penalty=elasticnet, classifier__tol=5e-06, classifier__warm_start=True; total time=   0.0s\n",
      "[CV] END classifier__alpha=0.11, classifier__class_weight=None, classifier__early_stopping=False, classifier__eta0=6e-05, classifier__l1_ratio=0.48, classifier__penalty=elasticnet, classifier__tol=5e-06, classifier__warm_start=True; total time=   0.0s\n",
      "[CV] END classifier__alpha=0.11, classifier__class_weight=None, classifier__early_stopping=False, classifier__eta0=6e-05, classifier__l1_ratio=0.49, classifier__penalty=elasticnet, classifier__tol=5e-06, classifier__warm_start=True; total time=   0.0s\n",
      "[CV] END classifier__alpha=0.11, classifier__class_weight=None, classifier__early_stopping=False, classifier__eta0=6e-05, classifier__l1_ratio=0.49, classifier__penalty=elasticnet, classifier__tol=5e-06, classifier__warm_start=True; total time=   0.0s\n",
      "[CV] END classifier__alpha=0.11, classifier__class_weight=None, classifier__early_stopping=False, classifier__eta0=6e-05, classifier__l1_ratio=0.49, classifier__penalty=elasticnet, classifier__tol=5e-06, classifier__warm_start=True; total time=   0.0s\n",
      "[CV] END classifier__alpha=0.11, classifier__class_weight=None, classifier__early_stopping=False, classifier__eta0=6e-05, classifier__l1_ratio=0.49, classifier__penalty=elasticnet, classifier__tol=5e-06, classifier__warm_start=True; total time=   0.0s\n",
      "[CV] END classifier__alpha=0.11, classifier__class_weight=None, classifier__early_stopping=False, classifier__eta0=6e-05, classifier__l1_ratio=0.49, classifier__penalty=elasticnet, classifier__tol=5e-06, classifier__warm_start=True; total time=   0.0s\n",
      "[CV] END classifier__alpha=0.11, classifier__class_weight=None, classifier__early_stopping=False, classifier__eta0=6e-05, classifier__l1_ratio=0.5, classifier__penalty=elasticnet, classifier__tol=5e-06, classifier__warm_start=True; total time=   0.0s\n",
      "[CV] END classifier__alpha=0.11, classifier__class_weight=None, classifier__early_stopping=False, classifier__eta0=6e-05, classifier__l1_ratio=0.5, classifier__penalty=elasticnet, classifier__tol=5e-06, classifier__warm_start=True; total time=   0.0s\n",
      "[CV] END classifier__alpha=0.11, classifier__class_weight=None, classifier__early_stopping=False, classifier__eta0=6e-05, classifier__l1_ratio=0.5, classifier__penalty=elasticnet, classifier__tol=5e-06, classifier__warm_start=True; total time=   0.0s\n",
      "[CV] END classifier__alpha=0.11, classifier__class_weight=None, classifier__early_stopping=False, classifier__eta0=6e-05, classifier__l1_ratio=0.5, classifier__penalty=elasticnet, classifier__tol=5e-06, classifier__warm_start=True; total time=   0.0s\n",
      "[CV] END classifier__alpha=0.11, classifier__class_weight=None, classifier__early_stopping=False, classifier__eta0=6e-05, classifier__l1_ratio=0.5, classifier__penalty=elasticnet, classifier__tol=5e-06, classifier__warm_start=True; total time=   0.0s\n",
      "[CV] END classifier__alpha=0.11, classifier__class_weight=None, classifier__early_stopping=False, classifier__eta0=6e-05, classifier__l1_ratio=0.51, classifier__penalty=elasticnet, classifier__tol=5e-06, classifier__warm_start=True; total time=   0.0s\n",
      "[CV] END classifier__alpha=0.11, classifier__class_weight=None, classifier__early_stopping=False, classifier__eta0=6e-05, classifier__l1_ratio=0.51, classifier__penalty=elasticnet, classifier__tol=5e-06, classifier__warm_start=True; total time=   0.0s\n",
      "[CV] END classifier__alpha=0.11, classifier__class_weight=None, classifier__early_stopping=False, classifier__eta0=6e-05, classifier__l1_ratio=0.51, classifier__penalty=elasticnet, classifier__tol=5e-06, classifier__warm_start=True; total time=   0.0s\n",
      "[CV] END classifier__alpha=0.11, classifier__class_weight=None, classifier__early_stopping=False, classifier__eta0=6e-05, classifier__l1_ratio=0.51, classifier__penalty=elasticnet, classifier__tol=5e-06, classifier__warm_start=True; total time=   0.0s\n",
      "[CV] END classifier__alpha=0.11, classifier__class_weight=None, classifier__early_stopping=False, classifier__eta0=6e-05, classifier__l1_ratio=0.51, classifier__penalty=elasticnet, classifier__tol=5e-06, classifier__warm_start=True; total time=   0.0s\n",
      "[CV] END classifier__alpha=0.11, classifier__class_weight=None, classifier__early_stopping=False, classifier__eta0=6e-05, classifier__l1_ratio=0.52, classifier__penalty=elasticnet, classifier__tol=5e-06, classifier__warm_start=True; total time=   0.0s\n",
      "[CV] END classifier__alpha=0.11, classifier__class_weight=None, classifier__early_stopping=False, classifier__eta0=6e-05, classifier__l1_ratio=0.52, classifier__penalty=elasticnet, classifier__tol=5e-06, classifier__warm_start=True; total time=   0.0s\n",
      "[CV] END classifier__alpha=0.11, classifier__class_weight=None, classifier__early_stopping=False, classifier__eta0=6e-05, classifier__l1_ratio=0.52, classifier__penalty=elasticnet, classifier__tol=5e-06, classifier__warm_start=True; total time=   0.0s\n",
      "[CV] END classifier__alpha=0.11, classifier__class_weight=None, classifier__early_stopping=False, classifier__eta0=6e-05, classifier__l1_ratio=0.52, classifier__penalty=elasticnet, classifier__tol=5e-06, classifier__warm_start=True; total time=   0.0s\n",
      "[CV] END classifier__alpha=0.11, classifier__class_weight=None, classifier__early_stopping=False, classifier__eta0=6e-05, classifier__l1_ratio=0.52, classifier__penalty=elasticnet, classifier__tol=5e-06, classifier__warm_start=True; total time=   0.0s\n",
      "[CV] END classifier__alpha=0.11, classifier__class_weight=None, classifier__early_stopping=False, classifier__eta0=0.0001, classifier__l1_ratio=0.48, classifier__penalty=elasticnet, classifier__tol=5e-06, classifier__warm_start=True; total time=   0.0s\n",
      "[CV] END classifier__alpha=0.11, classifier__class_weight=None, classifier__early_stopping=False, classifier__eta0=0.0001, classifier__l1_ratio=0.48, classifier__penalty=elasticnet, classifier__tol=5e-06, classifier__warm_start=True; total time=   0.0s\n",
      "[CV] END classifier__alpha=0.11, classifier__class_weight=None, classifier__early_stopping=False, classifier__eta0=0.0001, classifier__l1_ratio=0.48, classifier__penalty=elasticnet, classifier__tol=5e-06, classifier__warm_start=True; total time=   0.0s\n",
      "[CV] END classifier__alpha=0.11, classifier__class_weight=None, classifier__early_stopping=False, classifier__eta0=0.0001, classifier__l1_ratio=0.48, classifier__penalty=elasticnet, classifier__tol=5e-06, classifier__warm_start=True; total time=   0.0s\n",
      "[CV] END classifier__alpha=0.11, classifier__class_weight=None, classifier__early_stopping=False, classifier__eta0=0.0001, classifier__l1_ratio=0.48, classifier__penalty=elasticnet, classifier__tol=5e-06, classifier__warm_start=True; total time=   0.0s\n",
      "[CV] END classifier__alpha=0.11, classifier__class_weight=None, classifier__early_stopping=False, classifier__eta0=0.0001, classifier__l1_ratio=0.49, classifier__penalty=elasticnet, classifier__tol=5e-06, classifier__warm_start=True; total time=   0.0s\n",
      "[CV] END classifier__alpha=0.11, classifier__class_weight=None, classifier__early_stopping=False, classifier__eta0=0.0001, classifier__l1_ratio=0.49, classifier__penalty=elasticnet, classifier__tol=5e-06, classifier__warm_start=True; total time=   0.0s\n",
      "[CV] END classifier__alpha=0.11, classifier__class_weight=None, classifier__early_stopping=False, classifier__eta0=0.0001, classifier__l1_ratio=0.49, classifier__penalty=elasticnet, classifier__tol=5e-06, classifier__warm_start=True; total time=   0.0s\n",
      "[CV] END classifier__alpha=0.11, classifier__class_weight=None, classifier__early_stopping=False, classifier__eta0=0.0001, classifier__l1_ratio=0.49, classifier__penalty=elasticnet, classifier__tol=5e-06, classifier__warm_start=True; total time=   0.0s\n",
      "[CV] END classifier__alpha=0.11, classifier__class_weight=None, classifier__early_stopping=False, classifier__eta0=0.0001, classifier__l1_ratio=0.49, classifier__penalty=elasticnet, classifier__tol=5e-06, classifier__warm_start=True; total time=   0.0s\n",
      "[CV] END classifier__alpha=0.11, classifier__class_weight=None, classifier__early_stopping=False, classifier__eta0=0.0001, classifier__l1_ratio=0.5, classifier__penalty=elasticnet, classifier__tol=5e-06, classifier__warm_start=True; total time=   0.0s\n",
      "[CV] END classifier__alpha=0.11, classifier__class_weight=None, classifier__early_stopping=False, classifier__eta0=0.0001, classifier__l1_ratio=0.5, classifier__penalty=elasticnet, classifier__tol=5e-06, classifier__warm_start=True; total time=   0.0s\n",
      "[CV] END classifier__alpha=0.11, classifier__class_weight=None, classifier__early_stopping=False, classifier__eta0=0.0001, classifier__l1_ratio=0.5, classifier__penalty=elasticnet, classifier__tol=5e-06, classifier__warm_start=True; total time=   0.0s\n",
      "[CV] END classifier__alpha=0.11, classifier__class_weight=None, classifier__early_stopping=False, classifier__eta0=0.0001, classifier__l1_ratio=0.5, classifier__penalty=elasticnet, classifier__tol=5e-06, classifier__warm_start=True; total time=   0.0s\n",
      "[CV] END classifier__alpha=0.11, classifier__class_weight=None, classifier__early_stopping=False, classifier__eta0=0.0001, classifier__l1_ratio=0.5, classifier__penalty=elasticnet, classifier__tol=5e-06, classifier__warm_start=True; total time=   0.0s\n",
      "[CV] END classifier__alpha=0.11, classifier__class_weight=None, classifier__early_stopping=False, classifier__eta0=0.0001, classifier__l1_ratio=0.51, classifier__penalty=elasticnet, classifier__tol=5e-06, classifier__warm_start=True; total time=   0.0s\n",
      "[CV] END classifier__alpha=0.11, classifier__class_weight=None, classifier__early_stopping=False, classifier__eta0=0.0001, classifier__l1_ratio=0.51, classifier__penalty=elasticnet, classifier__tol=5e-06, classifier__warm_start=True; total time=   0.0s\n",
      "[CV] END classifier__alpha=0.11, classifier__class_weight=None, classifier__early_stopping=False, classifier__eta0=0.0001, classifier__l1_ratio=0.51, classifier__penalty=elasticnet, classifier__tol=5e-06, classifier__warm_start=True; total time=   0.0s\n",
      "[CV] END classifier__alpha=0.11, classifier__class_weight=None, classifier__early_stopping=False, classifier__eta0=0.0001, classifier__l1_ratio=0.51, classifier__penalty=elasticnet, classifier__tol=5e-06, classifier__warm_start=True; total time=   0.0s\n",
      "[CV] END classifier__alpha=0.11, classifier__class_weight=None, classifier__early_stopping=False, classifier__eta0=0.0001, classifier__l1_ratio=0.51, classifier__penalty=elasticnet, classifier__tol=5e-06, classifier__warm_start=True; total time=   0.0s\n",
      "[CV] END classifier__alpha=0.11, classifier__class_weight=None, classifier__early_stopping=False, classifier__eta0=0.0001, classifier__l1_ratio=0.52, classifier__penalty=elasticnet, classifier__tol=5e-06, classifier__warm_start=True; total time=   0.0s\n",
      "[CV] END classifier__alpha=0.11, classifier__class_weight=None, classifier__early_stopping=False, classifier__eta0=0.0001, classifier__l1_ratio=0.52, classifier__penalty=elasticnet, classifier__tol=5e-06, classifier__warm_start=True; total time=   0.0s\n",
      "[CV] END classifier__alpha=0.11, classifier__class_weight=None, classifier__early_stopping=False, classifier__eta0=0.0001, classifier__l1_ratio=0.52, classifier__penalty=elasticnet, classifier__tol=5e-06, classifier__warm_start=True; total time=   0.0s\n",
      "[CV] END classifier__alpha=0.11, classifier__class_weight=None, classifier__early_stopping=False, classifier__eta0=0.0001, classifier__l1_ratio=0.52, classifier__penalty=elasticnet, classifier__tol=5e-06, classifier__warm_start=True; total time=   0.0s\n",
      "[CV] END classifier__alpha=0.11, classifier__class_weight=None, classifier__early_stopping=False, classifier__eta0=0.0001, classifier__l1_ratio=0.52, classifier__penalty=elasticnet, classifier__tol=5e-06, classifier__warm_start=True; total time=   0.0s\n",
      "[CV] END classifier__alpha=0.11, classifier__class_weight=None, classifier__early_stopping=False, classifier__eta0=0.001, classifier__l1_ratio=0.48, classifier__penalty=elasticnet, classifier__tol=5e-06, classifier__warm_start=True; total time=   0.0s\n",
      "[CV] END classifier__alpha=0.11, classifier__class_weight=None, classifier__early_stopping=False, classifier__eta0=0.001, classifier__l1_ratio=0.48, classifier__penalty=elasticnet, classifier__tol=5e-06, classifier__warm_start=True; total time=   0.0s\n",
      "[CV] END classifier__alpha=0.11, classifier__class_weight=None, classifier__early_stopping=False, classifier__eta0=0.001, classifier__l1_ratio=0.48, classifier__penalty=elasticnet, classifier__tol=5e-06, classifier__warm_start=True; total time=   0.0s\n",
      "[CV] END classifier__alpha=0.11, classifier__class_weight=None, classifier__early_stopping=False, classifier__eta0=0.001, classifier__l1_ratio=0.48, classifier__penalty=elasticnet, classifier__tol=5e-06, classifier__warm_start=True; total time=   0.0s\n",
      "[CV] END classifier__alpha=0.11, classifier__class_weight=None, classifier__early_stopping=False, classifier__eta0=0.001, classifier__l1_ratio=0.48, classifier__penalty=elasticnet, classifier__tol=5e-06, classifier__warm_start=True; total time=   0.0s\n",
      "[CV] END classifier__alpha=0.11, classifier__class_weight=None, classifier__early_stopping=False, classifier__eta0=0.001, classifier__l1_ratio=0.49, classifier__penalty=elasticnet, classifier__tol=5e-06, classifier__warm_start=True; total time=   0.0s\n",
      "[CV] END classifier__alpha=0.11, classifier__class_weight=None, classifier__early_stopping=False, classifier__eta0=0.001, classifier__l1_ratio=0.49, classifier__penalty=elasticnet, classifier__tol=5e-06, classifier__warm_start=True; total time=   0.0s\n",
      "[CV] END classifier__alpha=0.11, classifier__class_weight=None, classifier__early_stopping=False, classifier__eta0=0.001, classifier__l1_ratio=0.49, classifier__penalty=elasticnet, classifier__tol=5e-06, classifier__warm_start=True; total time=   0.0s\n",
      "[CV] END classifier__alpha=0.11, classifier__class_weight=None, classifier__early_stopping=False, classifier__eta0=0.001, classifier__l1_ratio=0.49, classifier__penalty=elasticnet, classifier__tol=5e-06, classifier__warm_start=True; total time=   0.0s\n",
      "[CV] END classifier__alpha=0.11, classifier__class_weight=None, classifier__early_stopping=False, classifier__eta0=0.001, classifier__l1_ratio=0.49, classifier__penalty=elasticnet, classifier__tol=5e-06, classifier__warm_start=True; total time=   0.0s\n",
      "[CV] END classifier__alpha=0.11, classifier__class_weight=None, classifier__early_stopping=False, classifier__eta0=0.001, classifier__l1_ratio=0.5, classifier__penalty=elasticnet, classifier__tol=5e-06, classifier__warm_start=True; total time=   0.0s\n",
      "[CV] END classifier__alpha=0.11, classifier__class_weight=None, classifier__early_stopping=False, classifier__eta0=0.001, classifier__l1_ratio=0.5, classifier__penalty=elasticnet, classifier__tol=5e-06, classifier__warm_start=True; total time=   0.0s\n",
      "[CV] END classifier__alpha=0.11, classifier__class_weight=None, classifier__early_stopping=False, classifier__eta0=0.001, classifier__l1_ratio=0.5, classifier__penalty=elasticnet, classifier__tol=5e-06, classifier__warm_start=True; total time=   0.0s\n",
      "[CV] END classifier__alpha=0.11, classifier__class_weight=None, classifier__early_stopping=False, classifier__eta0=0.001, classifier__l1_ratio=0.5, classifier__penalty=elasticnet, classifier__tol=5e-06, classifier__warm_start=True; total time=   0.0s\n",
      "[CV] END classifier__alpha=0.11, classifier__class_weight=None, classifier__early_stopping=False, classifier__eta0=0.001, classifier__l1_ratio=0.5, classifier__penalty=elasticnet, classifier__tol=5e-06, classifier__warm_start=True; total time=   0.0s\n",
      "[CV] END classifier__alpha=0.11, classifier__class_weight=None, classifier__early_stopping=False, classifier__eta0=0.001, classifier__l1_ratio=0.51, classifier__penalty=elasticnet, classifier__tol=5e-06, classifier__warm_start=True; total time=   0.0s\n",
      "[CV] END classifier__alpha=0.11, classifier__class_weight=None, classifier__early_stopping=False, classifier__eta0=0.001, classifier__l1_ratio=0.51, classifier__penalty=elasticnet, classifier__tol=5e-06, classifier__warm_start=True; total time=   0.0s\n",
      "[CV] END classifier__alpha=0.11, classifier__class_weight=None, classifier__early_stopping=False, classifier__eta0=0.001, classifier__l1_ratio=0.51, classifier__penalty=elasticnet, classifier__tol=5e-06, classifier__warm_start=True; total time=   0.0s\n",
      "[CV] END classifier__alpha=0.11, classifier__class_weight=None, classifier__early_stopping=False, classifier__eta0=0.001, classifier__l1_ratio=0.51, classifier__penalty=elasticnet, classifier__tol=5e-06, classifier__warm_start=True; total time=   0.0s\n",
      "[CV] END classifier__alpha=0.11, classifier__class_weight=None, classifier__early_stopping=False, classifier__eta0=0.001, classifier__l1_ratio=0.51, classifier__penalty=elasticnet, classifier__tol=5e-06, classifier__warm_start=True; total time=   0.0s\n",
      "[CV] END classifier__alpha=0.11, classifier__class_weight=None, classifier__early_stopping=False, classifier__eta0=0.001, classifier__l1_ratio=0.52, classifier__penalty=elasticnet, classifier__tol=5e-06, classifier__warm_start=True; total time=   0.0s\n",
      "[CV] END classifier__alpha=0.11, classifier__class_weight=None, classifier__early_stopping=False, classifier__eta0=0.001, classifier__l1_ratio=0.52, classifier__penalty=elasticnet, classifier__tol=5e-06, classifier__warm_start=True; total time=   0.0s\n",
      "[CV] END classifier__alpha=0.11, classifier__class_weight=None, classifier__early_stopping=False, classifier__eta0=0.001, classifier__l1_ratio=0.52, classifier__penalty=elasticnet, classifier__tol=5e-06, classifier__warm_start=True; total time=   0.0s\n",
      "[CV] END classifier__alpha=0.11, classifier__class_weight=None, classifier__early_stopping=False, classifier__eta0=0.001, classifier__l1_ratio=0.52, classifier__penalty=elasticnet, classifier__tol=5e-06, classifier__warm_start=True; total time=   0.0s\n",
      "[CV] END classifier__alpha=0.11, classifier__class_weight=None, classifier__early_stopping=False, classifier__eta0=0.001, classifier__l1_ratio=0.52, classifier__penalty=elasticnet, classifier__tol=5e-06, classifier__warm_start=True; total time=   0.0s\n"
     ]
    }
   ],
   "source": [
    "#Perform grid search on best model\n",
    "tuning_params = [{\n",
    "    \"classifier__penalty\": ['elasticnet'],\n",
    "    \"classifier__l1_ratio\": [0.48, 0.49, 0.5, 0.51, 0.52],\n",
    "    \"classifier__alpha\": [0.09, 0.1, 0.11],\n",
    "    \"classifier__tol\": [5e-6],\n",
    "    \"classifier__eta0\": [6e-5, 1e-4, 1e-3],\n",
    "    \"classifier__early_stopping\": [False],\n",
    "    \"classifier__class_weight\": [None],\n",
    "    \"classifier__warm_start\": [True]\n",
    "}]\n",
    "\n",
    "skf = StratifiedKFold(n_splits=5, shuffle=True, random_state=42)\n",
    "grid = GridSearchCV(pipe, tuning_params, \n",
    "                    cv=skf.split(xTrain,yTrainBinary), scoring='accuracy', \n",
    "                    verbose=2, refit=True)\n",
    "\n",
    "grid.fit(xTrain,yTrainBinary)\n",
    "\n",
    "best_model = grid.best_estimator_\n",
    "optimal_params = grid.best_params_"
   ]
  },
  {
   "cell_type": "code",
   "execution_count": 337,
   "metadata": {},
   "outputs": [
    {
     "name": "stdout",
     "output_type": "stream",
     "text": [
      "0.7361904761904763\n",
      "{'classifier__alpha': 0.1, 'classifier__class_weight': None, 'classifier__early_stopping': False, 'classifier__eta0': 0.001, 'classifier__l1_ratio': 0.51, 'classifier__penalty': 'elasticnet', 'classifier__tol': 5e-06, 'classifier__warm_start': True}\n"
     ]
    }
   ],
   "source": [
    "print(grid.best_score_)\n",
    "print(grid.best_params_)"
   ]
  },
  {
   "attachments": {},
   "cell_type": "markdown",
   "metadata": {},
   "source": [
    "### Train Perceptron with Best Parameters"
   ]
  },
  {
   "cell_type": "code",
   "execution_count": 338,
   "metadata": {},
   "outputs": [
    {
     "name": "stdout",
     "output_type": "stream",
     "text": [
      "0.7361904761904763\n",
      "{'classifier__alpha': 0.1, 'classifier__class_weight': None, 'classifier__early_stopping': False, 'classifier__eta0': 0.001, 'classifier__l1_ratio': 0.51, 'classifier__penalty': 'elasticnet', 'classifier__tol': 5e-06, 'classifier__warm_start': True}\n"
     ]
    }
   ],
   "source": [
    "print(grid.best_score_)\n",
    "print(grid.best_params_)\n",
    "clf = best_model\n",
    "\n",
    "y_pred_bin = pipe.predict(xTest)\n",
    "\n",
    "#map predictions back to original labels\n",
    "y_pred_label = le.inverse_transform(y_pred_bin)\n",
    "y_test_label = le.inverse_transform(yTestBinary)\n"
   ]
  },
  {
   "attachments": {},
   "cell_type": "markdown",
   "metadata": {},
   "source": [
    "### Create Confusion Matrix for Non-PCA Perceptron"
   ]
  },
  {
   "cell_type": "code",
   "execution_count": 339,
   "metadata": {},
   "outputs": [
    {
     "data": {
      "image/png": "[encoded data removed]",
      "text/plain": [
       "<Figure size 600x400 with 2 Axes>"
      ]
     },
     "metadata": {},
     "output_type": "display_data"
    },
    {
     "name": "stdout",
     "output_type": "stream",
     "text": [
      "              precision    recall  f1-score   support\n",
      "\n",
      "      Faller       0.25      0.20      0.22         5\n",
      "  Non-Faller       0.71      0.77      0.74        13\n",
      "\n",
      "    accuracy                           0.61        18\n",
      "   macro avg       0.48      0.48      0.48        18\n",
      "weighted avg       0.59      0.61      0.60        18\n",
      "\n"
     ]
    }
   ],
   "source": [
    "classes = ['Non-Faller', 'Faller']\n",
    "cm_python = confusion_matrix(y_true=y_test_label, y_pred=y_pred_label, labels=classes)\n",
    "\n",
    "plt.subplots(figsize=(6,4))\n",
    "\n",
    "group_counts = ['{0:0.0f}'.format(value) for value in\n",
    "                cm_python.flatten()]\n",
    "group_percentages = ['{0:.2%}'.format(value) for value in\n",
    "                     cm_python.flatten()/np.sum(cm_python)]\n",
    "labels = [f'{v1}\\n{v2}' for v1, v2 in\n",
    "          zip(group_counts,group_percentages)]\n",
    "labels = np.asarray(labels).reshape(2,2)\n",
    "df_cm_python = pd.DataFrame(cm_python)\n",
    "\n",
    "sns.heatmap(df_cm_python, annot=labels, fmt='',annot_kws={\"size\": 16}, xticklabels=classes, yticklabels=classes) # font size\n",
    "plt.title('Perceptron: Standard processing w/ normalization')\n",
    "plt.xlabel('Predicted')\n",
    "plt.ylabel('Actual') \n",
    "plt.yticks(rotation=0)\n",
    "plt.show()\n",
    "\n",
    "print(classification_report(y_true=y_test_label, y_pred=y_pred_label))"
   ]
  },
  {
   "attachments": {},
   "cell_type": "markdown",
   "metadata": {},
   "source": [
    "### Do PCA on Training Data"
   ]
  },
  {
   "cell_type": "code",
   "execution_count": 256,
   "metadata": {},
   "outputs": [
    {
     "name": "stderr",
     "output_type": "stream",
     "text": [
      " 33%|███▎      | 9/27 [00:00<00:00, 52.63it/s]"
     ]
    },
    {
     "name": "stdout",
     "output_type": "stream",
     "text": [
      "CategoricalNB model failed to execute\n",
      "Negative values in data passed to CategoricalNB (input X)\n"
     ]
    },
    {
     "name": "stderr",
     "output_type": "stream",
     "text": [
      "100%|██████████| 27/27 [00:00<00:00, 78.49it/s]\n"
     ]
    },
    {
     "name": "stdout",
     "output_type": "stream",
     "text": [
      "StackingClassifier model failed to execute\n",
      "__init__() missing 1 required positional argument: 'estimators'\n"
     ]
    },
    {
     "name": "stderr",
     "output_type": "stream",
     "text": [
      " 33%|███▎      | 9/27 [00:00<00:00, 48.13it/s]"
     ]
    },
    {
     "name": "stdout",
     "output_type": "stream",
     "text": [
      "CategoricalNB model failed to execute\n",
      "Negative values in data passed to CategoricalNB (input X)\n"
     ]
    },
    {
     "name": "stderr",
     "output_type": "stream",
     "text": [
      "100%|██████████| 27/27 [00:00<00:00, 71.43it/s]\n"
     ]
    },
    {
     "name": "stdout",
     "output_type": "stream",
     "text": [
      "StackingClassifier model failed to execute\n",
      "__init__() missing 1 required positional argument: 'estimators'\n"
     ]
    },
    {
     "name": "stderr",
     "output_type": "stream",
     "text": [
      " 59%|█████▉    | 16/27 [00:00<00:00, 72.92it/s]"
     ]
    },
    {
     "name": "stdout",
     "output_type": "stream",
     "text": [
      "CategoricalNB model failed to execute\n",
      "Negative values in data passed to CategoricalNB (input X)\n"
     ]
    },
    {
     "name": "stderr",
     "output_type": "stream",
     "text": [
      "100%|██████████| 27/27 [00:00<00:00, 74.59it/s]\n"
     ]
    },
    {
     "name": "stdout",
     "output_type": "stream",
     "text": [
      "StackingClassifier model failed to execute\n",
      "__init__() missing 1 required positional argument: 'estimators'\n"
     ]
    },
    {
     "name": "stderr",
     "output_type": "stream",
     "text": [
      " 52%|█████▏    | 14/27 [00:00<00:00, 69.59it/s]"
     ]
    },
    {
     "name": "stdout",
     "output_type": "stream",
     "text": [
      "CategoricalNB model failed to execute\n",
      "Negative values in data passed to CategoricalNB (input X)\n"
     ]
    },
    {
     "name": "stderr",
     "output_type": "stream",
     "text": [
      "100%|██████████| 27/27 [00:00<00:00, 76.92it/s]\n"
     ]
    },
    {
     "name": "stdout",
     "output_type": "stream",
     "text": [
      "StackingClassifier model failed to execute\n",
      "__init__() missing 1 required positional argument: 'estimators'\n"
     ]
    },
    {
     "name": "stderr",
     "output_type": "stream",
     "text": [
      " 59%|█████▉    | 16/27 [00:00<00:00, 77.23it/s]"
     ]
    },
    {
     "name": "stdout",
     "output_type": "stream",
     "text": [
      "CategoricalNB model failed to execute\n",
      "Negative values in data passed to CategoricalNB (input X)\n"
     ]
    },
    {
     "name": "stderr",
     "output_type": "stream",
     "text": [
      "100%|██████████| 27/27 [00:00<00:00, 76.70it/s]\n"
     ]
    },
    {
     "name": "stdout",
     "output_type": "stream",
     "text": [
      "StackingClassifier model failed to execute\n",
      "__init__() missing 1 required positional argument: 'estimators'\n"
     ]
    },
    {
     "name": "stderr",
     "output_type": "stream",
     "text": [
      " 52%|█████▏    | 14/27 [00:00<00:00, 68.12it/s]"
     ]
    },
    {
     "name": "stdout",
     "output_type": "stream",
     "text": [
      "CategoricalNB model failed to execute\n",
      "Negative values in data passed to CategoricalNB (input X)\n"
     ]
    },
    {
     "name": "stderr",
     "output_type": "stream",
     "text": [
      "100%|██████████| 27/27 [00:00<00:00, 73.97it/s]\n"
     ]
    },
    {
     "name": "stdout",
     "output_type": "stream",
     "text": [
      "StackingClassifier model failed to execute\n",
      "__init__() missing 1 required positional argument: 'estimators'\n"
     ]
    },
    {
     "name": "stderr",
     "output_type": "stream",
     "text": [
      " 52%|█████▏    | 14/27 [00:00<00:00, 67.08it/s]"
     ]
    },
    {
     "name": "stdout",
     "output_type": "stream",
     "text": [
      "CategoricalNB model failed to execute\n",
      "Negative values in data passed to CategoricalNB (input X)\n"
     ]
    },
    {
     "name": "stderr",
     "output_type": "stream",
     "text": [
      "100%|██████████| 27/27 [00:00<00:00, 74.18it/s]\n"
     ]
    },
    {
     "name": "stdout",
     "output_type": "stream",
     "text": [
      "StackingClassifier model failed to execute\n",
      "__init__() missing 1 required positional argument: 'estimators'\n"
     ]
    },
    {
     "name": "stderr",
     "output_type": "stream",
     "text": [
      " 52%|█████▏    | 14/27 [00:00<00:00, 65.96it/s]"
     ]
    },
    {
     "name": "stdout",
     "output_type": "stream",
     "text": [
      "CategoricalNB model failed to execute\n",
      "Negative values in data passed to CategoricalNB (input X)\n"
     ]
    },
    {
     "name": "stderr",
     "output_type": "stream",
     "text": [
      "100%|██████████| 27/27 [00:00<00:00, 75.42it/s]\n"
     ]
    },
    {
     "name": "stdout",
     "output_type": "stream",
     "text": [
      "StackingClassifier model failed to execute\n",
      "__init__() missing 1 required positional argument: 'estimators'\n"
     ]
    },
    {
     "name": "stderr",
     "output_type": "stream",
     "text": [
      " 52%|█████▏    | 14/27 [00:00<00:00, 70.64it/s]"
     ]
    },
    {
     "name": "stdout",
     "output_type": "stream",
     "text": [
      "CategoricalNB model failed to execute\n",
      "Negative values in data passed to CategoricalNB (input X)\n"
     ]
    },
    {
     "name": "stderr",
     "output_type": "stream",
     "text": [
      "100%|██████████| 27/27 [00:00<00:00, 75.63it/s]\n"
     ]
    },
    {
     "name": "stdout",
     "output_type": "stream",
     "text": [
      "StackingClassifier model failed to execute\n",
      "__init__() missing 1 required positional argument: 'estimators'\n"
     ]
    },
    {
     "name": "stderr",
     "output_type": "stream",
     "text": [
      " 52%|█████▏    | 14/27 [00:00<00:00, 66.93it/s]"
     ]
    },
    {
     "name": "stdout",
     "output_type": "stream",
     "text": [
      "CategoricalNB model failed to execute\n",
      "Negative values in data passed to CategoricalNB (input X)\n"
     ]
    },
    {
     "name": "stderr",
     "output_type": "stream",
     "text": [
      "100%|██████████| 27/27 [00:00<00:00, 75.21it/s]\n"
     ]
    },
    {
     "name": "stdout",
     "output_type": "stream",
     "text": [
      "StackingClassifier model failed to execute\n",
      "__init__() missing 1 required positional argument: 'estimators'\n"
     ]
    },
    {
     "name": "stderr",
     "output_type": "stream",
     "text": [
      " 52%|█████▏    | 14/27 [00:00<00:00, 66.33it/s]"
     ]
    },
    {
     "name": "stdout",
     "output_type": "stream",
     "text": [
      "CategoricalNB model failed to execute\n",
      "Negative values in data passed to CategoricalNB (input X)\n"
     ]
    },
    {
     "name": "stderr",
     "output_type": "stream",
     "text": [
      "100%|██████████| 27/27 [00:00<00:00, 75.00it/s]\n"
     ]
    },
    {
     "name": "stdout",
     "output_type": "stream",
     "text": [
      "StackingClassifier model failed to execute\n",
      "__init__() missing 1 required positional argument: 'estimators'\n"
     ]
    },
    {
     "name": "stderr",
     "output_type": "stream",
     "text": [
      " 59%|█████▉    | 16/27 [00:00<00:00, 73.75it/s]"
     ]
    },
    {
     "name": "stdout",
     "output_type": "stream",
     "text": [
      "CategoricalNB model failed to execute\n",
      "Negative values in data passed to CategoricalNB (input X)\n"
     ]
    },
    {
     "name": "stderr",
     "output_type": "stream",
     "text": [
      "100%|██████████| 27/27 [00:00<00:00, 74.59it/s]\n"
     ]
    },
    {
     "name": "stdout",
     "output_type": "stream",
     "text": [
      "StackingClassifier model failed to execute\n",
      "__init__() missing 1 required positional argument: 'estimators'\n"
     ]
    },
    {
     "name": "stderr",
     "output_type": "stream",
     "text": [
      " 52%|█████▏    | 14/27 [00:00<00:00, 69.44it/s]"
     ]
    },
    {
     "name": "stdout",
     "output_type": "stream",
     "text": [
      "CategoricalNB model failed to execute\n",
      "Negative values in data passed to CategoricalNB (input X)\n"
     ]
    },
    {
     "name": "stderr",
     "output_type": "stream",
     "text": [
      "100%|██████████| 27/27 [00:00<00:00, 74.18it/s]\n"
     ]
    },
    {
     "name": "stdout",
     "output_type": "stream",
     "text": [
      "StackingClassifier model failed to execute\n",
      "__init__() missing 1 required positional argument: 'estimators'\n"
     ]
    },
    {
     "name": "stderr",
     "output_type": "stream",
     "text": [
      " 52%|█████▏    | 14/27 [00:00<00:00, 66.97it/s]"
     ]
    },
    {
     "name": "stdout",
     "output_type": "stream",
     "text": [
      "CategoricalNB model failed to execute\n",
      "Negative values in data passed to CategoricalNB (input X)\n"
     ]
    },
    {
     "name": "stderr",
     "output_type": "stream",
     "text": [
      "100%|██████████| 27/27 [00:00<00:00, 74.59it/s]\n"
     ]
    },
    {
     "name": "stdout",
     "output_type": "stream",
     "text": [
      "StackingClassifier model failed to execute\n",
      "__init__() missing 1 required positional argument: 'estimators'\n"
     ]
    },
    {
     "name": "stderr",
     "output_type": "stream",
     "text": [
      " 59%|█████▉    | 16/27 [00:00<00:00, 72.15it/s]"
     ]
    },
    {
     "name": "stdout",
     "output_type": "stream",
     "text": [
      "CategoricalNB model failed to execute\n",
      "Negative values in data passed to CategoricalNB (input X)\n"
     ]
    },
    {
     "name": "stderr",
     "output_type": "stream",
     "text": [
      "100%|██████████| 27/27 [00:00<00:00, 74.18it/s]\n"
     ]
    },
    {
     "name": "stdout",
     "output_type": "stream",
     "text": [
      "StackingClassifier model failed to execute\n",
      "__init__() missing 1 required positional argument: 'estimators'\n"
     ]
    },
    {
     "name": "stderr",
     "output_type": "stream",
     "text": [
      " 52%|█████▏    | 14/27 [00:00<00:00, 61.21it/s]"
     ]
    },
    {
     "name": "stdout",
     "output_type": "stream",
     "text": [
      "CategoricalNB model failed to execute\n",
      "Negative values in data passed to CategoricalNB (input X)\n"
     ]
    },
    {
     "name": "stderr",
     "output_type": "stream",
     "text": [
      "100%|██████████| 27/27 [00:00<00:00, 70.22it/s]\n"
     ]
    },
    {
     "name": "stdout",
     "output_type": "stream",
     "text": [
      "StackingClassifier model failed to execute\n",
      "__init__() missing 1 required positional argument: 'estimators'\n"
     ]
    },
    {
     "name": "stderr",
     "output_type": "stream",
     "text": [
      " 41%|████      | 11/27 [00:00<00:00, 50.62it/s]"
     ]
    },
    {
     "name": "stdout",
     "output_type": "stream",
     "text": [
      "CategoricalNB model failed to execute\n",
      "Negative values in data passed to CategoricalNB (input X)\n"
     ]
    },
    {
     "name": "stderr",
     "output_type": "stream",
     "text": [
      "100%|██████████| 27/27 [00:00<00:00, 69.05it/s]\n"
     ]
    },
    {
     "name": "stdout",
     "output_type": "stream",
     "text": [
      "StackingClassifier model failed to execute\n",
      "__init__() missing 1 required positional argument: 'estimators'\n"
     ]
    },
    {
     "name": "stderr",
     "output_type": "stream",
     "text": [
      " 44%|████▍     | 12/27 [00:00<00:00, 52.99it/s]"
     ]
    },
    {
     "name": "stdout",
     "output_type": "stream",
     "text": [
      "CategoricalNB model failed to execute\n",
      "Negative values in data passed to CategoricalNB (input X)\n"
     ]
    },
    {
     "name": "stderr",
     "output_type": "stream",
     "text": [
      "100%|██████████| 27/27 [00:00<00:00, 70.31it/s]\n"
     ]
    },
    {
     "name": "stdout",
     "output_type": "stream",
     "text": [
      "StackingClassifier model failed to execute\n",
      "__init__() missing 1 required positional argument: 'estimators'\n"
     ]
    },
    {
     "name": "stderr",
     "output_type": "stream",
     "text": [
      " 44%|████▍     | 12/27 [00:00<00:00, 55.83it/s]"
     ]
    },
    {
     "name": "stdout",
     "output_type": "stream",
     "text": [
      "CategoricalNB model failed to execute\n",
      "Negative values in data passed to CategoricalNB (input X)\n"
     ]
    },
    {
     "name": "stderr",
     "output_type": "stream",
     "text": [
      "100%|██████████| 27/27 [00:00<00:00, 70.68it/s]\n"
     ]
    },
    {
     "name": "stdout",
     "output_type": "stream",
     "text": [
      "StackingClassifier model failed to execute\n",
      "__init__() missing 1 required positional argument: 'estimators'\n"
     ]
    },
    {
     "name": "stderr",
     "output_type": "stream",
     "text": [
      " 52%|█████▏    | 14/27 [00:00<00:00, 60.19it/s]"
     ]
    },
    {
     "name": "stdout",
     "output_type": "stream",
     "text": [
      "CategoricalNB model failed to execute\n",
      "Negative values in data passed to CategoricalNB (input X)\n"
     ]
    },
    {
     "name": "stderr",
     "output_type": "stream",
     "text": [
      "100%|██████████| 27/27 [00:00<00:00, 69.95it/s]\n"
     ]
    },
    {
     "name": "stdout",
     "output_type": "stream",
     "text": [
      "StackingClassifier model failed to execute\n",
      "__init__() missing 1 required positional argument: 'estimators'\n"
     ]
    },
    {
     "name": "stderr",
     "output_type": "stream",
     "text": [
      " 44%|████▍     | 12/27 [00:00<00:00, 54.72it/s]"
     ]
    },
    {
     "name": "stdout",
     "output_type": "stream",
     "text": [
      "CategoricalNB model failed to execute\n",
      "Negative values in data passed to CategoricalNB (input X)\n"
     ]
    },
    {
     "name": "stderr",
     "output_type": "stream",
     "text": [
      "100%|██████████| 27/27 [00:00<00:00, 71.24it/s]\n"
     ]
    },
    {
     "name": "stdout",
     "output_type": "stream",
     "text": [
      "StackingClassifier model failed to execute\n",
      "__init__() missing 1 required positional argument: 'estimators'\n"
     ]
    },
    {
     "name": "stderr",
     "output_type": "stream",
     "text": [
      " 59%|█████▉    | 16/27 [00:00<00:00, 66.12it/s]"
     ]
    },
    {
     "name": "stdout",
     "output_type": "stream",
     "text": [
      "CategoricalNB model failed to execute\n",
      "Negative values in data passed to CategoricalNB (input X)\n"
     ]
    },
    {
     "name": "stderr",
     "output_type": "stream",
     "text": [
      "100%|██████████| 27/27 [00:00<00:00, 71.43it/s]\n"
     ]
    },
    {
     "name": "stdout",
     "output_type": "stream",
     "text": [
      "StackingClassifier model failed to execute\n",
      "__init__() missing 1 required positional argument: 'estimators'\n"
     ]
    },
    {
     "name": "stderr",
     "output_type": "stream",
     "text": [
      " 52%|█████▏    | 14/27 [00:00<00:00, 61.72it/s]"
     ]
    },
    {
     "name": "stdout",
     "output_type": "stream",
     "text": [
      "CategoricalNB model failed to execute\n",
      "Negative values in data passed to CategoricalNB (input X)\n"
     ]
    },
    {
     "name": "stderr",
     "output_type": "stream",
     "text": [
      "100%|██████████| 27/27 [00:00<00:00, 71.43it/s]\n"
     ]
    },
    {
     "name": "stdout",
     "output_type": "stream",
     "text": [
      "StackingClassifier model failed to execute\n",
      "__init__() missing 1 required positional argument: 'estimators'\n"
     ]
    },
    {
     "name": "stderr",
     "output_type": "stream",
     "text": [
      " 44%|████▍     | 12/27 [00:00<00:00, 52.28it/s]"
     ]
    },
    {
     "name": "stdout",
     "output_type": "stream",
     "text": [
      "CategoricalNB model failed to execute\n",
      "Negative values in data passed to CategoricalNB (input X)\n"
     ]
    },
    {
     "name": "stderr",
     "output_type": "stream",
     "text": [
      "100%|██████████| 27/27 [00:00<00:00, 69.59it/s]\n"
     ]
    },
    {
     "name": "stdout",
     "output_type": "stream",
     "text": [
      "StackingClassifier model failed to execute\n",
      "__init__() missing 1 required positional argument: 'estimators'\n"
     ]
    },
    {
     "name": "stderr",
     "output_type": "stream",
     "text": [
      " 44%|████▍     | 12/27 [00:00<00:00, 56.04it/s]"
     ]
    },
    {
     "name": "stdout",
     "output_type": "stream",
     "text": [
      "CategoricalNB model failed to execute\n",
      "Negative values in data passed to CategoricalNB (input X)\n"
     ]
    },
    {
     "name": "stderr",
     "output_type": "stream",
     "text": [
      "100%|██████████| 27/27 [00:00<00:00, 71.43it/s]\n"
     ]
    },
    {
     "name": "stdout",
     "output_type": "stream",
     "text": [
      "StackingClassifier model failed to execute\n",
      "__init__() missing 1 required positional argument: 'estimators'\n"
     ]
    },
    {
     "name": "stderr",
     "output_type": "stream",
     "text": [
      " 59%|█████▉    | 16/27 [00:00<00:00, 66.41it/s]"
     ]
    },
    {
     "name": "stdout",
     "output_type": "stream",
     "text": [
      "CategoricalNB model failed to execute\n",
      "Negative values in data passed to CategoricalNB (input X)\n"
     ]
    },
    {
     "name": "stderr",
     "output_type": "stream",
     "text": [
      "100%|██████████| 27/27 [00:00<00:00, 70.31it/s]\n"
     ]
    },
    {
     "name": "stdout",
     "output_type": "stream",
     "text": [
      "StackingClassifier model failed to execute\n",
      "__init__() missing 1 required positional argument: 'estimators'\n"
     ]
    },
    {
     "name": "stderr",
     "output_type": "stream",
     "text": [
      " 44%|████▍     | 12/27 [00:00<00:00, 55.40it/s]"
     ]
    },
    {
     "name": "stdout",
     "output_type": "stream",
     "text": [
      "CategoricalNB model failed to execute\n",
      "Negative values in data passed to CategoricalNB (input X)\n"
     ]
    },
    {
     "name": "stderr",
     "output_type": "stream",
     "text": [
      "100%|██████████| 27/27 [00:00<00:00, 71.24it/s]\n"
     ]
    },
    {
     "name": "stdout",
     "output_type": "stream",
     "text": [
      "StackingClassifier model failed to execute\n",
      "__init__() missing 1 required positional argument: 'estimators'\n"
     ]
    },
    {
     "name": "stderr",
     "output_type": "stream",
     "text": [
      " 44%|████▍     | 12/27 [00:00<00:00, 53.66it/s]"
     ]
    },
    {
     "name": "stdout",
     "output_type": "stream",
     "text": [
      "CategoricalNB model failed to execute\n",
      "Negative values in data passed to CategoricalNB (input X)\n"
     ]
    },
    {
     "name": "stderr",
     "output_type": "stream",
     "text": [
      "100%|██████████| 27/27 [00:00<00:00, 67.84it/s]\n"
     ]
    },
    {
     "name": "stdout",
     "output_type": "stream",
     "text": [
      "StackingClassifier model failed to execute\n",
      "__init__() missing 1 required positional argument: 'estimators'\n"
     ]
    },
    {
     "name": "stderr",
     "output_type": "stream",
     "text": [
      " 52%|█████▏    | 14/27 [00:00<00:00, 59.00it/s]"
     ]
    },
    {
     "name": "stdout",
     "output_type": "stream",
     "text": [
      "CategoricalNB model failed to execute\n",
      "Negative values in data passed to CategoricalNB (input X)\n"
     ]
    },
    {
     "name": "stderr",
     "output_type": "stream",
     "text": [
      "100%|██████████| 27/27 [00:00<00:00, 68.70it/s]\n"
     ]
    },
    {
     "name": "stdout",
     "output_type": "stream",
     "text": [
      "StackingClassifier model failed to execute\n",
      "__init__() missing 1 required positional argument: 'estimators'\n"
     ]
    },
    {
     "name": "stderr",
     "output_type": "stream",
     "text": [
      " 44%|████▍     | 12/27 [00:00<00:00, 52.28it/s]"
     ]
    },
    {
     "name": "stdout",
     "output_type": "stream",
     "text": [
      "CategoricalNB model failed to execute\n",
      "Negative values in data passed to CategoricalNB (input X)\n"
     ]
    },
    {
     "name": "stderr",
     "output_type": "stream",
     "text": [
      "100%|██████████| 27/27 [00:00<00:00, 68.35it/s]\n"
     ]
    },
    {
     "name": "stdout",
     "output_type": "stream",
     "text": [
      "StackingClassifier model failed to execute\n",
      "__init__() missing 1 required positional argument: 'estimators'\n"
     ]
    },
    {
     "name": "stderr",
     "output_type": "stream",
     "text": [
      " 52%|█████▏    | 14/27 [00:00<00:00, 59.00it/s]"
     ]
    },
    {
     "name": "stdout",
     "output_type": "stream",
     "text": [
      "CategoricalNB model failed to execute\n",
      "Negative values in data passed to CategoricalNB (input X)\n"
     ]
    },
    {
     "name": "stderr",
     "output_type": "stream",
     "text": [
      "100%|██████████| 27/27 [00:00<00:00, 69.05it/s]\n"
     ]
    },
    {
     "name": "stdout",
     "output_type": "stream",
     "text": [
      "StackingClassifier model failed to execute\n",
      "__init__() missing 1 required positional argument: 'estimators'\n"
     ]
    },
    {
     "name": "stderr",
     "output_type": "stream",
     "text": [
      " 44%|████▍     | 12/27 [00:00<00:00, 53.85it/s]"
     ]
    },
    {
     "name": "stdout",
     "output_type": "stream",
     "text": [
      "CategoricalNB model failed to execute\n",
      "Negative values in data passed to CategoricalNB (input X)\n"
     ]
    },
    {
     "name": "stderr",
     "output_type": "stream",
     "text": [
      "100%|██████████| 27/27 [00:00<00:00, 68.35it/s]\n"
     ]
    },
    {
     "name": "stdout",
     "output_type": "stream",
     "text": [
      "StackingClassifier model failed to execute\n",
      "__init__() missing 1 required positional argument: 'estimators'\n"
     ]
    },
    {
     "name": "stderr",
     "output_type": "stream",
     "text": [
      " 44%|████▍     | 12/27 [00:00<00:00, 53.37it/s]"
     ]
    },
    {
     "name": "stdout",
     "output_type": "stream",
     "text": [
      "CategoricalNB model failed to execute\n",
      "Negative values in data passed to CategoricalNB (input X)\n"
     ]
    },
    {
     "name": "stderr",
     "output_type": "stream",
     "text": [
      "100%|██████████| 27/27 [00:00<00:00, 68.88it/s]\n"
     ]
    },
    {
     "name": "stdout",
     "output_type": "stream",
     "text": [
      "StackingClassifier model failed to execute\n",
      "__init__() missing 1 required positional argument: 'estimators'\n"
     ]
    },
    {
     "name": "stderr",
     "output_type": "stream",
     "text": [
      " 41%|████      | 11/27 [00:00<00:00, 50.97it/s]"
     ]
    },
    {
     "name": "stdout",
     "output_type": "stream",
     "text": [
      "CategoricalNB model failed to execute\n",
      "Negative values in data passed to CategoricalNB (input X)\n"
     ]
    },
    {
     "name": "stderr",
     "output_type": "stream",
     "text": [
      "100%|██████████| 27/27 [00:00<00:00, 68.70it/s]\n"
     ]
    },
    {
     "name": "stdout",
     "output_type": "stream",
     "text": [
      "StackingClassifier model failed to execute\n",
      "__init__() missing 1 required positional argument: 'estimators'\n"
     ]
    },
    {
     "name": "stderr",
     "output_type": "stream",
     "text": [
      " 44%|████▍     | 12/27 [00:00<00:00, 56.20it/s]"
     ]
    },
    {
     "name": "stdout",
     "output_type": "stream",
     "text": [
      "CategoricalNB model failed to execute\n",
      "Negative values in data passed to CategoricalNB (input X)\n"
     ]
    },
    {
     "name": "stderr",
     "output_type": "stream",
     "text": [
      "100%|██████████| 27/27 [00:00<00:00, 69.23it/s]\n"
     ]
    },
    {
     "name": "stdout",
     "output_type": "stream",
     "text": [
      "StackingClassifier model failed to execute\n",
      "__init__() missing 1 required positional argument: 'estimators'\n"
     ]
    },
    {
     "name": "stderr",
     "output_type": "stream",
     "text": [
      " 41%|████      | 11/27 [00:00<00:00, 50.42it/s]"
     ]
    },
    {
     "name": "stdout",
     "output_type": "stream",
     "text": [
      "CategoricalNB model failed to execute\n",
      "Negative values in data passed to CategoricalNB (input X)\n"
     ]
    },
    {
     "name": "stderr",
     "output_type": "stream",
     "text": [
      "100%|██████████| 27/27 [00:00<00:00, 68.18it/s]\n"
     ]
    },
    {
     "name": "stdout",
     "output_type": "stream",
     "text": [
      "StackingClassifier model failed to execute\n",
      "__init__() missing 1 required positional argument: 'estimators'\n"
     ]
    },
    {
     "name": "stderr",
     "output_type": "stream",
     "text": [
      " 59%|█████▉    | 16/27 [00:00<00:00, 68.31it/s]"
     ]
    },
    {
     "name": "stdout",
     "output_type": "stream",
     "text": [
      "CategoricalNB model failed to execute\n",
      "Negative values in data passed to CategoricalNB (input X)\n"
     ]
    },
    {
     "name": "stderr",
     "output_type": "stream",
     "text": [
      "100%|██████████| 27/27 [00:00<00:00, 72.97it/s]\n"
     ]
    },
    {
     "name": "stdout",
     "output_type": "stream",
     "text": [
      "StackingClassifier model failed to execute\n",
      "__init__() missing 1 required positional argument: 'estimators'\n"
     ]
    },
    {
     "name": "stderr",
     "output_type": "stream",
     "text": [
      " 44%|████▍     | 12/27 [00:00<00:00, 53.40it/s]"
     ]
    },
    {
     "name": "stdout",
     "output_type": "stream",
     "text": [
      "CategoricalNB model failed to execute\n",
      "Negative values in data passed to CategoricalNB (input X)\n"
     ]
    },
    {
     "name": "stderr",
     "output_type": "stream",
     "text": [
      "100%|██████████| 27/27 [00:00<00:00, 69.59it/s]\n"
     ]
    },
    {
     "name": "stdout",
     "output_type": "stream",
     "text": [
      "StackingClassifier model failed to execute\n",
      "__init__() missing 1 required positional argument: 'estimators'\n"
     ]
    },
    {
     "name": "stderr",
     "output_type": "stream",
     "text": [
      " 37%|███▋      | 10/27 [00:00<00:00, 51.76it/s]"
     ]
    },
    {
     "name": "stdout",
     "output_type": "stream",
     "text": [
      "CategoricalNB model failed to execute\n",
      "Negative values in data passed to CategoricalNB (input X)\n"
     ]
    },
    {
     "name": "stderr",
     "output_type": "stream",
     "text": [
      "100%|██████████| 27/27 [00:00<00:00, 67.00it/s]\n"
     ]
    },
    {
     "name": "stdout",
     "output_type": "stream",
     "text": [
      "StackingClassifier model failed to execute\n",
      "__init__() missing 1 required positional argument: 'estimators'\n"
     ]
    },
    {
     "name": "stderr",
     "output_type": "stream",
     "text": [
      " 44%|████▍     | 12/27 [00:00<00:00, 50.47it/s]"
     ]
    },
    {
     "name": "stdout",
     "output_type": "stream",
     "text": [
      "CategoricalNB model failed to execute\n",
      "Negative values in data passed to CategoricalNB (input X)\n"
     ]
    },
    {
     "name": "stderr",
     "output_type": "stream",
     "text": [
      "100%|██████████| 27/27 [00:00<00:00, 65.85it/s]\n"
     ]
    },
    {
     "name": "stdout",
     "output_type": "stream",
     "text": [
      "StackingClassifier model failed to execute\n",
      "__init__() missing 1 required positional argument: 'estimators'\n"
     ]
    },
    {
     "name": "stderr",
     "output_type": "stream",
     "text": [
      " 44%|████▍     | 12/27 [00:00<00:00, 55.19it/s]"
     ]
    },
    {
     "name": "stdout",
     "output_type": "stream",
     "text": [
      "CategoricalNB model failed to execute\n",
      "Negative values in data passed to CategoricalNB (input X)\n"
     ]
    },
    {
     "name": "stderr",
     "output_type": "stream",
     "text": [
      "100%|██████████| 27/27 [00:00<00:00, 68.88it/s]\n"
     ]
    },
    {
     "name": "stdout",
     "output_type": "stream",
     "text": [
      "StackingClassifier model failed to execute\n",
      "__init__() missing 1 required positional argument: 'estimators'\n"
     ]
    },
    {
     "name": "stderr",
     "output_type": "stream",
     "text": [
      " 44%|████▍     | 12/27 [00:00<00:00, 51.03it/s]"
     ]
    },
    {
     "name": "stdout",
     "output_type": "stream",
     "text": [
      "CategoricalNB model failed to execute\n",
      "Negative values in data passed to CategoricalNB (input X)\n"
     ]
    },
    {
     "name": "stderr",
     "output_type": "stream",
     "text": [
      "100%|██████████| 27/27 [00:00<00:00, 65.85it/s]\n"
     ]
    },
    {
     "name": "stdout",
     "output_type": "stream",
     "text": [
      "StackingClassifier model failed to execute\n",
      "__init__() missing 1 required positional argument: 'estimators'\n"
     ]
    },
    {
     "name": "stderr",
     "output_type": "stream",
     "text": [
      " 44%|████▍     | 12/27 [00:00<00:00, 51.65it/s]"
     ]
    },
    {
     "name": "stdout",
     "output_type": "stream",
     "text": [
      "CategoricalNB model failed to execute\n",
      "Negative values in data passed to CategoricalNB (input X)\n"
     ]
    },
    {
     "name": "stderr",
     "output_type": "stream",
     "text": [
      "100%|██████████| 27/27 [00:00<00:00, 65.53it/s]\n"
     ]
    },
    {
     "name": "stdout",
     "output_type": "stream",
     "text": [
      "StackingClassifier model failed to execute\n",
      "__init__() missing 1 required positional argument: 'estimators'\n"
     ]
    },
    {
     "name": "stderr",
     "output_type": "stream",
     "text": [
      " 41%|████      | 11/27 [00:00<00:00, 50.05it/s]"
     ]
    },
    {
     "name": "stdout",
     "output_type": "stream",
     "text": [
      "CategoricalNB model failed to execute\n",
      "Negative values in data passed to CategoricalNB (input X)\n"
     ]
    },
    {
     "name": "stderr",
     "output_type": "stream",
     "text": [
      "100%|██████████| 27/27 [00:00<00:00, 65.22it/s]\n"
     ]
    },
    {
     "name": "stdout",
     "output_type": "stream",
     "text": [
      "StackingClassifier model failed to execute\n",
      "__init__() missing 1 required positional argument: 'estimators'\n"
     ]
    },
    {
     "name": "stderr",
     "output_type": "stream",
     "text": [
      " 41%|████      | 11/27 [00:00<00:00, 50.42it/s]"
     ]
    },
    {
     "name": "stdout",
     "output_type": "stream",
     "text": [
      "CategoricalNB model failed to execute\n",
      "Negative values in data passed to CategoricalNB (input X)\n"
     ]
    },
    {
     "name": "stderr",
     "output_type": "stream",
     "text": [
      "100%|██████████| 27/27 [00:00<00:00, 67.67it/s]\n"
     ]
    },
    {
     "name": "stdout",
     "output_type": "stream",
     "text": [
      "StackingClassifier model failed to execute\n",
      "__init__() missing 1 required positional argument: 'estimators'\n"
     ]
    },
    {
     "name": "stderr",
     "output_type": "stream",
     "text": [
      " 41%|████      | 11/27 [00:00<00:00, 48.62it/s]"
     ]
    },
    {
     "name": "stdout",
     "output_type": "stream",
     "text": [
      "CategoricalNB model failed to execute\n",
      "Negative values in data passed to CategoricalNB (input X)\n"
     ]
    },
    {
     "name": "stderr",
     "output_type": "stream",
     "text": [
      "100%|██████████| 27/27 [00:00<00:00, 66.34it/s]\n"
     ]
    },
    {
     "name": "stdout",
     "output_type": "stream",
     "text": [
      "StackingClassifier model failed to execute\n",
      "__init__() missing 1 required positional argument: 'estimators'\n"
     ]
    },
    {
     "name": "stderr",
     "output_type": "stream",
     "text": [
      " 41%|████      | 11/27 [00:00<00:00, 52.49it/s]"
     ]
    },
    {
     "name": "stdout",
     "output_type": "stream",
     "text": [
      "CategoricalNB model failed to execute\n",
      "Negative values in data passed to CategoricalNB (input X)\n"
     ]
    },
    {
     "name": "stderr",
     "output_type": "stream",
     "text": [
      "100%|██████████| 27/27 [00:00<00:00, 67.00it/s]\n"
     ]
    },
    {
     "name": "stdout",
     "output_type": "stream",
     "text": [
      "StackingClassifier model failed to execute\n",
      "__init__() missing 1 required positional argument: 'estimators'\n"
     ]
    },
    {
     "name": "stderr",
     "output_type": "stream",
     "text": [
      " 41%|████      | 11/27 [00:00<00:00, 50.08it/s]"
     ]
    },
    {
     "name": "stdout",
     "output_type": "stream",
     "text": [
      "CategoricalNB model failed to execute\n",
      "Negative values in data passed to CategoricalNB (input X)\n"
     ]
    },
    {
     "name": "stderr",
     "output_type": "stream",
     "text": [
      "100%|██████████| 27/27 [00:00<00:00, 65.38it/s]\n"
     ]
    },
    {
     "name": "stdout",
     "output_type": "stream",
     "text": [
      "StackingClassifier model failed to execute\n",
      "__init__() missing 1 required positional argument: 'estimators'\n"
     ]
    },
    {
     "name": "stderr",
     "output_type": "stream",
     "text": [
      " 37%|███▋      | 10/27 [00:00<00:00, 50.29it/s]"
     ]
    },
    {
     "name": "stdout",
     "output_type": "stream",
     "text": [
      "CategoricalNB model failed to execute\n",
      "Negative values in data passed to CategoricalNB (input X)\n"
     ]
    },
    {
     "name": "stderr",
     "output_type": "stream",
     "text": [
      "100%|██████████| 27/27 [00:00<00:00, 66.34it/s]\n"
     ]
    },
    {
     "name": "stdout",
     "output_type": "stream",
     "text": [
      "StackingClassifier model failed to execute\n",
      "__init__() missing 1 required positional argument: 'estimators'\n"
     ]
    },
    {
     "name": "stderr",
     "output_type": "stream",
     "text": [
      " 44%|████▍     | 12/27 [00:00<00:00, 50.97it/s]"
     ]
    },
    {
     "name": "stdout",
     "output_type": "stream",
     "text": [
      "CategoricalNB model failed to execute\n",
      "Negative values in data passed to CategoricalNB (input X)\n"
     ]
    },
    {
     "name": "stderr",
     "output_type": "stream",
     "text": [
      "100%|██████████| 27/27 [00:00<00:00, 65.38it/s]\n"
     ]
    },
    {
     "name": "stdout",
     "output_type": "stream",
     "text": [
      "StackingClassifier model failed to execute\n",
      "__init__() missing 1 required positional argument: 'estimators'\n"
     ]
    },
    {
     "name": "stderr",
     "output_type": "stream",
     "text": [
      " 41%|████      | 11/27 [00:00<00:00, 48.69it/s]"
     ]
    },
    {
     "name": "stdout",
     "output_type": "stream",
     "text": [
      "CategoricalNB model failed to execute\n",
      "Negative values in data passed to CategoricalNB (input X)\n"
     ]
    },
    {
     "name": "stderr",
     "output_type": "stream",
     "text": [
      "100%|██████████| 27/27 [00:00<00:00, 65.06it/s]\n"
     ]
    },
    {
     "name": "stdout",
     "output_type": "stream",
     "text": [
      "StackingClassifier model failed to execute\n",
      "__init__() missing 1 required positional argument: 'estimators'\n"
     ]
    },
    {
     "name": "stderr",
     "output_type": "stream",
     "text": [
      " 41%|████      | 11/27 [00:00<00:00, 51.93it/s]"
     ]
    },
    {
     "name": "stdout",
     "output_type": "stream",
     "text": [
      "CategoricalNB model failed to execute\n",
      "Negative values in data passed to CategoricalNB (input X)\n"
     ]
    },
    {
     "name": "stderr",
     "output_type": "stream",
     "text": [
      "100%|██████████| 27/27 [00:00<00:00, 66.83it/s]\n"
     ]
    },
    {
     "name": "stdout",
     "output_type": "stream",
     "text": [
      "StackingClassifier model failed to execute\n",
      "__init__() missing 1 required positional argument: 'estimators'\n"
     ]
    },
    {
     "name": "stderr",
     "output_type": "stream",
     "text": [
      " 44%|████▍     | 12/27 [00:00<00:00, 53.63it/s]"
     ]
    },
    {
     "name": "stdout",
     "output_type": "stream",
     "text": [
      "CategoricalNB model failed to execute\n",
      "Negative values in data passed to CategoricalNB (input X)\n"
     ]
    },
    {
     "name": "stderr",
     "output_type": "stream",
     "text": [
      "100%|██████████| 27/27 [00:00<00:00, 67.16it/s]\n"
     ]
    },
    {
     "name": "stdout",
     "output_type": "stream",
     "text": [
      "StackingClassifier model failed to execute\n",
      "__init__() missing 1 required positional argument: 'estimators'\n"
     ]
    },
    {
     "name": "stderr",
     "output_type": "stream",
     "text": [
      " 37%|███▋      | 10/27 [00:00<00:00, 49.30it/s]"
     ]
    },
    {
     "name": "stdout",
     "output_type": "stream",
     "text": [
      "CategoricalNB model failed to execute\n",
      "Negative values in data passed to CategoricalNB (input X)\n"
     ]
    },
    {
     "name": "stderr",
     "output_type": "stream",
     "text": [
      "100%|██████████| 27/27 [00:00<00:00, 65.22it/s]\n"
     ]
    },
    {
     "name": "stdout",
     "output_type": "stream",
     "text": [
      "StackingClassifier model failed to execute\n",
      "__init__() missing 1 required positional argument: 'estimators'\n"
     ]
    },
    {
     "name": "stderr",
     "output_type": "stream",
     "text": [
      " 33%|███▎      | 9/27 [00:00<00:00, 45.24it/s]"
     ]
    },
    {
     "name": "stdout",
     "output_type": "stream",
     "text": [
      "CategoricalNB model failed to execute\n",
      "Negative values in data passed to CategoricalNB (input X)\n"
     ]
    },
    {
     "name": "stderr",
     "output_type": "stream",
     "text": [
      "100%|██████████| 27/27 [00:00<00:00, 64.75it/s]\n"
     ]
    },
    {
     "name": "stdout",
     "output_type": "stream",
     "text": [
      "StackingClassifier model failed to execute\n",
      "__init__() missing 1 required positional argument: 'estimators'\n"
     ]
    },
    {
     "name": "stderr",
     "output_type": "stream",
     "text": [
      " 37%|███▋      | 10/27 [00:00<00:00, 49.39it/s]"
     ]
    },
    {
     "name": "stdout",
     "output_type": "stream",
     "text": [
      "CategoricalNB model failed to execute\n",
      "Negative values in data passed to CategoricalNB (input X)\n"
     ]
    },
    {
     "name": "stderr",
     "output_type": "stream",
     "text": [
      "100%|██████████| 27/27 [00:00<00:00, 65.38it/s]\n"
     ]
    },
    {
     "name": "stdout",
     "output_type": "stream",
     "text": [
      "StackingClassifier model failed to execute\n",
      "__init__() missing 1 required positional argument: 'estimators'\n"
     ]
    },
    {
     "name": "stderr",
     "output_type": "stream",
     "text": [
      " 44%|████▍     | 12/27 [00:00<00:00, 52.69it/s]"
     ]
    },
    {
     "name": "stdout",
     "output_type": "stream",
     "text": [
      "CategoricalNB model failed to execute\n",
      "Negative values in data passed to CategoricalNB (input X)\n"
     ]
    },
    {
     "name": "stderr",
     "output_type": "stream",
     "text": [
      "100%|██████████| 27/27 [00:00<00:00, 66.83it/s]\n"
     ]
    },
    {
     "name": "stdout",
     "output_type": "stream",
     "text": [
      "StackingClassifier model failed to execute\n",
      "__init__() missing 1 required positional argument: 'estimators'\n"
     ]
    },
    {
     "name": "stderr",
     "output_type": "stream",
     "text": [
      " 41%|████      | 11/27 [00:00<00:00, 50.18it/s]"
     ]
    },
    {
     "name": "stdout",
     "output_type": "stream",
     "text": [
      "CategoricalNB model failed to execute\n",
      "Negative values in data passed to CategoricalNB (input X)\n"
     ]
    },
    {
     "name": "stderr",
     "output_type": "stream",
     "text": [
      "100%|██████████| 27/27 [00:00<00:00, 66.18it/s]\n"
     ]
    },
    {
     "name": "stdout",
     "output_type": "stream",
     "text": [
      "StackingClassifier model failed to execute\n",
      "__init__() missing 1 required positional argument: 'estimators'\n"
     ]
    },
    {
     "name": "stderr",
     "output_type": "stream",
     "text": [
      " 41%|████      | 11/27 [00:00<00:00, 50.13it/s]"
     ]
    },
    {
     "name": "stdout",
     "output_type": "stream",
     "text": [
      "CategoricalNB model failed to execute\n",
      "Negative values in data passed to CategoricalNB (input X)\n"
     ]
    },
    {
     "name": "stderr",
     "output_type": "stream",
     "text": [
      "100%|██████████| 27/27 [00:00<00:00, 65.69it/s]\n"
     ]
    },
    {
     "name": "stdout",
     "output_type": "stream",
     "text": [
      "StackingClassifier model failed to execute\n",
      "__init__() missing 1 required positional argument: 'estimators'\n"
     ]
    },
    {
     "name": "stderr",
     "output_type": "stream",
     "text": [
      " 37%|███▋      | 10/27 [00:00<00:00, 49.97it/s]"
     ]
    },
    {
     "name": "stdout",
     "output_type": "stream",
     "text": [
      "CategoricalNB model failed to execute\n",
      "Negative values in data passed to CategoricalNB (input X)\n"
     ]
    },
    {
     "name": "stderr",
     "output_type": "stream",
     "text": [
      "100%|██████████| 27/27 [00:00<00:00, 62.93it/s]\n"
     ]
    },
    {
     "name": "stdout",
     "output_type": "stream",
     "text": [
      "StackingClassifier model failed to execute\n",
      "__init__() missing 1 required positional argument: 'estimators'\n"
     ]
    },
    {
     "name": "stderr",
     "output_type": "stream",
     "text": [
      " 33%|███▎      | 9/27 [00:00<00:00, 43.82it/s]"
     ]
    },
    {
     "name": "stdout",
     "output_type": "stream",
     "text": [
      "CategoricalNB model failed to execute\n",
      "Negative values in data passed to CategoricalNB (input X)\n"
     ]
    },
    {
     "name": "stderr",
     "output_type": "stream",
     "text": [
      "100%|██████████| 27/27 [00:00<00:00, 62.79it/s]\n"
     ]
    },
    {
     "name": "stdout",
     "output_type": "stream",
     "text": [
      "StackingClassifier model failed to execute\n",
      "__init__() missing 1 required positional argument: 'estimators'\n"
     ]
    },
    {
     "name": "stderr",
     "output_type": "stream",
     "text": [
      " 37%|███▋      | 10/27 [00:00<00:00, 49.30it/s]"
     ]
    },
    {
     "name": "stdout",
     "output_type": "stream",
     "text": [
      "CategoricalNB model failed to execute\n",
      "Negative values in data passed to CategoricalNB (input X)\n"
     ]
    },
    {
     "name": "stderr",
     "output_type": "stream",
     "text": [
      "100%|██████████| 27/27 [00:00<00:00, 65.06it/s]\n"
     ]
    },
    {
     "name": "stdout",
     "output_type": "stream",
     "text": [
      "StackingClassifier model failed to execute\n",
      "__init__() missing 1 required positional argument: 'estimators'\n"
     ]
    },
    {
     "name": "stderr",
     "output_type": "stream",
     "text": [
      " 44%|████▍     | 12/27 [00:00<00:00, 52.25it/s]"
     ]
    },
    {
     "name": "stdout",
     "output_type": "stream",
     "text": [
      "CategoricalNB model failed to execute\n",
      "Negative values in data passed to CategoricalNB (input X)\n"
     ]
    },
    {
     "name": "stderr",
     "output_type": "stream",
     "text": [
      "100%|██████████| 27/27 [00:00<00:00, 66.67it/s]\n"
     ]
    },
    {
     "name": "stdout",
     "output_type": "stream",
     "text": [
      "StackingClassifier model failed to execute\n",
      "__init__() missing 1 required positional argument: 'estimators'\n"
     ]
    }
   ],
   "source": [
    "log = []\n",
    "bestScore = 0\n",
    "for num_components in range(1,64):\n",
    "    pca = PCA(n_components=num_components) # Initialize a PLS object, specifying 10 components\n",
    "    #pls = LinearDiscriminantAnalysis(n_components=num_components)\n",
    "    pca.fit(xTrain, yTrainBinary) # Fit to the training data w/ binary label set\n",
    "    #transformed_pls_data = pls.x_scores_ # Extract the computed components on the training data\n",
    "\n",
    "    pca_X = pca.transform(xTrain)\n",
    "    pca_xTest = pca.transform(xTest)\n",
    "\n",
    "    lazyclass = LazyClassifier(verbose=0, ignore_warnings=False, custom_metric=None)\n",
    "    scores, predictions = lazyclass.fit(np.asarray(pca_X), np.asarray(pca_xTest), yTrainBinary, yTestBinary)\n",
    "\n",
    "    modelDict = lazyclass.provide_models(pca_X, pca_xTest, yTrainBinary, yTestBinary)\n",
    "    #iterate through scores and find model with highest balanced accuracy\n",
    "    pipe = modelDict[\"Perceptron\"]\n",
    "    #Perform grid search on best model\n",
    "    tuning_params = [{\n",
    "        \"classifier__penalty\": ['elasticnet'],\n",
    "        \"classifier__l1_ratio\": [0.48, 0.49, 0.5, 0.51, 0.52],\n",
    "        \"classifier__alpha\": [0.09, 0.1, 0.11],\n",
    "        \"classifier__tol\": [5e-6],\n",
    "        \"classifier__eta0\": [6e-5, 1e-4, 1e-3],\n",
    "        \"classifier__early_stopping\": [False],\n",
    "        \"classifier__class_weight\": [None],\n",
    "        \"classifier__warm_start\": [True]\n",
    "    }]\n",
    "\n",
    "    #for num_components in range(7,64): # Iterate through the use of 3 to 100 components  (3,101)\n",
    "\n",
    "    skf = StratifiedKFold(n_splits=5, shuffle=True, random_state=42)\n",
    "    grid = GridSearchCV(pipe, tuning_params, \n",
    "                        cv=skf.split(pca_X,yTrainBinary), scoring='accuracy', \n",
    "                        verbose=0, refit=True)\n",
    "    #print(pca_X.shape)\n",
    "    #print(yTrainBinary.shape)\n",
    "    grid.fit(pca_X,yTrainBinary)\n",
    "\n",
    "    if grid.best_score_ > bestScore:\n",
    "        bestScore = grid.best_score_\n",
    "        bestComponents = num_components\n",
    "        best_model = grid.best_estimator_\n",
    "        optimal_params = grid.best_params_\n"
   ]
  },
  {
   "cell_type": "code",
   "execution_count": 257,
   "metadata": {},
   "outputs": [
    {
     "name": "stdout",
     "output_type": "stream",
     "text": [
      "46\n",
      "Pipeline(steps=[('preprocessor',\n",
      "                 ColumnTransformer(transformers=[('numeric',\n",
      "                                                  Pipeline(steps=[('imputer',\n",
      "                                                                   SimpleImputer()),\n",
      "                                                                  ('scaler',\n",
      "                                                                   StandardScaler())]),\n",
      "                                                  Int64Index([ 0,  1,  2,  3,  4,  5,  6,  7,  8,  9, 10, 11, 12, 13, 14, 15, 16,\n",
      "            17, 18, 19, 20, 21, 22, 23, 24, 25, 26, 27, 28, 29, 30, 31, 32, 33,\n",
      "            34, 35, 36, 37, 38, 39, 40, 41, 42, 43, 44, 45],\n",
      "           dtype='int64')),\n",
      "                                                 ('categorical_low',\n",
      "                                                  Pipeline(steps=[('imputer...\n",
      "                                                                   OneHotEncoder(handle_unknown='ignore',\n",
      "                                                                                 sparse=False))]),\n",
      "                                                  Int64Index([], dtype='int64')),\n",
      "                                                 ('categorical_high',\n",
      "                                                  Pipeline(steps=[('imputer',\n",
      "                                                                   SimpleImputer(fill_value='missing',\n",
      "                                                                                 strategy='constant')),\n",
      "                                                                  ('encoding',\n",
      "                                                                   OrdinalEncoder())]),\n",
      "                                                  Int64Index([], dtype='int64'))])),\n",
      "                ('classifier',\n",
      "                 Perceptron(alpha=0.09, eta0=0.001, l1_ratio=0.49,\n",
      "                            penalty='elasticnet', random_state=42, tol=5e-06,\n",
      "                            warm_start=True))])\n",
      "{'classifier__alpha': 0.09, 'classifier__class_weight': None, 'classifier__early_stopping': False, 'classifier__eta0': 0.001, 'classifier__l1_ratio': 0.49, 'classifier__penalty': 'elasticnet', 'classifier__tol': 5e-06, 'classifier__warm_start': True}\n"
     ]
    }
   ],
   "source": [
    "print(bestComponents)\n",
    "print(best_model)\n",
    "print(optimal_params)"
   ]
  },
  {
   "attachments": {},
   "cell_type": "markdown",
   "metadata": {},
   "source": [
    "### Create Optimal Model Pipelin and PCA"
   ]
  },
  {
   "cell_type": "code",
   "execution_count": 258,
   "metadata": {},
   "outputs": [
    {
     "name": "stderr",
     "output_type": "stream",
     "text": [
      " 52%|█████▏    | 14/27 [00:00<00:00, 65.82it/s]"
     ]
    },
    {
     "name": "stdout",
     "output_type": "stream",
     "text": [
      "CategoricalNB model failed to execute\n",
      "Negative values in data passed to CategoricalNB (input X)\n"
     ]
    },
    {
     "name": "stderr",
     "output_type": "stream",
     "text": [
      "100%|██████████| 27/27 [00:00<00:00, 75.84it/s]"
     ]
    },
    {
     "name": "stdout",
     "output_type": "stream",
     "text": [
      "StackingClassifier model failed to execute\n",
      "__init__() missing 1 required positional argument: 'estimators'\n"
     ]
    },
    {
     "name": "stderr",
     "output_type": "stream",
     "text": [
      "\n"
     ]
    }
   ],
   "source": [
    "pca = PCA(n_components=bestComponents) # Initialize a PLS object, specifying 10 components\n",
    "#pls = LinearDiscriminantAnalysis(n_components=num_components)\n",
    "pca.fit(xTrain, yTrainBinary) # Fit to the training data w/ binary label set\n",
    "#transformed_pls_data = pls.x_scores_ # Extract the computed components on the training data\n",
    "\n",
    "pca_X = pca.transform(xTrain)\n",
    "pca_xTest = pca.transform(xTest)\n",
    "\n",
    "lazyclass = LazyClassifier(verbose=0, ignore_warnings=False, custom_metric=None)\n",
    "scores, predictions = lazyclass.fit(np.asarray(pca_X), np.asarray(pca_xTest), yTrainBinary, yTestBinary)\n",
    "\n",
    "modelDict = lazyclass.provide_models(pca_X, pca_xTest, yTrainBinary, yTestBinary)\n",
    "#iterate through scores and find model with highest balanced accuracy\n",
    "pipe = modelDict[\"Perceptron\"]"
   ]
  },
  {
   "cell_type": "code",
   "execution_count": 259,
   "metadata": {},
   "outputs": [],
   "source": [
    "clf = best_model\n",
    "\n",
    "y_pred_bin = pipe.predict(pca_xTest)\n",
    "\n",
    "#map predictions back to original labels\n",
    "y_pred_label = le.inverse_transform(y_pred_bin)\n",
    "y_test_label = le.inverse_transform(yTestBinary)\n"
   ]
  },
  {
   "cell_type": "markdown",
   "metadata": {},
   "source": [
    "### Create Confusion Matrix and Classification Report"
   ]
  },
  {
   "cell_type": "code",
   "execution_count": 260,
   "metadata": {},
   "outputs": [
    {
     "data": {
      "image/png": "[encoded data removed]",
      "text/plain": [
       "<Figure size 600x400 with 2 Axes>"
      ]
     },
     "metadata": {},
     "output_type": "display_data"
    },
    {
     "name": "stdout",
     "output_type": "stream",
     "text": [
      "              precision    recall  f1-score   support\n",
      "\n",
      "      Faller       0.50      0.60      0.55         5\n",
      "  Non-Faller       0.83      0.77      0.80        13\n",
      "\n",
      "    accuracy                           0.72        18\n",
      "   macro avg       0.67      0.68      0.67        18\n",
      "weighted avg       0.74      0.72      0.73        18\n",
      "\n"
     ]
    }
   ],
   "source": [
    "classes = ['Non-Faller', 'Faller']\n",
    "cm_python = confusion_matrix(y_true=y_test_label, y_pred=y_pred_label, labels=classes)\n",
    "\n",
    "plt.subplots(figsize=(6,4))\n",
    "\n",
    "group_counts = ['{0:0.0f}'.format(value) for value in\n",
    "                cm_python.flatten()]\n",
    "group_percentages = ['{0:.2%}'.format(value) for value in\n",
    "                     cm_python.flatten()/np.sum(cm_python)]\n",
    "labels = [f'{v1}\\n{v2}' for v1, v2 in\n",
    "          zip(group_counts,group_percentages)]\n",
    "labels = np.asarray(labels).reshape(2,2)\n",
    "df_cm_python = pd.DataFrame(cm_python)\n",
    "\n",
    "sns.heatmap(df_cm_python, annot=labels, fmt='',annot_kws={\"size\": 16}, xticklabels=classes, yticklabels=classes) # font size\n",
    "plt.title('Perceptron: Standard processing w/ normalization')\n",
    "plt.xlabel('Predicted')\n",
    "plt.ylabel('Actual') \n",
    "plt.yticks(rotation=0)\n",
    "plt.show()\n",
    "\n",
    "print(classification_report(y_true=y_test_label, y_pred=y_pred_label))"
   ]
  }
 ],
 "metadata": {
  "kernelspec": {
   "display_name": "Python 3.10.8 ('kba')",
   "language": "python",
   "name": "python3"
  },
  "language_info": {
   "codemirror_mode": {
    "name": "ipython",
    "version": 3
   },
   "file_extension": ".py",
   "mimetype": "text/x-python",
   "name": "python",
   "nbconvert_exporter": "python",
   "pygments_lexer": "ipython3",
   "version": "3.10.8 | packaged by conda-forge | (main, Nov  4 2022, 13:42:51) [MSC v.1916 64 bit (AMD64)]"
  },
  "orig_nbformat": 4,
  "vscode": {
   "interpreter": {
    "hash": "5d349dd511cd4e0f99132a14cf8fa9ad6fc13ca582fbb8d1253f3c76c77827a5"
   }
  }
 },
 "nbformat": 4,
 "nbformat_minor": 2
}
