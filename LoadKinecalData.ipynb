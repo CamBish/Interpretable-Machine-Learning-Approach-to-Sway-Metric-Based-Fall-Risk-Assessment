{
 "cells": [
  {
   "cell_type": "markdown",
   "metadata": {},
   "source": [
    "# Load Kinecal Data ELEC872 Project\n",
    "### Leonard Moen | November 16th 2022"
   ]
  },
  {
   "cell_type": "code",
   "execution_count": 3,
   "metadata": {},
   "outputs": [
    {
     "data": {
      "text/plain": [
       "<module 'LoadKinecalFunctions' from 'c:\\\\Users\\\\Cam Bish\\\\codeRepos\\\\KINECAL Balance Assessment\\\\KINECAL-Balance-Assessment\\\\LoadKinecalFunctions.py'>"
      ]
     },
     "execution_count": 3,
     "metadata": {},
     "output_type": "execute_result"
    }
   ],
   "source": [
    "import pandas as pd\n",
    "import numpy as np\n",
    "import os\n",
    "import importlib\n",
    "\n",
    "import LoadKinecalFunctions\n",
    "from LoadKinecalFunctions import *\n",
    "\n",
    "importlib.reload(LoadKinecalFunctions)"
   ]
  },
  {
   "cell_type": "code",
   "execution_count": 230,
   "metadata": {},
   "outputs": [],
   "source": [
    "\n",
    "excercise_list = ['Quiet-Standing-Eyes-Closed', 'Quiet-Standing-Eyes-Open', 'Semi-Tandem-Balance', 'Tandem-Balance']\n",
    "\n",
    "QS_Closed_df = readKinecalFiles(excercise_list[0]) \n",
    "QS_Open_df = readKinecalFiles(excercise_list[1]) \n",
    "Semi_Tandem_df = readKinecalFiles(excercise_list[2]) \n",
    "Tandem_df = readKinecalFiles(excercise_list[3]) \n",
    "#dataset_df.to_csv('test.csv')"
   ]
  },
  {
   "cell_type": "markdown",
   "metadata": {},
   "source": [
    "### Seperate X and Y Dataframes"
   ]
  },
  {
   "cell_type": "code",
   "execution_count": 240,
   "metadata": {},
   "outputs": [],
   "source": [
    "y_df = QS_Closed_df.iloc[:,0:8]\n",
    "y_df = y_df.drop(columns='movement')\n",
    "\n",
    "QS_Closed_x_df =QS_Closed_df.iloc[: ,9:-1]\n",
    "QS_Open_x_df =QS_Open_df.iloc[: ,9:-1]\n",
    "Semi_Tandem_x_df =Semi_Tandem_df.iloc[: ,9:-1]\n",
    "Tandem_x_df =Tandem_df.iloc[: ,9:-1]"
   ]
  },
  {
   "cell_type": "markdown",
   "metadata": {},
   "source": [
    "### Replace Missing Data With Mean of That Class"
   ]
  },
  {
   "cell_type": "code",
   "execution_count": 241,
   "metadata": {},
   "outputs": [
    {
     "name": "stdout",
     "output_type": "stream",
     "text": [
      "[ 2 14 15]\n",
      "[ 2 17 29 34 71]\n",
      "[ 2 14 17 31 33 60 66]\n",
      "[13 14 17 29 31 33 36 37 55 60 66 74 77]\n"
     ]
    }
   ],
   "source": [
    "QS_Closed_x_df = replaceMissingValues(QS_Closed_x_df,QS_Closed_y_df)\n",
    "QS_Open_x_df = replaceMissingValues(QS_Open_x_df,QS_Open_y_df)\n",
    "Semi_Tandem_x_df = replaceMissingValues(Semi_Tandem_x_df,Semi_Tandem_y_df)\n",
    "Tandem_x_df = replaceMissingValues(Tandem_x_df,Tandem_y_df)\n"
   ]
  }
 ],
 "metadata": {
  "kernelspec": {
   "display_name": "Python 3.10.8 ('KBA')",
   "language": "python",
   "name": "python3"
  },
  "language_info": {
   "codemirror_mode": {
    "name": "ipython",
    "version": 3
   },
   "file_extension": ".py",
   "mimetype": "text/x-python",
   "name": "python",
   "nbconvert_exporter": "python",
   "pygments_lexer": "ipython3",
   "version": "3.10.8"
  },
  "orig_nbformat": 4,
  "vscode": {
   "interpreter": {
    "hash": "f7b32258dea83e410861b8eedfe670c78b922d1ce09846c1bde93d1d4d312979"
   }
  }
 },
 "nbformat": 4,
 "nbformat_minor": 2
}
