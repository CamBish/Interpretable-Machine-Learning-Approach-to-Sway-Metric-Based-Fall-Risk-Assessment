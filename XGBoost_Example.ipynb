{
 "cells": [
  {
   "cell_type": "markdown",
   "metadata": {},
   "source": [
    "# Load Kinecal Data ELEC872 Project\n",
    "### Cameron Bishop | November 16th 2022"
   ]
  },
  {
   "cell_type": "code",
   "execution_count": 53,
   "metadata": {},
   "outputs": [
    {
     "data": {
      "text/plain": [
       "<module 'models' from 'c:\\\\Users\\\\camb7\\\\Code Repositories\\\\KINECAL Balance Assessment\\\\KINECAL-Balance-Assessment\\\\models.py'>"
      ]
     },
     "execution_count": 53,
     "metadata": {},
     "output_type": "execute_result"
    }
   ],
   "source": [
    "import pandas as pd\n",
    "import numpy as np\n",
    "import importlib\n",
    "import matplotlib.pyplot as plt\n",
    "import seaborn as sns\n",
    "import time\n",
    "\n",
    "from hyperopt import STATUS_OK, Trials, fmin, hp, tpe\n",
    "from hyperopt.pyll import scope\n",
    "from hyperopt.pyll.stochastic import sample\n",
    "import random\n",
    "\n",
    "import xgboost\n",
    "from sklearn.model_selection import train_test_split, GridSearchCV, StratifiedKFold, cross_val_score\n",
    "from sklearn.preprocessing import LabelEncoder #Standardization and conversion of categorical labels to binary representation\n",
    "from sklearn.metrics import confusion_matrix, classification_report, accuracy_score\n",
    "\n",
    "import LoadKinecalFunctions\n",
    "from LoadKinecalFunctions import *\n",
    "importlib.reload(LoadKinecalFunctions)\n",
    "from const import User, Exercise\n",
    "import models\n",
    "from models import *\n",
    "importlib.reload(models)\n",
    "\n"
   ]
  },
  {
   "cell_type": "code",
   "execution_count": 54,
   "metadata": {},
   "outputs": [],
   "source": [
    "user = User.CD\n",
    "excerciseList = [Exercise.QSECFS, Exercise.QSEOFS, Exercise.STS, Exercise.TS]\n",
    "\n",
    "QSClosedDf = readKinecalFiles(excerciseList[0], user) \n",
    "QSOpenDf = readKinecalFiles(excerciseList[1], user) \n",
    "SemiTandemDf = readKinecalFiles(excerciseList[2], user) \n",
    "TandemDf = readKinecalFiles(excerciseList[3], user) \n"
   ]
  },
  {
   "cell_type": "markdown",
   "metadata": {},
   "source": [
    "### Seperate X and Y Dataframes"
   ]
  },
  {
   "cell_type": "code",
   "execution_count": 55,
   "metadata": {},
   "outputs": [
    {
     "name": "stdout",
     "output_type": "stream",
     "text": [
      "   part_id group sex  height  weight   BMI recorded_in_the_lab  \\\n",
      "0       10    HA   m    1.85    77.0  22.5                   1   \n",
      "1      100    NF   f    1.55    82.5  34.3                   1   \n",
      "2       11    HA   f    1.57    51.5  20.9                   1   \n",
      "3       12    HA   m    1.64    68.5  25.5                   1   \n",
      "4       13    HA   m    1.78    85.0  26.8                   1   \n",
      "..     ...   ...  ..     ...     ...   ...                 ...   \n",
      "85      84   FHm   f    1.56    60.0  24.7                   0   \n",
      "86      87   FHs   f    1.60    77.1  30.1                   0   \n",
      "87       9    HA   m    1.69    75.0  26.3                   1   \n",
      "88      92    NF   m    1.83    97.0  29.0                   0   \n",
      "89      96   FHs   m    1.78    81.2  25.6                   0   \n",
      "\n",
      "   clinically_at_risk  \n",
      "0                   0  \n",
      "1                   0  \n",
      "2                   0  \n",
      "3                   0  \n",
      "4                   0  \n",
      "..                ...  \n",
      "85                  0  \n",
      "86                  1  \n",
      "87                  0  \n",
      "88                  0  \n",
      "89                  0  \n",
      "\n",
      "[90 rows x 8 columns]\n"
     ]
    }
   ],
   "source": [
    "yDf = QSClosedDf.iloc[:, 0:9]\n",
    "yDf = yDf.drop(columns='movement')\n",
    "\n",
    "QSClosedXDf = QSClosedDf.iloc[:, 9:-1]\n",
    "QSOpenXDf = QSOpenDf.iloc[:, 9:-1]\n",
    "SemiTandemXDf = SemiTandemDf.iloc[:, 9:-1]\n",
    "TandemXDf = TandemDf.iloc[:, 9:-1]\n",
    "\n",
    "print(yDf)"
   ]
  },
  {
   "cell_type": "markdown",
   "metadata": {},
   "source": [
    "### Replace Missing Data With Mean of That Class"
   ]
  },
  {
   "cell_type": "code",
   "execution_count": 56,
   "metadata": {},
   "outputs": [
    {
     "name": "stdout",
     "output_type": "stream",
     "text": [
      "[ 2 14 15]\n",
      "[ 2 17 29 34 71]\n",
      "[ 2 14 17 31 33 60 66]\n",
      "[13 14 17 29 31 33 36 37 55 60 66 74 77]\n"
     ]
    }
   ],
   "source": [
    "QSClosedXDf = replaceMissingValues(QSClosedXDf, yDf)\n",
    "QSOpenXDf = replaceMissingValues(QSOpenXDf, yDf)\n",
    "SemiTandemXDf = replaceMissingValues(SemiTandemXDf, yDf)\n",
    "TandemXDf = replaceMissingValues(TandemXDf, yDf)\n"
   ]
  },
  {
   "cell_type": "markdown",
   "metadata": {},
   "source": [
    "### Perform Sample Normalization"
   ]
  },
  {
   "cell_type": "code",
   "execution_count": 57,
   "metadata": {},
   "outputs": [],
   "source": [
    "#print(np.asarray(QS_Closed_x_df.iloc[0,:].values))\n",
    "QSClosedXNormDf = datasetNormalization(QSClosedXDf)\n",
    "QSOpenXNormDf = datasetNormalization(QSOpenXDf)\n",
    "SemiTandemXNormDf = datasetNormalization(SemiTandemXDf)\n",
    "TandemXNormDf = datasetNormalization(TandemXDf)"
   ]
  },
  {
   "cell_type": "markdown",
   "metadata": {},
   "source": [
    "### Combine Excercises Into One Dataset"
   ]
  },
  {
   "cell_type": "code",
   "execution_count": 58,
   "metadata": {},
   "outputs": [
    {
     "name": "stdout",
     "output_type": "stream",
     "text": [
      "(90, 16) (90, 16) (90, 16) (90, 16)\n",
      "(90, 64)\n"
     ]
    }
   ],
   "source": [
    "print(QSClosedXNormDf.shape, QSOpenXNormDf.shape, SemiTandemXNormDf.shape, TandemXNormDf.shape)\n",
    "combinedXNormDf = pd.concat([QSClosedXNormDf, QSOpenXNormDf, SemiTandemXNormDf, TandemXDf], axis=1)\n",
    "print(combinedXNormDf.shape)"
   ]
  },
  {
   "cell_type": "markdown",
   "metadata": {},
   "source": [
    "### Seperate Into Training and Testing Sets"
   ]
  },
  {
   "cell_type": "code",
   "execution_count": 59,
   "metadata": {},
   "outputs": [],
   "source": [
    "xTrain, xTest, yTrain, yTest = train_test_split(combinedXNormDf, yDf, test_size=0.2, random_state=42)\n",
    "\n",
    "le = LabelEncoder()\n",
    "\n",
    "yTest_orig = yTest\n",
    "yTrain_orig = yTrain\n",
    "\n",
    "xTest_orig = xTest\n",
    "xTrain_orig = xTrain\n",
    "\n",
    "yTest = le.fit_transform(yTest.group.values)\n",
    "yTrain = le.fit_transform(yTrain.group.values)\n",
    "\n",
    "X = np.asarray(combinedXNormDf)\n",
    "y = np.asarray(le.fit_transform(yDf.group.values))\n",
    "\n",
    "xTest = np.asarray(xTest)\n",
    "xTrain = np.asarray(xTrain) \n",
    "\n"
   ]
  },
  {
   "cell_type": "markdown",
   "metadata": {},
   "source": [
    "### Train XGBoost Model"
   ]
  },
  {
   "cell_type": "code",
   "execution_count": 71,
   "metadata": {},
   "outputs": [
    {
     "name": "stdout",
     "output_type": "stream",
     "text": [
      "100%|██████████| 200/200 [05:26<00:00,  1.63s/trial, best loss: -0.11047619047619046]\n",
      "Best parameters: {'colsample_bytree': 0.581073142624591, 'eta': 0.07308961138214025, 'gamma': 8.746543148247016, 'max_depth': 14.0, 'min_child_weight': 9.0, 'n_estimators': 150.0, 'objective': 1, 'reg_alpha': 125.0, 'reg_lambda': 0.3590171171629857, 'tree_method': 1}\n"
     ]
    }
   ],
   "source": [
    "\n",
    "param_space = {\n",
    "    'eta': hp.loguniform('eta', np.log(0.01), np.log(1)),\n",
    "    'tree_method': hp.choice('tree_method', ['exact', 'gpu_hist']),\n",
    "    'objective': hp.choice('objective', ['multi:softmax', 'multi:softprob']),\n",
    "    'max_depth': scope.int(hp.quniform(\"max_depth\", 3, 18, 1)),\n",
    "    'n_estimators': scope.int(hp.quniform(\"n_estimators\", 5, 200, 1)),\n",
    "    'gamma': hp.uniform('gamma', 1,9),\n",
    "    'alpha' : hp.quniform('reg_alpha', 40,180,1),\n",
    "    'lambda' : hp.uniform('reg_lambda', 0,1),\n",
    "    'colsample_bytree' : hp.uniform('colsample_bytree', 0.5,1),\n",
    "    'min_child_weight' : scope.int(hp.quniform('min_child_weight', 0, 10, 1)),\n",
    "}\n",
    "def objective(params):\n",
    "        clf = xgboost.XGBClassifier(**params)\n",
    "        skf = StratifiedKFold(n_splits=5, shuffle=True, random_state=42)\n",
    "        score = cross_val_score(clf, xTrain, yTrain, cv=skf).mean()\n",
    "        return {'loss': -score, 'status': STATUS_OK}\n",
    "\n",
    "trials = Trials()\n",
    "best_param = fmin(fn=objective, \n",
    "                    space=param_space, \n",
    "                    algo=tpe.suggest, \n",
    "                    max_evals=200, \n",
    "                    trials=trials)\n",
    "print(f\"Best parameters: {best_param}\")"
   ]
  },
  {
   "cell_type": "markdown",
   "metadata": {},
   "source": [
    "### Create Optimal XGBoost Model"
   ]
  },
  {
   "cell_type": "code",
   "execution_count": 45,
   "metadata": {},
   "outputs": [
    {
     "ename": "XGBoostError",
     "evalue": "Invalid Parameter format for max_depth expect int but value='7.0'",
     "output_type": "error",
     "traceback": [
      "\u001b[1;31m---------------------------------------------------------------------------\u001b[0m",
      "\u001b[1;31mXGBoostError\u001b[0m                              Traceback (most recent call last)",
      "Cell \u001b[1;32mIn [45], line 5\u001b[0m\n\u001b[0;32m      1\u001b[0m \u001b[39m#optimalParameters = [{'kernel': ['rbf'], 'gamma':['scale'],'C':[250]}]\u001b[39;00m\n\u001b[0;32m      2\u001b[0m \u001b[39m#svc = train_svm(xTrain,yTrain.group.values.shape,optimalParameters,modelDir,modelName)\u001b[39;00m\n\u001b[0;32m      4\u001b[0m clf \u001b[39m=\u001b[39m xgb\u001b[39m.\u001b[39mXGBClassifier(\u001b[39m*\u001b[39m\u001b[39m*\u001b[39mbest_hyperparams)\n\u001b[1;32m----> 5\u001b[0m clf\u001b[39m.\u001b[39;49mfit(xTrain, yTrain)\n\u001b[0;32m      7\u001b[0m y_pred \u001b[39m=\u001b[39m clf\u001b[39m.\u001b[39mpredict(xTest)\n",
      "File \u001b[1;32mc:\\Users\\camb7\\anaconda3\\envs\\kba\\lib\\site-packages\\xgboost\\core.py:620\u001b[0m, in \u001b[0;36mrequire_keyword_args.<locals>.throw_if.<locals>.inner_f\u001b[1;34m(*args, **kwargs)\u001b[0m\n\u001b[0;32m    618\u001b[0m \u001b[39mfor\u001b[39;00m k, arg \u001b[39min\u001b[39;00m \u001b[39mzip\u001b[39m(sig\u001b[39m.\u001b[39mparameters, args):\n\u001b[0;32m    619\u001b[0m     kwargs[k] \u001b[39m=\u001b[39m arg\n\u001b[1;32m--> 620\u001b[0m \u001b[39mreturn\u001b[39;00m func(\u001b[39m*\u001b[39m\u001b[39m*\u001b[39mkwargs)\n",
      "File \u001b[1;32mc:\\Users\\camb7\\anaconda3\\envs\\kba\\lib\\site-packages\\xgboost\\sklearn.py:1516\u001b[0m, in \u001b[0;36mXGBClassifier.fit\u001b[1;34m(self, X, y, sample_weight, base_margin, eval_set, eval_metric, early_stopping_rounds, verbose, xgb_model, sample_weight_eval_set, base_margin_eval_set, feature_weights, callbacks)\u001b[0m\n\u001b[0;32m   1488\u001b[0m (\n\u001b[0;32m   1489\u001b[0m     model,\n\u001b[0;32m   1490\u001b[0m     metric,\n\u001b[1;32m   (...)\u001b[0m\n\u001b[0;32m   1495\u001b[0m     xgb_model, eval_metric, params, early_stopping_rounds, callbacks\n\u001b[0;32m   1496\u001b[0m )\n\u001b[0;32m   1497\u001b[0m train_dmatrix, evals \u001b[39m=\u001b[39m _wrap_evaluation_matrices(\n\u001b[0;32m   1498\u001b[0m     missing\u001b[39m=\u001b[39m\u001b[39mself\u001b[39m\u001b[39m.\u001b[39mmissing,\n\u001b[0;32m   1499\u001b[0m     X\u001b[39m=\u001b[39mX,\n\u001b[1;32m   (...)\u001b[0m\n\u001b[0;32m   1513\u001b[0m     feature_types\u001b[39m=\u001b[39m\u001b[39mself\u001b[39m\u001b[39m.\u001b[39mfeature_types,\n\u001b[0;32m   1514\u001b[0m )\n\u001b[1;32m-> 1516\u001b[0m \u001b[39mself\u001b[39m\u001b[39m.\u001b[39m_Booster \u001b[39m=\u001b[39m train(\n\u001b[0;32m   1517\u001b[0m     params,\n\u001b[0;32m   1518\u001b[0m     train_dmatrix,\n\u001b[0;32m   1519\u001b[0m     \u001b[39mself\u001b[39;49m\u001b[39m.\u001b[39;49mget_num_boosting_rounds(),\n\u001b[0;32m   1520\u001b[0m     evals\u001b[39m=\u001b[39;49mevals,\n\u001b[0;32m   1521\u001b[0m     early_stopping_rounds\u001b[39m=\u001b[39;49mearly_stopping_rounds,\n\u001b[0;32m   1522\u001b[0m     evals_result\u001b[39m=\u001b[39;49mevals_result,\n\u001b[0;32m   1523\u001b[0m     obj\u001b[39m=\u001b[39;49mobj,\n\u001b[0;32m   1524\u001b[0m     custom_metric\u001b[39m=\u001b[39;49mmetric,\n\u001b[0;32m   1525\u001b[0m     verbose_eval\u001b[39m=\u001b[39;49mverbose,\n\u001b[0;32m   1526\u001b[0m     xgb_model\u001b[39m=\u001b[39;49mmodel,\n\u001b[0;32m   1527\u001b[0m     callbacks\u001b[39m=\u001b[39;49mcallbacks,\n\u001b[0;32m   1528\u001b[0m )\n\u001b[0;32m   1530\u001b[0m \u001b[39mif\u001b[39;00m \u001b[39mnot\u001b[39;00m callable(\u001b[39mself\u001b[39m\u001b[39m.\u001b[39mobjective):\n\u001b[0;32m   1531\u001b[0m     \u001b[39mself\u001b[39m\u001b[39m.\u001b[39mobjective \u001b[39m=\u001b[39m params[\u001b[39m\"\u001b[39m\u001b[39mobjective\u001b[39m\u001b[39m\"\u001b[39m]\n",
      "File \u001b[1;32mc:\\Users\\camb7\\anaconda3\\envs\\kba\\lib\\site-packages\\xgboost\\core.py:620\u001b[0m, in \u001b[0;36mrequire_keyword_args.<locals>.throw_if.<locals>.inner_f\u001b[1;34m(*args, **kwargs)\u001b[0m\n\u001b[0;32m    618\u001b[0m \u001b[39mfor\u001b[39;00m k, arg \u001b[39min\u001b[39;00m \u001b[39mzip\u001b[39m(sig\u001b[39m.\u001b[39mparameters, args):\n\u001b[0;32m    619\u001b[0m     kwargs[k] \u001b[39m=\u001b[39m arg\n\u001b[1;32m--> 620\u001b[0m \u001b[39mreturn\u001b[39;00m func(\u001b[39m*\u001b[39m\u001b[39m*\u001b[39mkwargs)\n",
      "File \u001b[1;32mc:\\Users\\camb7\\anaconda3\\envs\\kba\\lib\\site-packages\\xgboost\\training.py:185\u001b[0m, in \u001b[0;36mtrain\u001b[1;34m(params, dtrain, num_boost_round, evals, obj, feval, maximize, early_stopping_rounds, evals_result, verbose_eval, xgb_model, callbacks, custom_metric)\u001b[0m\n\u001b[0;32m    183\u001b[0m \u001b[39mif\u001b[39;00m cb_container\u001b[39m.\u001b[39mbefore_iteration(bst, i, dtrain, evals):\n\u001b[0;32m    184\u001b[0m     \u001b[39mbreak\u001b[39;00m\n\u001b[1;32m--> 185\u001b[0m bst\u001b[39m.\u001b[39;49mupdate(dtrain, i, obj)\n\u001b[0;32m    186\u001b[0m \u001b[39mif\u001b[39;00m cb_container\u001b[39m.\u001b[39mafter_iteration(bst, i, dtrain, evals):\n\u001b[0;32m    187\u001b[0m     \u001b[39mbreak\u001b[39;00m\n",
      "File \u001b[1;32mc:\\Users\\camb7\\anaconda3\\envs\\kba\\lib\\site-packages\\xgboost\\core.py:1918\u001b[0m, in \u001b[0;36mBooster.update\u001b[1;34m(self, dtrain, iteration, fobj)\u001b[0m\n\u001b[0;32m   1915\u001b[0m \u001b[39mself\u001b[39m\u001b[39m.\u001b[39m_validate_dmatrix_features(dtrain)\n\u001b[0;32m   1917\u001b[0m \u001b[39mif\u001b[39;00m fobj \u001b[39mis\u001b[39;00m \u001b[39mNone\u001b[39;00m:\n\u001b[1;32m-> 1918\u001b[0m     _check_call(_LIB\u001b[39m.\u001b[39;49mXGBoosterUpdateOneIter(\u001b[39mself\u001b[39;49m\u001b[39m.\u001b[39;49mhandle,\n\u001b[0;32m   1919\u001b[0m                                             ctypes\u001b[39m.\u001b[39;49mc_int(iteration),\n\u001b[0;32m   1920\u001b[0m                                             dtrain\u001b[39m.\u001b[39;49mhandle))\n\u001b[0;32m   1921\u001b[0m \u001b[39melse\u001b[39;00m:\n\u001b[0;32m   1922\u001b[0m     pred \u001b[39m=\u001b[39m \u001b[39mself\u001b[39m\u001b[39m.\u001b[39mpredict(dtrain, output_margin\u001b[39m=\u001b[39m\u001b[39mTrue\u001b[39;00m, training\u001b[39m=\u001b[39m\u001b[39mTrue\u001b[39;00m)\n",
      "File \u001b[1;32mc:\\Users\\camb7\\anaconda3\\envs\\kba\\lib\\site-packages\\xgboost\\core.py:279\u001b[0m, in \u001b[0;36m_check_call\u001b[1;34m(ret)\u001b[0m\n\u001b[0;32m    268\u001b[0m \u001b[39m\"\"\"Check the return value of C API call\u001b[39;00m\n\u001b[0;32m    269\u001b[0m \n\u001b[0;32m    270\u001b[0m \u001b[39mThis function will raise exception when error occurs.\u001b[39;00m\n\u001b[1;32m   (...)\u001b[0m\n\u001b[0;32m    276\u001b[0m \u001b[39m    return value from API calls\u001b[39;00m\n\u001b[0;32m    277\u001b[0m \u001b[39m\"\"\"\u001b[39;00m\n\u001b[0;32m    278\u001b[0m \u001b[39mif\u001b[39;00m ret \u001b[39m!=\u001b[39m \u001b[39m0\u001b[39m:\n\u001b[1;32m--> 279\u001b[0m     \u001b[39mraise\u001b[39;00m XGBoostError(py_str(_LIB\u001b[39m.\u001b[39mXGBGetLastError()))\n",
      "\u001b[1;31mXGBoostError\u001b[0m: Invalid Parameter format for max_depth expect int but value='7.0'"
     ]
    }
   ],
   "source": [
    "#optimalParameters = [{'kernel': ['rbf'], 'gamma':['scale'],'C':[250]}]\n",
    "#svc = train_svm(xTrain,yTrain.group.values.shape,optimalParameters,modelDir,modelName)\n",
    "\n",
    "clf = xgb.XGBClassifier(**best_hyperparams)\n",
    "clf.fit(xTrain, yTrain)\n",
    "\n",
    "y_pred = clf.predict(xTest)\n"
   ]
  },
  {
   "cell_type": "markdown",
   "metadata": {},
   "source": [
    "### Create Confusion Matrix and Classification Report"
   ]
  },
  {
   "cell_type": "code",
   "execution_count": null,
   "metadata": {},
   "outputs": [],
   "source": [
    "classes = ['HA','NF','FHs','FHm']\n",
    "cm_python = confusion_matrix(y_true=yTest, y_pred=y_pred, labels=classes)\n",
    "\n",
    "plt.subplots(figsize=(6,4))\n",
    "\n",
    "group_counts = ['{0:0.0f}'.format(value) for value in\n",
    "                cm_python.flatten()]\n",
    "group_percentages = ['{0:.2%}'.format(value) for value in\n",
    "                     cm_python.flatten()/np.sum(cm_python)]\n",
    "labels = [f'{v1}\\n{v2}' for v1, v2 in\n",
    "          zip(group_counts,group_percentages)]\n",
    "labels = np.asarray(labels).reshape(4,4)\n",
    "df_cm_python = pd.DataFrame(cm_python)\n",
    "\n",
    "sns.heatmap(df_cm_python, annot=labels, fmt='',annot_kws={\"size\": 16}, xticklabels=classes, yticklabels=classes) # font size\n",
    "plt.title('Test Model: Standard processing w/normalization')\n",
    "plt.xlabel('Predicted')\n",
    "plt.ylabel('Actual')\n",
    "plt.yticks(rotation=0)\n",
    "plt.show()\n",
    "\n",
    "\n",
    "print(classification_report(y_true=yTest.group.values, y_pred=y_pred))\n"
   ]
  },
  {
   "cell_type": "markdown",
   "metadata": {},
   "source": [
    "### Remap Labels to Be Binary Single Fallers Included as Fallers"
   ]
  },
  {
   "cell_type": "code",
   "execution_count": null,
   "metadata": {},
   "outputs": [],
   "source": [
    "yTrainBinary = binaryLabelRemapping(yTrain, True)\n",
    "yTestBinary = binaryLabelRemapping(yTest, True)"
   ]
  },
  {
   "cell_type": "markdown",
   "metadata": {},
   "source": [
    "### Tune XGBoost"
   ]
  },
  {
   "cell_type": "code",
   "execution_count": null,
   "metadata": {},
   "outputs": [],
   "source": [
    "tuned_parameters = [{'kernel': ['rbf'], 'gamma': [1e-4, 1e-5, 'scale', 'auto'], 'C': [100, 250, 500, 750, 1000]},\n",
    "                        {'kernel': ['sigmoid'], 'gamma': [1e-4, 1e-5, 'scale', 'auto'], 'C': [100, 250, 500, 750, 1000]}]\n",
    "modelDir = './models/'\n",
    "modelName = 'tunedSVM5Fold_binarylabelsTrue'\n",
    "svmModel = tune_svm(xTrain,yTrainBinary.label_binary.values, tuned_parameters, 5)"
   ]
  },
  {
   "cell_type": "markdown",
   "metadata": {},
   "source": [
    "### Train XGBoost with Optimal Parameters For Binary Labels Single Fallers are Fallers"
   ]
  },
  {
   "cell_type": "code",
   "execution_count": null,
   "metadata": {},
   "outputs": [],
   "source": [
    "clf = svm.SVC(kernel = 'rbf' , C = 250, gamma='scale', probability=True)\n",
    "clf.fit(xTrain, yTrainBinary.label_binary.values)\n",
    "\n",
    "y_pred = clf.predict(xTest)"
   ]
  },
  {
   "cell_type": "markdown",
   "metadata": {},
   "source": [
    "### Create Confusion Matrix For Binary Labels"
   ]
  },
  {
   "cell_type": "code",
   "execution_count": null,
   "metadata": {},
   "outputs": [],
   "source": [
    "classes = ['Faller', 'Non-Faller']\n",
    "cm_python = confusion_matrix(y_true=yTestBinary.label_binary.values, y_pred=y_pred, labels=classes)\n",
    "\n",
    "plt.subplots(figsize=(6,4))\n",
    "\n",
    "group_counts = ['{0:0.0f}'.format(value) for value in\n",
    "                cm_python.flatten()]\n",
    "group_percentages = ['{0:.2%}'.format(value) for value in\n",
    "                     cm_python.flatten()/np.sum(cm_python)]\n",
    "labels = [f'{v1}\\n{v2}' for v1, v2 in\n",
    "          zip(group_counts,group_percentages)]\n",
    "labels = np.asarray(labels).reshape(2,2)\n",
    "df_cm_python = pd.DataFrame(cm_python)\n",
    "\n",
    "sns.heatmap(df_cm_python, annot=labels, fmt='',annot_kws={\"size\": 16}, xticklabels=classes, yticklabels=classes) # font size\n",
    "plt.title('Test Model: Standard processing w/normalization')\n",
    "plt.xlabel('Predicted')\n",
    "plt.ylabel('Actual')\n",
    "plt.yticks(rotation=0)\n",
    "plt.show()\n",
    "\n",
    "\n",
    "print(classification_report(y_true=yTestBinary.label_binary.values, y_pred=y_pred))\n"
   ]
  },
  {
   "cell_type": "markdown",
   "metadata": {},
   "source": [
    "### Obtain Missclassifications"
   ]
  },
  {
   "cell_type": "code",
   "execution_count": null,
   "metadata": {},
   "outputs": [],
   "source": [
    "missclassifications = yTestBinary.loc[yTestBinary.label_binary!=y_pred]\n",
    "print(missclassifications)"
   ]
  },
  {
   "cell_type": "markdown",
   "metadata": {},
   "source": [
    "### Remap Labels to Be Binary Single Fallers Included as Non-Fallers"
   ]
  },
  {
   "cell_type": "code",
   "execution_count": null,
   "metadata": {},
   "outputs": [],
   "source": [
    "yTrainBinary = binaryLabelRemapping(yTrain, False)\n",
    "yTestBinary = binaryLabelRemapping(yTest, False)"
   ]
  },
  {
   "cell_type": "markdown",
   "metadata": {},
   "source": [
    "### Tune XGBoost"
   ]
  },
  {
   "cell_type": "code",
   "execution_count": null,
   "metadata": {},
   "outputs": [],
   "source": [
    "tuned_parameters = [{'kernel': ['rbf'], 'gamma': [1e-4, 1e-5, 'scale', 'auto'], 'C': [100, 250, 500, 750, 1000]},\n",
    "                        {'kernel': ['sigmoid'], 'gamma': [1e-4, 1e-5, 'scale', 'auto'], 'C': [100, 250, 500, 750, 1000]}]\n",
    "modelDir = './models/'\n",
    "modelName = 'tunedSVM5Fold_binarylabelsFalse'\n",
    "svmModel = tune_svm(xTrain,yTrainBinary.label_binary.values, tuned_parameters, 5)"
   ]
  },
  {
   "cell_type": "markdown",
   "metadata": {},
   "source": [
    "### Train XGBoost with Optimal Parameters Single Fallers Considered Non-Fallers"
   ]
  },
  {
   "cell_type": "code",
   "execution_count": null,
   "metadata": {},
   "outputs": [],
   "source": [
    "clf = svm.SVC(kernel = 'sigmoid' , C = 750, gamma=0.0001, probability=True)\n",
    "clf.fit(xTrain, yTrainBinary.label_binary.values)\n",
    "\n",
    "y_pred = clf.predict(xTest)"
   ]
  },
  {
   "cell_type": "markdown",
   "metadata": {},
   "source": [
    "### Create Confusion Matrix For Binary Labels FHs -> Non-Fallers"
   ]
  },
  {
   "cell_type": "code",
   "execution_count": null,
   "metadata": {},
   "outputs": [],
   "source": [
    "classes = ['Faller', 'Non-Faller']\n",
    "cm_python = confusion_matrix(y_true=yTestBinary.label_binary.values, y_pred=y_pred, labels=classes)\n",
    "\n",
    "plt.subplots(figsize=(6,4))\n",
    "\n",
    "group_counts = ['{0:0.0f}'.format(value) for value in\n",
    "                cm_python.flatten()]\n",
    "group_percentages = ['{0:.2%}'.format(value) for value in\n",
    "                     cm_python.flatten()/np.sum(cm_python)]\n",
    "labels = [f'{v1}\\n{v2}' for v1, v2 in\n",
    "          zip(group_counts,group_percentages)]\n",
    "labels = np.asarray(labels).reshape(2,2)\n",
    "df_cm_python = pd.DataFrame(cm_python)\n",
    "\n",
    "sns.heatmap(df_cm_python, annot=labels, fmt='',annot_kws={\"size\": 16}, xticklabels=classes, yticklabels=classes) # font size\n",
    "plt.title('Test Model: Standard processing w/normalization')\n",
    "plt.xlabel('Predicted')\n",
    "plt.ylabel('Actual')\n",
    "plt.yticks(rotation=0)\n",
    "plt.show()\n",
    "\n",
    "\n",
    "print(classification_report(y_true=yTestBinary.label_binary.values, y_pred=y_pred))\n"
   ]
  },
  {
   "cell_type": "markdown",
   "metadata": {},
   "source": [
    "### Obtain Missclassifications"
   ]
  },
  {
   "cell_type": "code",
   "execution_count": null,
   "metadata": {},
   "outputs": [],
   "source": [
    "missclassifications = yTestBinary.loc[yTestBinary.label_binary!=y_pred]\n",
    "print(missclassifications)"
   ]
  }
 ],
 "metadata": {
  "kernelspec": {
   "display_name": "Python 3.10.8 ('kba')",
   "language": "python",
   "name": "python3"
  },
  "language_info": {
   "codemirror_mode": {
    "name": "ipython",
    "version": 3
   },
   "file_extension": ".py",
   "mimetype": "text/x-python",
   "name": "python",
   "nbconvert_exporter": "python",
   "pygments_lexer": "ipython3",
   "version": "3.10.8"
  },
  "orig_nbformat": 4,
  "vscode": {
   "interpreter": {
    "hash": "5d349dd511cd4e0f99132a14cf8fa9ad6fc13ca582fbb8d1253f3c76c77827a5"
   }
  }
 },
 "nbformat": 4,
 "nbformat_minor": 2
}
